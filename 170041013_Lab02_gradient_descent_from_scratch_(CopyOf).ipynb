{
  "nbformat": 4,
  "nbformat_minor": 0,
  "metadata": {
    "kernelspec": {
      "name": "python3",
      "display_name": "Python 3",
      "language": "python"
    },
    "language_info": {
      "name": "python",
      "version": "3.7.6",
      "mimetype": "text/x-python",
      "codemirror_mode": {
        "name": "ipython",
        "version": 3
      },
      "pygments_lexer": "ipython3",
      "nbconvert_exporter": "python",
      "file_extension": ".py"
    },
    "colab": {
      "name": "Copy of 170041013 - Lab02 - gradient-descent-from-scratch.ipynb",
      "provenance": [],
      "collapsed_sections": [],
      "include_colab_link": true
    }
  },
  "cells": [
    {
      "cell_type": "markdown",
      "metadata": {
        "id": "view-in-github",
        "colab_type": "text"
      },
      "source": [
        "<a href=\"https://colab.research.google.com/github/kobi-2/IUT-Lab-ML/blob/master/170041013_Lab02_gradient_descent_from_scratch_(CopyOf).ipynb\" target=\"_parent\"><img src=\"https://colab.research.google.com/assets/colab-badge.svg\" alt=\"Open In Colab\"/></a>"
      ]
    },
    {
      "cell_type": "markdown",
      "metadata": {
        "id": "SlNecCDgYqG0"
      },
      "source": [
        "In this week's lab you are going to implement Gradient Descent Algorithm from the scratch. To understand how it works you will need some basic math and logical thinking. Gradient Descent can be used in different machine learning algorithms, including neural networks. For this lab, you are going to build it for a linear regression problem, because it’s easy to understand and visualize.\n",
        "\n",
        "### Linear Regression\n",
        "\n",
        "In order to fit the regression line, we tune two parameters: $slope (b_1)$ and $intercept (b_0).$ Once optimal parameters are found, we usually evaluate results with a $ mean squared error (MSE).$ We remember that smaller MSE — better. In other words, we are trying to minimize it. For a look back you can have a look at the previous week's lab [here](https://www.kaggle.com/redwankarimsony/simple-linear-regression-for-beginners)\n",
        "\n",
        "\n",
        "### Gradient Descent\n",
        "Minimization of the function is the exact task of the Gradient Descent algorithm. It takes parameters and tunes them till the local minimum is reached.\n",
        "\n",
        "Let’s break down the process in steps and explain what is actually going on under the hood:\n",
        "1. First, we take a function we would like to minimize, and very frequently it will be Mean Squared Errors function. \n",
        "2. We identify parameters, such as m and b in the regression function and we take partial derivatives of MSE with respect to these parameters. This is the most crucial and hardest part. Each derived function can tell which way we should tune parameters and by how much.\n",
        "2. We update parameters by iterating through our derived functions and gradually minimizing MSE. In this process, we use an additional parameter **learning rate** which helps us define the step we take towards updating parameters with each iteration. By setting a smaller learning rate we make sure our model wouldn’t jump over a minimum point of MSE and converge nicely.\n",
        "\n",
        "\n",
        "The formula of the Mean Squared Error MSE is as follows: \n",
        "$$ MSE = \\frac{1}{n}\\sum\\limits_{i=1}^n(y_{i} - \\hat{y})^2$$  where$$ \\hat{y} = b_0 + b_1x_i$$"
      ]
    },
    {
      "cell_type": "markdown",
      "metadata": {
        "id": "af3bLAhkYqG5"
      },
      "source": [
        "## Loading Libraries"
      ]
    },
    {
      "cell_type": "code",
      "metadata": {
        "trusted": true,
        "id": "Pmee75tpYqG8"
      },
      "source": [
        "import numpy as np\n",
        "import pandas as pd\n",
        "from sklearn.metrics import mean_squared_error"
      ],
      "execution_count": null,
      "outputs": []
    },
    {
      "cell_type": "code",
      "metadata": {
        "trusted": true,
        "id": "Y3HlvwdsYqHQ"
      },
      "source": [
        "# data = pd.read_csv('../input/auto-insurance-in-sweden/swedish_insurance.csv')\n",
        "data = pd.read_csv('https://docs.google.com/spreadsheets/d/e/2PACX-1vT5HJttPQr4IxRmaHDRGaO8IdXaDu_nvcGPZpWfTiqX6UxQ_5FnEx-E-T8FJbea41V0W2bEDSojp3on/pub?gid=1493896807&single=true&output=csv')\n",
        "data.head()\n",
        "data.sort_values(['X'], inplace = True)\n",
        "data.reset_index(inplace = True)"
      ],
      "execution_count": null,
      "outputs": []
    },
    {
      "cell_type": "code",
      "metadata": {
        "trusted": true,
        "id": "b4riWpsYYqHe",
        "outputId": "cd3efc8b-494f-400c-fc5c-da11f5768906",
        "colab": {
          "base_uri": "https://localhost:8080/",
          "height": 204
        }
      },
      "source": [
        "data.head()"
      ],
      "execution_count": null,
      "outputs": [
        {
          "output_type": "execute_result",
          "data": {
            "text/html": [
              "<div>\n",
              "<style scoped>\n",
              "    .dataframe tbody tr th:only-of-type {\n",
              "        vertical-align: middle;\n",
              "    }\n",
              "\n",
              "    .dataframe tbody tr th {\n",
              "        vertical-align: top;\n",
              "    }\n",
              "\n",
              "    .dataframe thead th {\n",
              "        text-align: right;\n",
              "    }\n",
              "</style>\n",
              "<table border=\"1\" class=\"dataframe\">\n",
              "  <thead>\n",
              "    <tr style=\"text-align: right;\">\n",
              "      <th></th>\n",
              "      <th>index</th>\n",
              "      <th>X</th>\n",
              "      <th>Y</th>\n",
              "    </tr>\n",
              "  </thead>\n",
              "  <tbody>\n",
              "    <tr>\n",
              "      <th>0</th>\n",
              "      <td>30</td>\n",
              "      <td>0</td>\n",
              "      <td>0.0</td>\n",
              "    </tr>\n",
              "    <tr>\n",
              "      <th>1</th>\n",
              "      <td>15</td>\n",
              "      <td>2</td>\n",
              "      <td>6.6</td>\n",
              "    </tr>\n",
              "    <tr>\n",
              "      <th>2</th>\n",
              "      <td>49</td>\n",
              "      <td>3</td>\n",
              "      <td>39.9</td>\n",
              "    </tr>\n",
              "    <tr>\n",
              "      <th>3</th>\n",
              "      <td>23</td>\n",
              "      <td>3</td>\n",
              "      <td>13.2</td>\n",
              "    </tr>\n",
              "    <tr>\n",
              "      <th>4</th>\n",
              "      <td>18</td>\n",
              "      <td>3</td>\n",
              "      <td>4.4</td>\n",
              "    </tr>\n",
              "  </tbody>\n",
              "</table>\n",
              "</div>"
            ],
            "text/plain": [
              "   index  X     Y\n",
              "0     30  0   0.0\n",
              "1     15  2   6.6\n",
              "2     49  3  39.9\n",
              "3     23  3  13.2\n",
              "4     18  3   4.4"
            ]
          },
          "metadata": {
            "tags": []
          },
          "execution_count": 102
        }
      ]
    },
    {
      "cell_type": "code",
      "metadata": {
        "_uuid": "8f2839f25d086af736a60e9eeb907d3b93b6e0e5",
        "_cell_guid": "b1076dfc-b9ad-4769-8c92-a6c4dae69d19",
        "trusted": true,
        "id": "fgAlGieQYqHm"
      },
      "source": [
        "def gradient_descent(X, y, lr=0.0001, epoch=12):\n",
        "    \n",
        "    '''\n",
        "    Gradient Descent for a single feature\n",
        "    '''\n",
        "    \n",
        "    b1, b0 = 0.0, 0.0 # parameters\n",
        "    log, mse = [], [] # lists to store learning process\n",
        "    \n",
        "    #### b1 and b0 updating code starts here ####\n",
        "    n = len(y)\n",
        "    for i in range(epoch):\n",
        "      b1_sum = np.sum((-2*X)*(y-(b1*X+b0)))\n",
        "      temp_b1 = b1 - ( (lr/n) * b1_sum )\n",
        "      b2_sum = np.sum((-2)*(y-(b1*X+b0)))\n",
        "      temp_b0 = b0 - ( (lr/n) * b2_sum )\n",
        "\n",
        "      b1 = temp_b1\n",
        "      b0= temp_b0\n",
        "    #### b1 and b0 updating code ends here ###\n",
        "      log.append((b1, b0))\n",
        "      mse.append(mean_squared_error(y, (b1*X + b0)))        \n",
        "    \n",
        "    return b1, b0, log, mse"
      ],
      "execution_count": null,
      "outputs": []
    },
    {
      "cell_type": "code",
      "metadata": {
        "_uuid": "d629ff2d2480ee46fbb7e2d37f6b5fab8052498a",
        "_cell_guid": "79c7e3d0-c299-4dcb-8224-4455121ee9b0",
        "trusted": true,
        "id": "62zWamnZYqHy"
      },
      "source": [
        "b1, b0, log, mse = gradient_descent(data['X'], data['Y'])"
      ],
      "execution_count": null,
      "outputs": []
    },
    {
      "cell_type": "code",
      "metadata": {
        "id": "jGX-DVjPocDk"
      },
      "source": [
        "#@title Define Learning Rate and Epoch (No of Iterations):\n",
        "\n",
        "# This Codeblock is for manipulating learning rate and epoch and see the effect\n",
        "# If values are updated, **BE SURE** to update the rows and column variables defined later, to generate and include all the graphs\n",
        "# FUNCTION IS NOT BEING CALLED CURRENTLY \n",
        "\n",
        "learning_rate = 0.0001 #@param {type:\"number\"}\n",
        "epoch = 12 #@param {type:\"integer\"}\n",
        "# b1, b0, log, mse = gradient_descent(data['X'], data['Y'], lr = learning_rate, epoch=epoch)\n"
      ],
      "execution_count": null,
      "outputs": []
    },
    {
      "cell_type": "code",
      "metadata": {
        "trusted": true,
        "id": "5E3US7RzYqH7",
        "outputId": "814248d0-f96f-479d-b812-373bb28eb488",
        "colab": {
          "base_uri": "https://localhost:8080/",
          "height": 221
        }
      },
      "source": [
        "mse"
      ],
      "execution_count": null,
      "outputs": [
        {
          "output_type": "execute_result",
          "data": {
            "text/plain": [
              "[11187.829822207941,\n",
              " 7491.5921252445405,\n",
              " 5198.493787054009,\n",
              " 3775.8792311913635,\n",
              " 2893.2980028901707,\n",
              " 2345.7442636979827,\n",
              " 2006.0358802769233,\n",
              " 1795.2712215196657,\n",
              " 1664.5010582535226,\n",
              " 1583.358121728882,\n",
              " 1533.0030752103369,\n",
              " 1501.7483147989751]"
            ]
          },
          "metadata": {
            "tags": []
          },
          "execution_count": 106
        }
      ]
    },
    {
      "cell_type": "code",
      "metadata": {
        "trusted": true,
        "id": "Cd7gTuPdYqIA",
        "outputId": "e93ae141-b0f8-4bba-c828-95dd5802776c",
        "colab": {
          "base_uri": "https://localhost:8080/",
          "height": 542
        }
      },
      "source": [
        "import plotly.graph_objects as go\n",
        "fig = go.Figure()\n",
        "\n",
        "(b1, b0) = log[10]\n",
        "y_hat = b0 + b1 * data['X']\n",
        "fig.add_trace(go.Scatter(x=data['X'], y=data['Y'], name='train', mode='markers', marker_color='rgba(152, 0, 0, .8)'))\n",
        "fig.add_trace(go.Scatter(x=data['X'], y=y_hat, name='prediction', mode='lines+markers', marker_color='rgba(0, 152, 0, .8)'))\n",
        "fig.update_layout(title = f'Swedish Automobiles Data\\n (visual comparison for correctness)',title_x=0.5, xaxis_title= \"Number of Claims\", yaxis_title=\"Payment in Claims\")\n",
        "fig.update_xaxes(showline=True, linewidth=2, linecolor='black', mirror=True)\n",
        "fig.update_yaxes(showline=True, linewidth=2, linecolor='black', mirror=True)\n",
        "fig.show()"
      ],
      "execution_count": null,
      "outputs": [
        {
          "output_type": "display_data",
          "data": {
            "text/html": [
              "<html>\n",
              "<head><meta charset=\"utf-8\" /></head>\n",
              "<body>\n",
              "    <div>\n",
              "            <script src=\"https://cdnjs.cloudflare.com/ajax/libs/mathjax/2.7.5/MathJax.js?config=TeX-AMS-MML_SVG\"></script><script type=\"text/javascript\">if (window.MathJax) {MathJax.Hub.Config({SVG: {font: \"STIX-Web\"}});}</script>\n",
              "                <script type=\"text/javascript\">window.PlotlyConfig = {MathJaxConfig: 'local'};</script>\n",
              "        <script src=\"https://cdn.plot.ly/plotly-latest.min.js\"></script>    \n",
              "            <div id=\"bcaad5fc-7cf3-41ad-bf24-537b99970688\" class=\"plotly-graph-div\" style=\"height:525px; width:100%;\"></div>\n",
              "            <script type=\"text/javascript\">\n",
              "                \n",
              "                    window.PLOTLYENV=window.PLOTLYENV || {};\n",
              "                    \n",
              "                if (document.getElementById(\"bcaad5fc-7cf3-41ad-bf24-537b99970688\")) {\n",
              "                    Plotly.newPlot(\n",
              "                        'bcaad5fc-7cf3-41ad-bf24-537b99970688',\n",
              "                        [{\"marker\": {\"color\": \"rgba(152, 0, 0, .8)\"}, \"mode\": \"markers\", \"name\": \"train\", \"type\": \"scatter\", \"x\": [0, 2, 3, 3, 3, 4, 4, 4, 5, 5, 6, 6, 6, 7, 7, 7, 8, 8, 9, 9, 9, 10, 11, 11, 11, 12, 13, 13, 13, 13, 14, 14, 15, 16, 17, 19, 20, 22, 23, 23, 23, 24, 24, 25, 26, 27, 29, 29, 30, 31, 37, 40, 41, 41, 45, 48, 53, 55, 57, 60, 61, 108, 124], \"y\": [0.0, 6.6, 39.9, 13.2, 4.4, 38.1, 12.6, 11.8, 40.3, 20.9, 50.9, 14.6, 14.8, 27.9, 48.8, 77.5, 76.1, 55.6, 48.7, 87.4, 52.1, 65.3, 57.2, 21.3, 23.5, 58.1, 31.9, 15.7, 93.0, 89.9, 77.5, 95.5, 32.1, 59.6, 142.1, 46.2, 98.1, 161.5, 113.0, 39.6, 56.9, 137.9, 134.9, 69.2, 187.5, 92.6, 103.9, 133.3, 194.5, 209.8, 152.8, 119.4, 73.4, 181.3, 214.0, 248.1, 244.6, 162.8, 170.9, 202.4, 217.6, 392.5, 422.2]}, {\"marker\": {\"color\": \"rgba(0, 152, 0, .8)\"}, \"mode\": \"lines+markers\", \"name\": \"prediction\", \"type\": \"scatter\", \"x\": [0, 2, 3, 3, 3, 4, 4, 4, 5, 5, 6, 6, 6, 7, 7, 7, 8, 8, 9, 9, 9, 10, 11, 11, 11, 12, 13, 13, 13, 13, 14, 14, 15, 16, 17, 19, 20, 22, 23, 23, 23, 24, 24, 25, 26, 27, 29, 29, 30, 31, 37, 40, 41, 41, 45, 48, 53, 55, 57, 60, 61, 108, 124], \"y\": [0.09911789572150796, 7.229245501707302, 10.794309304700198, 10.794309304700198, 10.794309304700198, 14.359373107693095, 14.359373107693095, 14.359373107693095, 17.924436910685994, 17.924436910685994, 21.48950071367889, 21.48950071367889, 21.48950071367889, 25.05456451667179, 25.05456451667179, 25.05456451667179, 28.619628319664685, 28.619628319664685, 32.18469212265758, 32.18469212265758, 32.18469212265758, 35.749755925650476, 39.31481972864337, 39.31481972864337, 39.31481972864337, 42.87988353163627, 46.44494733462916, 46.44494733462916, 46.44494733462916, 46.44494733462916, 50.010011137622065, 50.010011137622065, 53.57507494061496, 57.14013874360786, 60.70520254660075, 67.83533015258655, 71.40039395557945, 78.53052156156524, 82.09558536455813, 82.09558536455813, 82.09558536455813, 85.66064916755103, 85.66064916755103, 89.22571297054392, 92.79077677353682, 96.35584057652973, 103.48596818251552, 103.48596818251552, 107.05103198550842, 110.61609578850131, 132.0064786064587, 142.7016700154374, 146.26673381843028, 146.26673381843028, 160.5269890304019, 171.22218043938057, 189.04749945434506, 196.17762706033085, 203.30775466631664, 214.00294607529534, 217.56800987828822, 385.1260086189544, 442.16702946684075]}],\n",
              "                        {\"template\": {\"data\": {\"bar\": [{\"error_x\": {\"color\": \"#2a3f5f\"}, \"error_y\": {\"color\": \"#2a3f5f\"}, \"marker\": {\"line\": {\"color\": \"#E5ECF6\", \"width\": 0.5}}, \"type\": \"bar\"}], \"barpolar\": [{\"marker\": {\"line\": {\"color\": \"#E5ECF6\", \"width\": 0.5}}, \"type\": \"barpolar\"}], \"carpet\": [{\"aaxis\": {\"endlinecolor\": \"#2a3f5f\", \"gridcolor\": \"white\", \"linecolor\": \"white\", \"minorgridcolor\": \"white\", \"startlinecolor\": \"#2a3f5f\"}, \"baxis\": {\"endlinecolor\": \"#2a3f5f\", \"gridcolor\": \"white\", \"linecolor\": \"white\", \"minorgridcolor\": \"white\", \"startlinecolor\": \"#2a3f5f\"}, \"type\": \"carpet\"}], \"choropleth\": [{\"colorbar\": {\"outlinewidth\": 0, \"ticks\": \"\"}, \"type\": \"choropleth\"}], \"contour\": [{\"colorbar\": {\"outlinewidth\": 0, \"ticks\": \"\"}, \"colorscale\": [[0.0, \"#0d0887\"], [0.1111111111111111, \"#46039f\"], [0.2222222222222222, \"#7201a8\"], [0.3333333333333333, \"#9c179e\"], [0.4444444444444444, \"#bd3786\"], [0.5555555555555556, \"#d8576b\"], [0.6666666666666666, \"#ed7953\"], [0.7777777777777778, \"#fb9f3a\"], [0.8888888888888888, \"#fdca26\"], [1.0, \"#f0f921\"]], \"type\": \"contour\"}], \"contourcarpet\": [{\"colorbar\": {\"outlinewidth\": 0, \"ticks\": \"\"}, \"type\": \"contourcarpet\"}], \"heatmap\": [{\"colorbar\": {\"outlinewidth\": 0, \"ticks\": \"\"}, \"colorscale\": [[0.0, \"#0d0887\"], [0.1111111111111111, \"#46039f\"], [0.2222222222222222, \"#7201a8\"], [0.3333333333333333, \"#9c179e\"], [0.4444444444444444, \"#bd3786\"], [0.5555555555555556, \"#d8576b\"], [0.6666666666666666, \"#ed7953\"], [0.7777777777777778, \"#fb9f3a\"], [0.8888888888888888, \"#fdca26\"], [1.0, \"#f0f921\"]], \"type\": \"heatmap\"}], \"heatmapgl\": [{\"colorbar\": {\"outlinewidth\": 0, \"ticks\": \"\"}, \"colorscale\": [[0.0, \"#0d0887\"], [0.1111111111111111, \"#46039f\"], [0.2222222222222222, \"#7201a8\"], [0.3333333333333333, \"#9c179e\"], [0.4444444444444444, \"#bd3786\"], [0.5555555555555556, \"#d8576b\"], [0.6666666666666666, \"#ed7953\"], [0.7777777777777778, \"#fb9f3a\"], [0.8888888888888888, \"#fdca26\"], [1.0, \"#f0f921\"]], \"type\": \"heatmapgl\"}], \"histogram\": [{\"marker\": {\"colorbar\": {\"outlinewidth\": 0, \"ticks\": \"\"}}, \"type\": \"histogram\"}], \"histogram2d\": [{\"colorbar\": {\"outlinewidth\": 0, \"ticks\": \"\"}, \"colorscale\": [[0.0, \"#0d0887\"], [0.1111111111111111, \"#46039f\"], [0.2222222222222222, \"#7201a8\"], [0.3333333333333333, \"#9c179e\"], [0.4444444444444444, \"#bd3786\"], [0.5555555555555556, \"#d8576b\"], [0.6666666666666666, \"#ed7953\"], [0.7777777777777778, \"#fb9f3a\"], [0.8888888888888888, \"#fdca26\"], [1.0, \"#f0f921\"]], \"type\": \"histogram2d\"}], \"histogram2dcontour\": [{\"colorbar\": {\"outlinewidth\": 0, \"ticks\": \"\"}, \"colorscale\": [[0.0, \"#0d0887\"], [0.1111111111111111, \"#46039f\"], [0.2222222222222222, \"#7201a8\"], [0.3333333333333333, \"#9c179e\"], [0.4444444444444444, \"#bd3786\"], [0.5555555555555556, \"#d8576b\"], [0.6666666666666666, \"#ed7953\"], [0.7777777777777778, \"#fb9f3a\"], [0.8888888888888888, \"#fdca26\"], [1.0, \"#f0f921\"]], \"type\": \"histogram2dcontour\"}], \"mesh3d\": [{\"colorbar\": {\"outlinewidth\": 0, \"ticks\": \"\"}, \"type\": \"mesh3d\"}], \"parcoords\": [{\"line\": {\"colorbar\": {\"outlinewidth\": 0, \"ticks\": \"\"}}, \"type\": \"parcoords\"}], \"pie\": [{\"automargin\": true, \"type\": \"pie\"}], \"scatter\": [{\"marker\": {\"colorbar\": {\"outlinewidth\": 0, \"ticks\": \"\"}}, \"type\": \"scatter\"}], \"scatter3d\": [{\"line\": {\"colorbar\": {\"outlinewidth\": 0, \"ticks\": \"\"}}, \"marker\": {\"colorbar\": {\"outlinewidth\": 0, \"ticks\": \"\"}}, \"type\": \"scatter3d\"}], \"scattercarpet\": [{\"marker\": {\"colorbar\": {\"outlinewidth\": 0, \"ticks\": \"\"}}, \"type\": \"scattercarpet\"}], \"scattergeo\": [{\"marker\": {\"colorbar\": {\"outlinewidth\": 0, \"ticks\": \"\"}}, \"type\": \"scattergeo\"}], \"scattergl\": [{\"marker\": {\"colorbar\": {\"outlinewidth\": 0, \"ticks\": \"\"}}, \"type\": \"scattergl\"}], \"scattermapbox\": [{\"marker\": {\"colorbar\": {\"outlinewidth\": 0, \"ticks\": \"\"}}, \"type\": \"scattermapbox\"}], \"scatterpolar\": [{\"marker\": {\"colorbar\": {\"outlinewidth\": 0, \"ticks\": \"\"}}, \"type\": \"scatterpolar\"}], \"scatterpolargl\": [{\"marker\": {\"colorbar\": {\"outlinewidth\": 0, \"ticks\": \"\"}}, \"type\": \"scatterpolargl\"}], \"scatterternary\": [{\"marker\": {\"colorbar\": {\"outlinewidth\": 0, \"ticks\": \"\"}}, \"type\": \"scatterternary\"}], \"surface\": [{\"colorbar\": {\"outlinewidth\": 0, \"ticks\": \"\"}, \"colorscale\": [[0.0, \"#0d0887\"], [0.1111111111111111, \"#46039f\"], [0.2222222222222222, \"#7201a8\"], [0.3333333333333333, \"#9c179e\"], [0.4444444444444444, \"#bd3786\"], [0.5555555555555556, \"#d8576b\"], [0.6666666666666666, \"#ed7953\"], [0.7777777777777778, \"#fb9f3a\"], [0.8888888888888888, \"#fdca26\"], [1.0, \"#f0f921\"]], \"type\": \"surface\"}], \"table\": [{\"cells\": {\"fill\": {\"color\": \"#EBF0F8\"}, \"line\": {\"color\": \"white\"}}, \"header\": {\"fill\": {\"color\": \"#C8D4E3\"}, \"line\": {\"color\": \"white\"}}, \"type\": \"table\"}]}, \"layout\": {\"annotationdefaults\": {\"arrowcolor\": \"#2a3f5f\", \"arrowhead\": 0, \"arrowwidth\": 1}, \"coloraxis\": {\"colorbar\": {\"outlinewidth\": 0, \"ticks\": \"\"}}, \"colorscale\": {\"diverging\": [[0, \"#8e0152\"], [0.1, \"#c51b7d\"], [0.2, \"#de77ae\"], [0.3, \"#f1b6da\"], [0.4, \"#fde0ef\"], [0.5, \"#f7f7f7\"], [0.6, \"#e6f5d0\"], [0.7, \"#b8e186\"], [0.8, \"#7fbc41\"], [0.9, \"#4d9221\"], [1, \"#276419\"]], \"sequential\": [[0.0, \"#0d0887\"], [0.1111111111111111, \"#46039f\"], [0.2222222222222222, \"#7201a8\"], [0.3333333333333333, \"#9c179e\"], [0.4444444444444444, \"#bd3786\"], [0.5555555555555556, \"#d8576b\"], [0.6666666666666666, \"#ed7953\"], [0.7777777777777778, \"#fb9f3a\"], [0.8888888888888888, \"#fdca26\"], [1.0, \"#f0f921\"]], \"sequentialminus\": [[0.0, \"#0d0887\"], [0.1111111111111111, \"#46039f\"], [0.2222222222222222, \"#7201a8\"], [0.3333333333333333, \"#9c179e\"], [0.4444444444444444, \"#bd3786\"], [0.5555555555555556, \"#d8576b\"], [0.6666666666666666, \"#ed7953\"], [0.7777777777777778, \"#fb9f3a\"], [0.8888888888888888, \"#fdca26\"], [1.0, \"#f0f921\"]]}, \"colorway\": [\"#636efa\", \"#EF553B\", \"#00cc96\", \"#ab63fa\", \"#FFA15A\", \"#19d3f3\", \"#FF6692\", \"#B6E880\", \"#FF97FF\", \"#FECB52\"], \"font\": {\"color\": \"#2a3f5f\"}, \"geo\": {\"bgcolor\": \"white\", \"lakecolor\": \"white\", \"landcolor\": \"#E5ECF6\", \"showlakes\": true, \"showland\": true, \"subunitcolor\": \"white\"}, \"hoverlabel\": {\"align\": \"left\"}, \"hovermode\": \"closest\", \"mapbox\": {\"style\": \"light\"}, \"paper_bgcolor\": \"white\", \"plot_bgcolor\": \"#E5ECF6\", \"polar\": {\"angularaxis\": {\"gridcolor\": \"white\", \"linecolor\": \"white\", \"ticks\": \"\"}, \"bgcolor\": \"#E5ECF6\", \"radialaxis\": {\"gridcolor\": \"white\", \"linecolor\": \"white\", \"ticks\": \"\"}}, \"scene\": {\"xaxis\": {\"backgroundcolor\": \"#E5ECF6\", \"gridcolor\": \"white\", \"gridwidth\": 2, \"linecolor\": \"white\", \"showbackground\": true, \"ticks\": \"\", \"zerolinecolor\": \"white\"}, \"yaxis\": {\"backgroundcolor\": \"#E5ECF6\", \"gridcolor\": \"white\", \"gridwidth\": 2, \"linecolor\": \"white\", \"showbackground\": true, \"ticks\": \"\", \"zerolinecolor\": \"white\"}, \"zaxis\": {\"backgroundcolor\": \"#E5ECF6\", \"gridcolor\": \"white\", \"gridwidth\": 2, \"linecolor\": \"white\", \"showbackground\": true, \"ticks\": \"\", \"zerolinecolor\": \"white\"}}, \"shapedefaults\": {\"line\": {\"color\": \"#2a3f5f\"}}, \"ternary\": {\"aaxis\": {\"gridcolor\": \"white\", \"linecolor\": \"white\", \"ticks\": \"\"}, \"baxis\": {\"gridcolor\": \"white\", \"linecolor\": \"white\", \"ticks\": \"\"}, \"bgcolor\": \"#E5ECF6\", \"caxis\": {\"gridcolor\": \"white\", \"linecolor\": \"white\", \"ticks\": \"\"}}, \"title\": {\"x\": 0.05}, \"xaxis\": {\"automargin\": true, \"gridcolor\": \"white\", \"linecolor\": \"white\", \"ticks\": \"\", \"title\": {\"standoff\": 15}, \"zerolinecolor\": \"white\", \"zerolinewidth\": 2}, \"yaxis\": {\"automargin\": true, \"gridcolor\": \"white\", \"linecolor\": \"white\", \"ticks\": \"\", \"title\": {\"standoff\": 15}, \"zerolinecolor\": \"white\", \"zerolinewidth\": 2}}}, \"title\": {\"text\": \"Swedish Automobiles Data\\n (visual comparison for correctness)\", \"x\": 0.5}, \"xaxis\": {\"linecolor\": \"black\", \"linewidth\": 2, \"mirror\": true, \"showline\": true, \"title\": {\"text\": \"Number of Claims\"}}, \"yaxis\": {\"linecolor\": \"black\", \"linewidth\": 2, \"mirror\": true, \"showline\": true, \"title\": {\"text\": \"Payment in Claims\"}}},\n",
              "                        {\"responsive\": true}\n",
              "                    ).then(function(){\n",
              "                            \n",
              "var gd = document.getElementById('bcaad5fc-7cf3-41ad-bf24-537b99970688');\n",
              "var x = new MutationObserver(function (mutations, observer) {{\n",
              "        var display = window.getComputedStyle(gd).display;\n",
              "        if (!display || display === 'none') {{\n",
              "            console.log([gd, 'removed!']);\n",
              "            Plotly.purge(gd);\n",
              "            observer.disconnect();\n",
              "        }}\n",
              "}});\n",
              "\n",
              "// Listen for the removal of the full notebook cells\n",
              "var notebookContainer = gd.closest('#notebook-container');\n",
              "if (notebookContainer) {{\n",
              "    x.observe(notebookContainer, {childList: true});\n",
              "}}\n",
              "\n",
              "// Listen for the clearing of the current output cell\n",
              "var outputEl = gd.closest('.output');\n",
              "if (outputEl) {{\n",
              "    x.observe(outputEl, {childList: true});\n",
              "}}\n",
              "\n",
              "                        })\n",
              "                };\n",
              "                \n",
              "            </script>\n",
              "        </div>\n",
              "</body>\n",
              "</html>"
            ]
          },
          "metadata": {
            "tags": []
          }
        }
      ]
    },
    {
      "cell_type": "code",
      "metadata": {
        "trusted": true,
        "id": "eP7ow8fYYqIQ"
      },
      "source": [
        "rows = 3\n",
        "cols = 4\n",
        "from plotly.subplots import make_subplots\n",
        "fig = make_subplots(rows=rows, cols=cols, subplot_titles=tuple([\"Iter: {} MSE {:.2f}\".format(idx+1, mse[idx] ) for idx in range(rows*cols)]))"
      ],
      "execution_count": null,
      "outputs": []
    },
    {
      "cell_type": "code",
      "metadata": {
        "trusted": true,
        "id": "SBumFKWGYqJB",
        "outputId": "b6638f01-824f-42da-a3fa-5ec3c4cd68b6",
        "colab": {
          "base_uri": "https://localhost:8080/",
          "height": 542
        }
      },
      "source": [
        "idx = 0\n",
        "for i in range(rows):\n",
        "    for j in range(cols ):\n",
        "        (b1, b0) = log[idx]\n",
        "        y_hat = b0 + b1*data['X']\n",
        "        fig.add_trace(go.Scatter(x=data['X'], y=data['Y'], mode='markers', marker_color='rgba(152, 0, 0, .8)'), row=i+1, col=j+1)\n",
        "        fig.add_trace(go.Scatter(x=data['X'], y=y_hat, mode='lines+markers', marker_color='rgba(0, 152, 0, .8)'), row=i+1, col=j+1)\n",
        "        idx +=1\n",
        "fig.show()"
      ],
      "execution_count": null,
      "outputs": [
        {
          "output_type": "display_data",
          "data": {
            "text/html": [
              "<html>\n",
              "<head><meta charset=\"utf-8\" /></head>\n",
              "<body>\n",
              "    <div>\n",
              "            <script src=\"https://cdnjs.cloudflare.com/ajax/libs/mathjax/2.7.5/MathJax.js?config=TeX-AMS-MML_SVG\"></script><script type=\"text/javascript\">if (window.MathJax) {MathJax.Hub.Config({SVG: {font: \"STIX-Web\"}});}</script>\n",
              "                <script type=\"text/javascript\">window.PlotlyConfig = {MathJaxConfig: 'local'};</script>\n",
              "        <script src=\"https://cdn.plot.ly/plotly-latest.min.js\"></script>    \n",
              "            <div id=\"9fa860b8-1147-46f4-8a08-7211631892ae\" class=\"plotly-graph-div\" style=\"height:525px; width:100%;\"></div>\n",
              "            <script type=\"text/javascript\">\n",
              "                \n",
              "                    window.PLOTLYENV=window.PLOTLYENV || {};\n",
              "                    \n",
              "                if (document.getElementById(\"9fa860b8-1147-46f4-8a08-7211631892ae\")) {\n",
              "                    Plotly.newPlot(\n",
              "                        '9fa860b8-1147-46f4-8a08-7211631892ae',\n",
              "                        [{\"marker\": {\"color\": \"rgba(152, 0, 0, .8)\"}, \"mode\": \"markers\", \"type\": \"scatter\", \"x\": [0, 2, 3, 3, 3, 4, 4, 4, 5, 5, 6, 6, 6, 7, 7, 7, 8, 8, 9, 9, 9, 10, 11, 11, 11, 12, 13, 13, 13, 13, 14, 14, 15, 16, 17, 19, 20, 22, 23, 23, 23, 24, 24, 25, 26, 27, 29, 29, 30, 31, 37, 40, 41, 41, 45, 48, 53, 55, 57, 60, 61, 108, 124], \"xaxis\": \"x\", \"y\": [0.0, 6.6, 39.9, 13.2, 4.4, 38.1, 12.6, 11.8, 40.3, 20.9, 50.9, 14.6, 14.8, 27.9, 48.8, 77.5, 76.1, 55.6, 48.7, 87.4, 52.1, 65.3, 57.2, 21.3, 23.5, 58.1, 31.9, 15.7, 93.0, 89.9, 77.5, 95.5, 32.1, 59.6, 142.1, 46.2, 98.1, 161.5, 113.0, 39.6, 56.9, 137.9, 134.9, 69.2, 187.5, 92.6, 103.9, 133.3, 194.5, 209.8, 152.8, 119.4, 73.4, 181.3, 214.0, 248.1, 244.6, 162.8, 170.9, 202.4, 217.6, 392.5, 422.2], \"yaxis\": \"y\"}, {\"marker\": {\"color\": \"rgba(0, 152, 0, .8)\"}, \"mode\": \"lines+markers\", \"type\": \"scatter\", \"x\": [0, 2, 3, 3, 3, 4, 4, 4, 5, 5, 6, 6, 6, 7, 7, 7, 8, 8, 9, 9, 9, 10, 11, 11, 11, 12, 13, 13, 13, 13, 14, 14, 15, 16, 17, 19, 20, 22, 23, 23, 23, 24, 24, 25, 26, 27, 29, 29, 30, 31, 37, 40, 41, 41, 45, 48, 53, 55, 57, 60, 61, 108, 124], \"xaxis\": \"x\", \"y\": [0.019637460317460317, 1.6520419047619046, 2.468244126984127, 2.468244126984127, 2.468244126984127, 3.284446349206349, 3.284446349206349, 3.284446349206349, 4.100648571428571, 4.100648571428571, 4.916850793650793, 4.916850793650793, 4.916850793650793, 5.733053015873015, 5.733053015873015, 5.733053015873015, 6.549255238095237, 6.549255238095237, 7.36545746031746, 7.36545746031746, 7.36545746031746, 8.181659682539681, 8.997861904761903, 8.997861904761903, 8.997861904761903, 9.814064126984126, 10.630266349206348, 10.630266349206348, 10.630266349206348, 10.630266349206348, 11.44646857142857, 11.44646857142857, 12.262670793650793, 13.078873015873015, 13.895075238095236, 15.527479682539681, 16.343681904761905, 17.976086349206348, 18.79228857142857, 18.79228857142857, 18.79228857142857, 19.608490793650795, 19.608490793650795, 20.424693015873014, 21.240895238095238, 22.05709746031746, 23.689501904761904, 23.689501904761904, 24.505704126984128, 25.321906349206348, 30.21911968253968, 32.66772634920635, 33.48392857142857, 33.48392857142857, 36.74873746031746, 39.19734412698413, 43.27835523809524, 44.910759682539684, 46.543164126984124, 48.991770793650794, 49.80797301587302, 88.16947746031745, 101.228713015873], \"yaxis\": \"y\"}, {\"marker\": {\"color\": \"rgba(152, 0, 0, .8)\"}, \"mode\": \"markers\", \"type\": \"scatter\", \"x\": [0, 2, 3, 3, 3, 4, 4, 4, 5, 5, 6, 6, 6, 7, 7, 7, 8, 8, 9, 9, 9, 10, 11, 11, 11, 12, 13, 13, 13, 13, 14, 14, 15, 16, 17, 19, 20, 22, 23, 23, 23, 24, 24, 25, 26, 27, 29, 29, 30, 31, 37, 40, 41, 41, 45, 48, 53, 55, 57, 60, 61, 108, 124], \"xaxis\": \"x2\", \"y\": [0.0, 6.6, 39.9, 13.2, 4.4, 38.1, 12.6, 11.8, 40.3, 20.9, 50.9, 14.6, 14.8, 27.9, 48.8, 77.5, 76.1, 55.6, 48.7, 87.4, 52.1, 65.3, 57.2, 21.3, 23.5, 58.1, 31.9, 15.7, 93.0, 89.9, 77.5, 95.5, 32.1, 59.6, 142.1, 46.2, 98.1, 161.5, 113.0, 39.6, 56.9, 137.9, 134.9, 69.2, 187.5, 92.6, 103.9, 133.3, 194.5, 209.8, 152.8, 119.4, 73.4, 181.3, 214.0, 248.1, 244.6, 162.8, 170.9, 202.4, 217.6, 392.5, 422.2], \"yaxis\": \"y2\"}, {\"marker\": {\"color\": \"rgba(0, 152, 0, .8)\"}, \"mode\": \"lines+markers\", \"type\": \"scatter\", \"x\": [0, 2, 3, 3, 3, 4, 4, 4, 5, 5, 6, 6, 6, 7, 7, 7, 8, 8, 9, 9, 9, 10, 11, 11, 11, 12, 13, 13, 13, 13, 14, 14, 15, 16, 17, 19, 20, 22, 23, 23, 23, 24, 24, 25, 26, 27, 29, 29, 30, 31, 37, 40, 41, 41, 45, 48, 53, 55, 57, 60, 61, 108, 124], \"xaxis\": \"x2\", \"y\": [0.03553200962962963, 2.9536714786122444, 4.412741213103552, 4.412741213103552, 4.412741213103552, 5.871810947594859, 5.871810947594859, 5.871810947594859, 7.330880682086167, 7.330880682086167, 8.789950416577476, 8.789950416577476, 8.789950416577476, 10.249020151068782, 10.249020151068782, 10.249020151068782, 11.70808988556009, 11.70808988556009, 13.167159620051399, 13.167159620051399, 13.167159620051399, 14.626229354542705, 16.085299089034013, 16.085299089034013, 16.085299089034013, 17.54436882352532, 19.00343855801663, 19.00343855801663, 19.00343855801663, 19.00343855801663, 20.462508292507934, 20.462508292507934, 21.921578026999242, 23.38064776149055, 24.83971749598186, 27.75785696496447, 29.21692669945578, 32.13506616843839, 33.5941359029297, 33.5941359029297, 33.5941359029297, 35.05320563742101, 35.05320563742101, 36.51227537191232, 37.971345106403625, 39.430414840894926, 42.34855430987754, 42.34855430987754, 43.80762404436885, 45.26669377886016, 54.02111218580801, 58.398321389281925, 59.85739112377323, 59.85739112377323, 65.69367006173847, 70.0708792652124, 77.36622793766894, 80.28436740665154, 83.20250687563416, 87.57971607910808, 89.03878581359939, 157.61506333469083, 180.96017908655176], \"yaxis\": \"y2\"}, {\"marker\": {\"color\": \"rgba(152, 0, 0, .8)\"}, \"mode\": \"markers\", \"type\": \"scatter\", \"x\": [0, 2, 3, 3, 3, 4, 4, 4, 5, 5, 6, 6, 6, 7, 7, 7, 8, 8, 9, 9, 9, 10, 11, 11, 11, 12, 13, 13, 13, 13, 14, 14, 15, 16, 17, 19, 20, 22, 23, 23, 23, 24, 24, 25, 26, 27, 29, 29, 30, 31, 37, 40, 41, 41, 45, 48, 53, 55, 57, 60, 61, 108, 124], \"xaxis\": \"x3\", \"y\": [0.0, 6.6, 39.9, 13.2, 4.4, 38.1, 12.6, 11.8, 40.3, 20.9, 50.9, 14.6, 14.8, 27.9, 48.8, 77.5, 76.1, 55.6, 48.7, 87.4, 52.1, 65.3, 57.2, 21.3, 23.5, 58.1, 31.9, 15.7, 93.0, 89.9, 77.5, 95.5, 32.1, 59.6, 142.1, 46.2, 98.1, 161.5, 113.0, 39.6, 56.9, 137.9, 134.9, 69.2, 187.5, 92.6, 103.9, 133.3, 194.5, 209.8, 152.8, 119.4, 73.4, 181.3, 214.0, 248.1, 244.6, 162.8, 170.9, 202.4, 217.6, 392.5, 422.2], \"yaxis\": \"y3\"}, {\"marker\": {\"color\": \"rgba(0, 152, 0, .8)\"}, \"mode\": \"lines+markers\", \"type\": \"scatter\", \"x\": [0, 2, 3, 3, 3, 4, 4, 4, 5, 5, 6, 6, 6, 7, 7, 7, 8, 8, 9, 9, 9, 10, 11, 11, 11, 12, 13, 13, 13, 13, 14, 14, 15, 16, 17, 19, 20, 22, 23, 23, 23, 24, 24, 25, 26, 27, 29, 29, 30, 31, 37, 40, 41, 41, 45, 48, 53, 55, 57, 60, 61, 108, 124], \"xaxis\": \"x3\", \"y\": [0.04847843457097051, 3.9793008609648943, 5.944712074161856, 5.944712074161856, 5.944712074161856, 7.910123287358818, 7.910123287358818, 7.910123287358818, 9.87553450055578, 9.87553450055578, 11.840945713752742, 11.840945713752742, 11.840945713752742, 13.806356926949704, 13.806356926949704, 13.806356926949704, 15.771768140146666, 15.771768140146666, 17.737179353343627, 17.737179353343627, 17.737179353343627, 19.70259056654059, 21.66800177973755, 21.66800177973755, 21.66800177973755, 23.633412992934513, 25.598824206131475, 25.598824206131475, 25.598824206131475, 25.598824206131475, 27.564235419328437, 27.564235419328437, 29.5296466325254, 31.49505784572236, 33.460469058919315, 37.391291485313246, 39.356702698510205, 43.28752512490413, 45.252936338101094, 45.252936338101094, 45.252936338101094, 47.21834755129805, 47.21834755129805, 49.18375876449501, 51.149169977691976, 53.11458119088894, 57.04540361728286, 57.04540361728286, 59.01081483047982, 60.97622604367679, 72.76869332285855, 78.66492696244944, 80.6303381756464, 80.6303381756464, 88.49198302843425, 94.38821666802514, 104.21527273400994, 108.14609516040387, 112.07691758679779, 117.97315122638868, 119.93856243958564, 212.31288945984286, 243.75946887099425], \"yaxis\": \"y3\"}, {\"marker\": {\"color\": \"rgba(152, 0, 0, .8)\"}, \"mode\": \"markers\", \"type\": \"scatter\", \"x\": [0, 2, 3, 3, 3, 4, 4, 4, 5, 5, 6, 6, 6, 7, 7, 7, 8, 8, 9, 9, 9, 10, 11, 11, 11, 12, 13, 13, 13, 13, 14, 14, 15, 16, 17, 19, 20, 22, 23, 23, 23, 24, 24, 25, 26, 27, 29, 29, 30, 31, 37, 40, 41, 41, 45, 48, 53, 55, 57, 60, 61, 108, 124], \"xaxis\": \"x4\", \"y\": [0.0, 6.6, 39.9, 13.2, 4.4, 38.1, 12.6, 11.8, 40.3, 20.9, 50.9, 14.6, 14.8, 27.9, 48.8, 77.5, 76.1, 55.6, 48.7, 87.4, 52.1, 65.3, 57.2, 21.3, 23.5, 58.1, 31.9, 15.7, 93.0, 89.9, 77.5, 95.5, 32.1, 59.6, 142.1, 46.2, 98.1, 161.5, 113.0, 39.6, 56.9, 137.9, 134.9, 69.2, 187.5, 92.6, 103.9, 133.3, 194.5, 209.8, 152.8, 119.4, 73.4, 181.3, 214.0, 248.1, 244.6, 162.8, 170.9, 202.4, 217.6, 392.5, 422.2], \"yaxis\": \"y4\"}, {\"marker\": {\"color\": \"rgba(0, 152, 0, .8)\"}, \"mode\": \"lines+markers\", \"type\": \"scatter\", \"x\": [0, 2, 3, 3, 3, 4, 4, 4, 5, 5, 6, 6, 6, 7, 7, 7, 8, 8, 9, 9, 9, 10, 11, 11, 11, 12, 13, 13, 13, 13, 14, 14, 15, 16, 17, 19, 20, 22, 23, 23, 23, 24, 24, 25, 26, 27, 29, 29, 30, 31, 37, 40, 41, 41, 45, 48, 53, 55, 57, 60, 61, 108, 124], \"xaxis\": \"x4\", \"y\": [0.0591027440248715, 4.787540322757538, 7.151759112123871, 7.151759112123871, 7.151759112123871, 9.515977901490205, 9.515977901490205, 9.515977901490205, 11.880196690856538, 11.880196690856538, 14.244415480222871, 14.244415480222871, 14.244415480222871, 16.608634269589206, 16.608634269589206, 16.608634269589206, 18.97285305895554, 18.97285305895554, 21.337071848321873, 21.337071848321873, 21.337071848321873, 23.701290637688206, 26.06550942705454, 26.06550942705454, 26.06550942705454, 28.429728216420873, 30.793947005787206, 30.793947005787206, 30.793947005787206, 30.793947005787206, 33.158165795153536, 33.158165795153536, 35.52238458451987, 37.8866033738862, 40.250822163252536, 44.9792597419852, 47.343478531351536, 52.0719161100842, 54.436134899450536, 54.436134899450536, 54.436134899450536, 56.80035368881687, 56.80035368881687, 59.1645724781832, 61.528791267549536, 63.89301005691587, 68.62144763564854, 68.62144763564854, 70.98566642501487, 73.3498852143812, 87.5351979505792, 94.6278543186782, 96.99207310804454, 96.99207310804454, 106.44894826550987, 113.54160463360887, 125.36269858044054, 130.0911361591732, 134.81957373790587, 141.91223010600487, 144.2764488953712, 255.39473199558887, 293.2222326254502], \"yaxis\": \"y4\"}, {\"marker\": {\"color\": \"rgba(152, 0, 0, .8)\"}, \"mode\": \"markers\", \"type\": \"scatter\", \"x\": [0, 2, 3, 3, 3, 4, 4, 4, 5, 5, 6, 6, 6, 7, 7, 7, 8, 8, 9, 9, 9, 10, 11, 11, 11, 12, 13, 13, 13, 13, 14, 14, 15, 16, 17, 19, 20, 22, 23, 23, 23, 24, 24, 25, 26, 27, 29, 29, 30, 31, 37, 40, 41, 41, 45, 48, 53, 55, 57, 60, 61, 108, 124], \"xaxis\": \"x5\", \"y\": [0.0, 6.6, 39.9, 13.2, 4.4, 38.1, 12.6, 11.8, 40.3, 20.9, 50.9, 14.6, 14.8, 27.9, 48.8, 77.5, 76.1, 55.6, 48.7, 87.4, 52.1, 65.3, 57.2, 21.3, 23.5, 58.1, 31.9, 15.7, 93.0, 89.9, 77.5, 95.5, 32.1, 59.6, 142.1, 46.2, 98.1, 161.5, 113.0, 39.6, 56.9, 137.9, 134.9, 69.2, 187.5, 92.6, 103.9, 133.3, 194.5, 209.8, 152.8, 119.4, 73.4, 181.3, 214.0, 248.1, 244.6, 162.8, 170.9, 202.4, 217.6, 392.5, 422.2], \"yaxis\": \"y5\"}, {\"marker\": {\"color\": \"rgba(0, 152, 0, .8)\"}, \"mode\": \"lines+markers\", \"type\": \"scatter\", \"x\": [0, 2, 3, 3, 3, 4, 4, 4, 5, 5, 6, 6, 6, 7, 7, 7, 8, 8, 9, 9, 9, 10, 11, 11, 11, 12, 13, 13, 13, 13, 14, 14, 15, 16, 17, 19, 20, 22, 23, 23, 23, 24, 24, 25, 26, 27, 29, 29, 30, 31, 37, 40, 41, 41, 45, 48, 53, 55, 57, 60, 61, 108, 124], \"xaxis\": \"x5\", \"y\": [0.06789801010128678, 5.424553888926332, 8.102881828338855, 8.102881828338855, 8.102881828338855, 10.781209767751378, 10.781209767751378, 10.781209767751378, 13.4595377071639, 13.4595377071639, 16.137865646576426, 16.137865646576426, 16.137865646576426, 18.816193585988948, 18.816193585988948, 18.816193585988948, 21.49452152540147, 21.49452152540147, 24.172849464813993, 24.172849464813993, 24.172849464813993, 26.851177404226515, 29.529505343639038, 29.529505343639038, 29.529505343639038, 32.20783328305156, 34.88616122246408, 34.88616122246408, 34.88616122246408, 34.88616122246408, 37.56448916187661, 37.56448916187661, 40.24281710128913, 42.92114504070165, 45.59947298011418, 50.95612885893922, 53.63445679835174, 58.99111267717679, 61.66944061658931, 61.66944061658931, 61.66944061658931, 64.34776855600184, 64.34776855600184, 67.02609649541436, 69.70442443482688, 72.3827523742394, 77.73940825306445, 77.73940825306445, 80.41773619247697, 83.09606413188949, 99.16603176836463, 107.2010155866022, 109.87934352601472, 109.87934352601472, 120.59265528366481, 128.6276391019024, 142.019278798965, 147.37593467779004, 152.7325905566151, 160.76757437485264, 163.44590231426517, 289.3273154666537, 332.1805624972541], \"yaxis\": \"y5\"}, {\"marker\": {\"color\": \"rgba(152, 0, 0, .8)\"}, \"mode\": \"markers\", \"type\": \"scatter\", \"x\": [0, 2, 3, 3, 3, 4, 4, 4, 5, 5, 6, 6, 6, 7, 7, 7, 8, 8, 9, 9, 9, 10, 11, 11, 11, 12, 13, 13, 13, 13, 14, 14, 15, 16, 17, 19, 20, 22, 23, 23, 23, 24, 24, 25, 26, 27, 29, 29, 30, 31, 37, 40, 41, 41, 45, 48, 53, 55, 57, 60, 61, 108, 124], \"xaxis\": \"x6\", \"y\": [0.0, 6.6, 39.9, 13.2, 4.4, 38.1, 12.6, 11.8, 40.3, 20.9, 50.9, 14.6, 14.8, 27.9, 48.8, 77.5, 76.1, 55.6, 48.7, 87.4, 52.1, 65.3, 57.2, 21.3, 23.5, 58.1, 31.9, 15.7, 93.0, 89.9, 77.5, 95.5, 32.1, 59.6, 142.1, 46.2, 98.1, 161.5, 113.0, 39.6, 56.9, 137.9, 134.9, 69.2, 187.5, 92.6, 103.9, 133.3, 194.5, 209.8, 152.8, 119.4, 73.4, 181.3, 214.0, 248.1, 244.6, 162.8, 170.9, 202.4, 217.6, 392.5, 422.2], \"yaxis\": \"y6\"}, {\"marker\": {\"color\": \"rgba(0, 152, 0, .8)\"}, \"mode\": \"lines+markers\", \"type\": \"scatter\", \"x\": [0, 2, 3, 3, 3, 4, 4, 4, 5, 5, 6, 6, 6, 7, 7, 7, 8, 8, 9, 9, 9, 10, 11, 11, 11, 12, 13, 13, 13, 13, 14, 14, 15, 16, 17, 19, 20, 22, 23, 23, 23, 24, 24, 25, 26, 27, 29, 29, 30, 31, 37, 40, 41, 41, 45, 48, 53, 55, 57, 60, 61, 108, 124], \"xaxis\": \"x6\", \"y\": [0.07525259806570377, 5.926702374124801, 8.85242726215435, 8.85242726215435, 8.85242726215435, 11.7781521501839, 11.7781521501839, 11.7781521501839, 14.703877038213449, 14.703877038213449, 17.629601926242994, 17.629601926242994, 17.629601926242994, 20.555326814272544, 20.555326814272544, 20.555326814272544, 23.481051702302093, 23.481051702302093, 26.406776590331642, 26.406776590331642, 26.406776590331642, 29.33250147836119, 32.25822636639074, 32.25822636639074, 32.25822636639074, 35.183951254420286, 38.109676142449835, 38.109676142449835, 38.109676142449835, 38.109676142449835, 41.035401030479385, 41.035401030479385, 43.961125918508934, 46.88685080653848, 49.81257569456803, 55.66402547062713, 58.58975035865668, 64.44120013471577, 67.36692502274532, 67.36692502274532, 67.36692502274532, 70.29264991077487, 70.29264991077487, 73.21837479880442, 76.14409968683397, 79.06982457486352, 84.92127435092262, 84.92127435092262, 87.84699923895217, 90.77272412698171, 108.32707345515901, 117.10424811924766, 120.0299730072772, 120.0299730072772, 131.7328725593954, 140.51004722348404, 155.13867166363178, 160.99012143969088, 166.84157121574998, 175.61874587983863, 178.54447076786818, 316.053540505257, 362.8651387137298], \"yaxis\": \"y6\"}, {\"marker\": {\"color\": \"rgba(152, 0, 0, .8)\"}, \"mode\": \"markers\", \"type\": \"scatter\", \"x\": [0, 2, 3, 3, 3, 4, 4, 4, 5, 5, 6, 6, 6, 7, 7, 7, 8, 8, 9, 9, 9, 10, 11, 11, 11, 12, 13, 13, 13, 13, 14, 14, 15, 16, 17, 19, 20, 22, 23, 23, 23, 24, 24, 25, 26, 27, 29, 29, 30, 31, 37, 40, 41, 41, 45, 48, 53, 55, 57, 60, 61, 108, 124], \"xaxis\": \"x7\", \"y\": [0.0, 6.6, 39.9, 13.2, 4.4, 38.1, 12.6, 11.8, 40.3, 20.9, 50.9, 14.6, 14.8, 27.9, 48.8, 77.5, 76.1, 55.6, 48.7, 87.4, 52.1, 65.3, 57.2, 21.3, 23.5, 58.1, 31.9, 15.7, 93.0, 89.9, 77.5, 95.5, 32.1, 59.6, 142.1, 46.2, 98.1, 161.5, 113.0, 39.6, 56.9, 137.9, 134.9, 69.2, 187.5, 92.6, 103.9, 133.3, 194.5, 209.8, 152.8, 119.4, 73.4, 181.3, 214.0, 248.1, 244.6, 162.8, 170.9, 202.4, 217.6, 392.5, 422.2], \"yaxis\": \"y7\"}, {\"marker\": {\"color\": \"rgba(0, 152, 0, .8)\"}, \"mode\": \"lines+markers\", \"type\": \"scatter\", \"x\": [0, 2, 3, 3, 3, 4, 4, 4, 5, 5, 6, 6, 6, 7, 7, 7, 8, 8, 9, 9, 9, 10, 11, 11, 11, 12, 13, 13, 13, 13, 14, 14, 15, 16, 17, 19, 20, 22, 23, 23, 23, 24, 24, 25, 26, 27, 29, 29, 30, 31, 37, 40, 41, 41, 45, 48, 53, 55, 57, 60, 61, 108, 124], \"xaxis\": \"x7\", \"y\": [0.08147240147172034, 6.322625153800327, 9.443201529964629, 9.443201529964629, 9.443201529964629, 12.563777906128932, 12.563777906128932, 12.563777906128932, 15.684354282293235, 15.684354282293235, 18.80493065845754, 18.80493065845754, 18.80493065845754, 21.925507034621845, 21.925507034621845, 21.925507034621845, 25.046083410786146, 25.046083410786146, 28.166659786950447, 28.166659786950447, 28.166659786950447, 31.287236163114752, 34.40781253927906, 34.40781253927906, 34.40781253927906, 37.52838891544336, 40.64896529160766, 40.64896529160766, 40.64896529160766, 40.64896529160766, 43.76954166777197, 43.76954166777197, 46.89011804393627, 50.01069442010057, 53.13127079626487, 59.37242354859348, 62.49299992475778, 68.73415267708639, 71.85472905325068, 71.85472905325068, 71.85472905325068, 74.97530542941499, 74.97530542941499, 78.0958818055793, 81.21645818174359, 84.3370345579079, 90.5781873102365, 90.5781873102365, 93.69876368640081, 96.8193400625651, 115.54279831955093, 124.90452744804384, 128.02510382420814, 128.02510382420814, 140.50740932886538, 149.86913845735828, 165.4720203381798, 171.7131730905084, 177.954325842837, 187.31605497132992, 190.43663134749423, 337.10372102721647, 387.0329430458453], \"yaxis\": \"y7\"}, {\"marker\": {\"color\": \"rgba(152, 0, 0, .8)\"}, \"mode\": \"markers\", \"type\": \"scatter\", \"x\": [0, 2, 3, 3, 3, 4, 4, 4, 5, 5, 6, 6, 6, 7, 7, 7, 8, 8, 9, 9, 9, 10, 11, 11, 11, 12, 13, 13, 13, 13, 14, 14, 15, 16, 17, 19, 20, 22, 23, 23, 23, 24, 24, 25, 26, 27, 29, 29, 30, 31, 37, 40, 41, 41, 45, 48, 53, 55, 57, 60, 61, 108, 124], \"xaxis\": \"x8\", \"y\": [0.0, 6.6, 39.9, 13.2, 4.4, 38.1, 12.6, 11.8, 40.3, 20.9, 50.9, 14.6, 14.8, 27.9, 48.8, 77.5, 76.1, 55.6, 48.7, 87.4, 52.1, 65.3, 57.2, 21.3, 23.5, 58.1, 31.9, 15.7, 93.0, 89.9, 77.5, 95.5, 32.1, 59.6, 142.1, 46.2, 98.1, 161.5, 113.0, 39.6, 56.9, 137.9, 134.9, 69.2, 187.5, 92.6, 103.9, 133.3, 194.5, 209.8, 152.8, 119.4, 73.4, 181.3, 214.0, 248.1, 244.6, 162.8, 170.9, 202.4, 217.6, 392.5, 422.2], \"yaxis\": \"y8\"}, {\"marker\": {\"color\": \"rgba(0, 152, 0, .8)\"}, \"mode\": \"lines+markers\", \"type\": \"scatter\", \"x\": [0, 2, 3, 3, 3, 4, 4, 4, 5, 5, 6, 6, 6, 7, 7, 7, 8, 8, 9, 9, 9, 10, 11, 11, 11, 12, 13, 13, 13, 13, 14, 14, 15, 16, 17, 19, 20, 22, 23, 23, 23, 24, 24, 25, 26, 27, 29, 29, 30, 31, 37, 40, 41, 41, 45, 48, 53, 55, 57, 60, 61, 108, 124], \"xaxis\": \"x8\", \"y\": [0.0867983555285527, 6.634879858574332, 9.908920610097223, 9.908920610097223, 9.908920610097223, 13.182961361620112, 13.182961361620112, 13.182961361620112, 16.457002113143005, 16.457002113143005, 19.731042864665895, 19.731042864665895, 19.731042864665895, 23.005083616188784, 23.005083616188784, 23.005083616188784, 26.279124367711674, 26.279124367711674, 29.553165119234563, 29.553165119234563, 29.553165119234563, 32.82720587075745, 36.10124662228034, 36.10124662228034, 36.10124662228034, 39.37528737380323, 42.64932812532612, 42.64932812532612, 42.64932812532612, 42.64932812532612, 45.92336887684901, 45.92336887684901, 49.1974096283719, 52.47145037989479, 55.74549113141768, 62.29357263446346, 65.56761338598636, 72.11569488903214, 75.38973564055503, 75.38973564055503, 75.38973564055503, 78.66377639207792, 78.66377639207792, 81.93781714360081, 85.2118578951237, 88.48589864664659, 95.03398014969237, 95.03398014969237, 98.30802090121526, 101.58206165273815, 121.22630616187548, 131.04842841644415, 134.32246916796703, 134.32246916796703, 147.4186321740586, 157.24075442862727, 173.6109581862417, 180.15903968928748, 186.70712119233326, 196.52924344690194, 199.80328419842482, 353.6831995200007, 406.06785154436693], \"yaxis\": \"y8\"}, {\"marker\": {\"color\": \"rgba(152, 0, 0, .8)\"}, \"mode\": \"markers\", \"type\": \"scatter\", \"x\": [0, 2, 3, 3, 3, 4, 4, 4, 5, 5, 6, 6, 6, 7, 7, 7, 8, 8, 9, 9, 9, 10, 11, 11, 11, 12, 13, 13, 13, 13, 14, 14, 15, 16, 17, 19, 20, 22, 23, 23, 23, 24, 24, 25, 26, 27, 29, 29, 30, 31, 37, 40, 41, 41, 45, 48, 53, 55, 57, 60, 61, 108, 124], \"xaxis\": \"x9\", \"y\": [0.0, 6.6, 39.9, 13.2, 4.4, 38.1, 12.6, 11.8, 40.3, 20.9, 50.9, 14.6, 14.8, 27.9, 48.8, 77.5, 76.1, 55.6, 48.7, 87.4, 52.1, 65.3, 57.2, 21.3, 23.5, 58.1, 31.9, 15.7, 93.0, 89.9, 77.5, 95.5, 32.1, 59.6, 142.1, 46.2, 98.1, 161.5, 113.0, 39.6, 56.9, 137.9, 134.9, 69.2, 187.5, 92.6, 103.9, 133.3, 194.5, 209.8, 152.8, 119.4, 73.4, 181.3, 214.0, 248.1, 244.6, 162.8, 170.9, 202.4, 217.6, 392.5, 422.2], \"yaxis\": \"y9\"}, {\"marker\": {\"color\": \"rgba(0, 152, 0, .8)\"}, \"mode\": \"lines+markers\", \"type\": \"scatter\", \"x\": [0, 2, 3, 3, 3, 4, 4, 4, 5, 5, 6, 6, 6, 7, 7, 7, 8, 8, 9, 9, 9, 10, 11, 11, 11, 12, 13, 13, 13, 13, 14, 14, 15, 16, 17, 19, 20, 22, 23, 23, 23, 24, 24, 25, 26, 27, 29, 29, 30, 31, 37, 40, 41, 41, 45, 48, 53, 55, 57, 60, 61, 108, 124], \"xaxis\": \"x9\", \"y\": [0.0914202313988834, 6.881233869590062, 10.276140688685652, 10.276140688685652, 10.276140688685652, 13.67104750778124, 13.67104750778124, 13.67104750778124, 17.065954326876827, 17.065954326876827, 20.46086114597242, 20.46086114597242, 20.46086114597242, 23.855767965068008, 23.855767965068008, 23.855767965068008, 27.250674784163596, 27.250674784163596, 30.645581603259185, 30.645581603259185, 30.645581603259185, 34.04048842235478, 37.435395241450365, 37.435395241450365, 37.435395241450365, 40.83030206054596, 44.22520887964155, 44.22520887964155, 44.22520887964155, 44.22520887964155, 47.62011569873714, 47.62011569873714, 51.015022517832726, 54.409929336928315, 57.8048361560239, 64.59464979421509, 67.98955661331067, 74.77937025150185, 78.17427707059744, 78.17427707059744, 78.17427707059744, 81.56918388969304, 81.56918388969304, 84.96409070878862, 88.35899752788421, 91.7539043469798, 98.54371798517097, 98.54371798517097, 101.93862480426657, 105.33353162336215, 125.7029725379357, 135.88769299522244, 139.28259981431805, 139.28259981431805, 152.8622270907004, 163.04694754798717, 180.0214816434651, 186.81129528165627, 193.60110891984746, 203.78582937713423, 207.18073619622982, 366.74135669372254, 421.05986579925195], \"yaxis\": \"y9\"}, {\"marker\": {\"color\": \"rgba(152, 0, 0, .8)\"}, \"mode\": \"markers\", \"type\": \"scatter\", \"x\": [0, 2, 3, 3, 3, 4, 4, 4, 5, 5, 6, 6, 6, 7, 7, 7, 8, 8, 9, 9, 9, 10, 11, 11, 11, 12, 13, 13, 13, 13, 14, 14, 15, 16, 17, 19, 20, 22, 23, 23, 23, 24, 24, 25, 26, 27, 29, 29, 30, 31, 37, 40, 41, 41, 45, 48, 53, 55, 57, 60, 61, 108, 124], \"xaxis\": \"x10\", \"y\": [0.0, 6.6, 39.9, 13.2, 4.4, 38.1, 12.6, 11.8, 40.3, 20.9, 50.9, 14.6, 14.8, 27.9, 48.8, 77.5, 76.1, 55.6, 48.7, 87.4, 52.1, 65.3, 57.2, 21.3, 23.5, 58.1, 31.9, 15.7, 93.0, 89.9, 77.5, 95.5, 32.1, 59.6, 142.1, 46.2, 98.1, 161.5, 113.0, 39.6, 56.9, 137.9, 134.9, 69.2, 187.5, 92.6, 103.9, 133.3, 194.5, 209.8, 152.8, 119.4, 73.4, 181.3, 214.0, 248.1, 244.6, 162.8, 170.9, 202.4, 217.6, 392.5, 422.2], \"yaxis\": \"y10\"}, {\"marker\": {\"color\": \"rgba(0, 152, 0, .8)\"}, \"mode\": \"lines+markers\", \"type\": \"scatter\", \"x\": [0, 2, 3, 3, 3, 4, 4, 4, 5, 5, 6, 6, 6, 7, 7, 7, 8, 8, 9, 9, 9, 10, 11, 11, 11, 12, 13, 13, 13, 13, 14, 14, 15, 16, 17, 19, 20, 22, 23, 23, 23, 24, 24, 25, 26, 27, 29, 29, 30, 31, 37, 40, 41, 41, 45, 48, 53, 55, 57, 60, 61, 108, 124], \"xaxis\": \"x10\", \"y\": [0.09548750119401653, 7.07568155700133, 10.565778584904987, 10.565778584904987, 10.565778584904987, 14.055875612808643, 14.055875612808643, 14.055875612808643, 17.545972640712304, 17.545972640712304, 21.03606966861596, 21.03606966861596, 21.03606966861596, 24.526166696519613, 24.526166696519613, 24.526166696519613, 28.016263724423272, 28.016263724423272, 31.50636075232693, 31.50636075232693, 31.50636075232693, 34.996457780230585, 38.48655480813424, 38.48655480813424, 38.48655480813424, 41.976651836037895, 45.466748863941554, 45.466748863941554, 45.466748863941554, 45.466748863941554, 48.956845891845205, 48.956845891845205, 52.446942919748864, 55.93703994765252, 59.42713697555618, 66.4073310313635, 69.89742805926716, 76.87762211507446, 80.36771914297812, 80.36771914297812, 80.36771914297812, 83.85781617088178, 83.85781617088178, 87.34791319878543, 90.8380102266891, 94.32810725459275, 101.30830131040005, 101.30830131040005, 104.79839833830371, 108.28849536620737, 129.22907753362932, 139.6993686173403, 143.18946564524393, 143.18946564524393, 157.14985375685856, 167.62014484056954, 185.07062998008783, 192.05082403589515, 199.03101809170244, 209.5013091754134, 212.99140620331707, 377.025966514789, 432.86751896124747], \"yaxis\": \"y10\"}, {\"marker\": {\"color\": \"rgba(152, 0, 0, .8)\"}, \"mode\": \"markers\", \"type\": \"scatter\", \"x\": [0, 2, 3, 3, 3, 4, 4, 4, 5, 5, 6, 6, 6, 7, 7, 7, 8, 8, 9, 9, 9, 10, 11, 11, 11, 12, 13, 13, 13, 13, 14, 14, 15, 16, 17, 19, 20, 22, 23, 23, 23, 24, 24, 25, 26, 27, 29, 29, 30, 31, 37, 40, 41, 41, 45, 48, 53, 55, 57, 60, 61, 108, 124], \"xaxis\": \"x11\", \"y\": [0.0, 6.6, 39.9, 13.2, 4.4, 38.1, 12.6, 11.8, 40.3, 20.9, 50.9, 14.6, 14.8, 27.9, 48.8, 77.5, 76.1, 55.6, 48.7, 87.4, 52.1, 65.3, 57.2, 21.3, 23.5, 58.1, 31.9, 15.7, 93.0, 89.9, 77.5, 95.5, 32.1, 59.6, 142.1, 46.2, 98.1, 161.5, 113.0, 39.6, 56.9, 137.9, 134.9, 69.2, 187.5, 92.6, 103.9, 133.3, 194.5, 209.8, 152.8, 119.4, 73.4, 181.3, 214.0, 248.1, 244.6, 162.8, 170.9, 202.4, 217.6, 392.5, 422.2], \"yaxis\": \"y11\"}, {\"marker\": {\"color\": \"rgba(0, 152, 0, .8)\"}, \"mode\": \"lines+markers\", \"type\": \"scatter\", \"x\": [0, 2, 3, 3, 3, 4, 4, 4, 5, 5, 6, 6, 6, 7, 7, 7, 8, 8, 9, 9, 9, 10, 11, 11, 11, 12, 13, 13, 13, 13, 14, 14, 15, 16, 17, 19, 20, 22, 23, 23, 23, 24, 24, 25, 26, 27, 29, 29, 30, 31, 37, 40, 41, 41, 45, 48, 53, 55, 57, 60, 61, 108, 124], \"xaxis\": \"x11\", \"y\": [0.09911789572150796, 7.229245501707302, 10.794309304700198, 10.794309304700198, 10.794309304700198, 14.359373107693095, 14.359373107693095, 14.359373107693095, 17.924436910685994, 17.924436910685994, 21.48950071367889, 21.48950071367889, 21.48950071367889, 25.05456451667179, 25.05456451667179, 25.05456451667179, 28.619628319664685, 28.619628319664685, 32.18469212265758, 32.18469212265758, 32.18469212265758, 35.749755925650476, 39.31481972864337, 39.31481972864337, 39.31481972864337, 42.87988353163627, 46.44494733462916, 46.44494733462916, 46.44494733462916, 46.44494733462916, 50.010011137622065, 50.010011137622065, 53.57507494061496, 57.14013874360786, 60.70520254660075, 67.83533015258655, 71.40039395557945, 78.53052156156524, 82.09558536455813, 82.09558536455813, 82.09558536455813, 85.66064916755103, 85.66064916755103, 89.22571297054392, 92.79077677353682, 96.35584057652973, 103.48596818251552, 103.48596818251552, 107.05103198550842, 110.61609578850131, 132.0064786064587, 142.7016700154374, 146.26673381843028, 146.26673381843028, 160.5269890304019, 171.22218043938057, 189.04749945434506, 196.17762706033085, 203.30775466631664, 214.00294607529534, 217.56800987828822, 385.1260086189544, 442.16702946684075], \"yaxis\": \"y11\"}, {\"marker\": {\"color\": \"rgba(152, 0, 0, .8)\"}, \"mode\": \"markers\", \"type\": \"scatter\", \"x\": [0, 2, 3, 3, 3, 4, 4, 4, 5, 5, 6, 6, 6, 7, 7, 7, 8, 8, 9, 9, 9, 10, 11, 11, 11, 12, 13, 13, 13, 13, 14, 14, 15, 16, 17, 19, 20, 22, 23, 23, 23, 24, 24, 25, 26, 27, 29, 29, 30, 31, 37, 40, 41, 41, 45, 48, 53, 55, 57, 60, 61, 108, 124], \"xaxis\": \"x12\", \"y\": [0.0, 6.6, 39.9, 13.2, 4.4, 38.1, 12.6, 11.8, 40.3, 20.9, 50.9, 14.6, 14.8, 27.9, 48.8, 77.5, 76.1, 55.6, 48.7, 87.4, 52.1, 65.3, 57.2, 21.3, 23.5, 58.1, 31.9, 15.7, 93.0, 89.9, 77.5, 95.5, 32.1, 59.6, 142.1, 46.2, 98.1, 161.5, 113.0, 39.6, 56.9, 137.9, 134.9, 69.2, 187.5, 92.6, 103.9, 133.3, 194.5, 209.8, 152.8, 119.4, 73.4, 181.3, 214.0, 248.1, 244.6, 162.8, 170.9, 202.4, 217.6, 392.5, 422.2], \"yaxis\": \"y12\"}, {\"marker\": {\"color\": \"rgba(0, 152, 0, .8)\"}, \"mode\": \"lines+markers\", \"type\": \"scatter\", \"x\": [0, 2, 3, 3, 3, 4, 4, 4, 5, 5, 6, 6, 6, 7, 7, 7, 8, 8, 9, 9, 9, 10, 11, 11, 11, 12, 13, 13, 13, 13, 14, 14, 15, 16, 17, 19, 20, 22, 23, 23, 23, 24, 24, 25, 26, 27, 29, 29, 30, 31, 37, 40, 41, 41, 45, 48, 53, 55, 57, 60, 61, 108, 124], \"xaxis\": \"x12\", \"y\": [0.10240414494325652, 7.350607572799309, 10.974709286727336, 10.974709286727336, 10.974709286727336, 14.598811000655363, 14.598811000655363, 14.598811000655363, 18.22291271458339, 18.22291271458339, 21.847014428511415, 21.847014428511415, 21.847014428511415, 25.471116142439442, 25.471116142439442, 25.471116142439442, 29.09521785636747, 29.09521785636747, 32.7193195702955, 32.7193195702955, 32.7193195702955, 36.343421284223524, 39.96752299815155, 39.96752299815155, 39.96752299815155, 43.59162471207957, 47.2157264260076, 47.2157264260076, 47.2157264260076, 47.2157264260076, 50.839828139935626, 50.839828139935626, 54.463929853863654, 58.08803156779168, 61.71213328171971, 68.96033670957576, 72.58443842350378, 79.83264185135984, 83.45674356528787, 83.45674356528787, 83.45674356528787, 87.08084527921588, 87.08084527921588, 90.7049469931439, 94.32904870707193, 97.95315042099996, 105.20135384885602, 105.20135384885602, 108.82545556278404, 112.44955727671207, 134.19416756028022, 145.06647270206432, 148.69057441599233, 148.69057441599233, 163.18698127170444, 174.0592864134885, 192.17979498312866, 199.4279984109847, 206.67620183884077, 217.54850698062484, 221.17260869455288, 391.5053892491701, 449.49101667201853], \"yaxis\": \"y12\"}],\n",
              "                        {\"annotations\": [{\"font\": {\"size\": 16}, \"showarrow\": false, \"text\": \"Iter: 1 MSE 11187.83\", \"x\": 0.10625, \"xanchor\": \"center\", \"xref\": \"paper\", \"y\": 1.0, \"yanchor\": \"bottom\", \"yref\": \"paper\"}, {\"font\": {\"size\": 16}, \"showarrow\": false, \"text\": \"Iter: 2 MSE 7491.59\", \"x\": 0.36875, \"xanchor\": \"center\", \"xref\": \"paper\", \"y\": 1.0, \"yanchor\": \"bottom\", \"yref\": \"paper\"}, {\"font\": {\"size\": 16}, \"showarrow\": false, \"text\": \"Iter: 3 MSE 5198.49\", \"x\": 0.6312500000000001, \"xanchor\": \"center\", \"xref\": \"paper\", \"y\": 1.0, \"yanchor\": \"bottom\", \"yref\": \"paper\"}, {\"font\": {\"size\": 16}, \"showarrow\": false, \"text\": \"Iter: 4 MSE 3775.88\", \"x\": 0.89375, \"xanchor\": \"center\", \"xref\": \"paper\", \"y\": 1.0, \"yanchor\": \"bottom\", \"yref\": \"paper\"}, {\"font\": {\"size\": 16}, \"showarrow\": false, \"text\": \"Iter: 5 MSE 2893.30\", \"x\": 0.10625, \"xanchor\": \"center\", \"xref\": \"paper\", \"y\": 0.6111111111111112, \"yanchor\": \"bottom\", \"yref\": \"paper\"}, {\"font\": {\"size\": 16}, \"showarrow\": false, \"text\": \"Iter: 6 MSE 2345.74\", \"x\": 0.36875, \"xanchor\": \"center\", \"xref\": \"paper\", \"y\": 0.6111111111111112, \"yanchor\": \"bottom\", \"yref\": \"paper\"}, {\"font\": {\"size\": 16}, \"showarrow\": false, \"text\": \"Iter: 7 MSE 2006.04\", \"x\": 0.6312500000000001, \"xanchor\": \"center\", \"xref\": \"paper\", \"y\": 0.6111111111111112, \"yanchor\": \"bottom\", \"yref\": \"paper\"}, {\"font\": {\"size\": 16}, \"showarrow\": false, \"text\": \"Iter: 8 MSE 1795.27\", \"x\": 0.89375, \"xanchor\": \"center\", \"xref\": \"paper\", \"y\": 0.6111111111111112, \"yanchor\": \"bottom\", \"yref\": \"paper\"}, {\"font\": {\"size\": 16}, \"showarrow\": false, \"text\": \"Iter: 9 MSE 1664.50\", \"x\": 0.10625, \"xanchor\": \"center\", \"xref\": \"paper\", \"y\": 0.22222222222222224, \"yanchor\": \"bottom\", \"yref\": \"paper\"}, {\"font\": {\"size\": 16}, \"showarrow\": false, \"text\": \"Iter: 10 MSE 1583.36\", \"x\": 0.36875, \"xanchor\": \"center\", \"xref\": \"paper\", \"y\": 0.22222222222222224, \"yanchor\": \"bottom\", \"yref\": \"paper\"}, {\"font\": {\"size\": 16}, \"showarrow\": false, \"text\": \"Iter: 11 MSE 1533.00\", \"x\": 0.6312500000000001, \"xanchor\": \"center\", \"xref\": \"paper\", \"y\": 0.22222222222222224, \"yanchor\": \"bottom\", \"yref\": \"paper\"}, {\"font\": {\"size\": 16}, \"showarrow\": false, \"text\": \"Iter: 12 MSE 1501.75\", \"x\": 0.89375, \"xanchor\": \"center\", \"xref\": \"paper\", \"y\": 0.22222222222222224, \"yanchor\": \"bottom\", \"yref\": \"paper\"}], \"template\": {\"data\": {\"bar\": [{\"error_x\": {\"color\": \"#2a3f5f\"}, \"error_y\": {\"color\": \"#2a3f5f\"}, \"marker\": {\"line\": {\"color\": \"#E5ECF6\", \"width\": 0.5}}, \"type\": \"bar\"}], \"barpolar\": [{\"marker\": {\"line\": {\"color\": \"#E5ECF6\", \"width\": 0.5}}, \"type\": \"barpolar\"}], \"carpet\": [{\"aaxis\": {\"endlinecolor\": \"#2a3f5f\", \"gridcolor\": \"white\", \"linecolor\": \"white\", \"minorgridcolor\": \"white\", \"startlinecolor\": \"#2a3f5f\"}, \"baxis\": {\"endlinecolor\": \"#2a3f5f\", \"gridcolor\": \"white\", \"linecolor\": \"white\", \"minorgridcolor\": \"white\", \"startlinecolor\": \"#2a3f5f\"}, \"type\": \"carpet\"}], \"choropleth\": [{\"colorbar\": {\"outlinewidth\": 0, \"ticks\": \"\"}, \"type\": \"choropleth\"}], \"contour\": [{\"colorbar\": {\"outlinewidth\": 0, \"ticks\": \"\"}, \"colorscale\": [[0.0, \"#0d0887\"], [0.1111111111111111, \"#46039f\"], [0.2222222222222222, \"#7201a8\"], [0.3333333333333333, \"#9c179e\"], [0.4444444444444444, \"#bd3786\"], [0.5555555555555556, \"#d8576b\"], [0.6666666666666666, \"#ed7953\"], [0.7777777777777778, \"#fb9f3a\"], [0.8888888888888888, \"#fdca26\"], [1.0, \"#f0f921\"]], \"type\": \"contour\"}], \"contourcarpet\": [{\"colorbar\": {\"outlinewidth\": 0, \"ticks\": \"\"}, \"type\": \"contourcarpet\"}], \"heatmap\": [{\"colorbar\": {\"outlinewidth\": 0, \"ticks\": \"\"}, \"colorscale\": [[0.0, \"#0d0887\"], [0.1111111111111111, \"#46039f\"], [0.2222222222222222, \"#7201a8\"], [0.3333333333333333, \"#9c179e\"], [0.4444444444444444, \"#bd3786\"], [0.5555555555555556, \"#d8576b\"], [0.6666666666666666, \"#ed7953\"], [0.7777777777777778, \"#fb9f3a\"], [0.8888888888888888, \"#fdca26\"], [1.0, \"#f0f921\"]], \"type\": \"heatmap\"}], \"heatmapgl\": [{\"colorbar\": {\"outlinewidth\": 0, \"ticks\": \"\"}, \"colorscale\": [[0.0, \"#0d0887\"], [0.1111111111111111, \"#46039f\"], [0.2222222222222222, \"#7201a8\"], [0.3333333333333333, \"#9c179e\"], [0.4444444444444444, \"#bd3786\"], [0.5555555555555556, \"#d8576b\"], [0.6666666666666666, \"#ed7953\"], [0.7777777777777778, \"#fb9f3a\"], [0.8888888888888888, \"#fdca26\"], [1.0, \"#f0f921\"]], \"type\": \"heatmapgl\"}], \"histogram\": [{\"marker\": {\"colorbar\": {\"outlinewidth\": 0, \"ticks\": \"\"}}, \"type\": \"histogram\"}], \"histogram2d\": [{\"colorbar\": {\"outlinewidth\": 0, \"ticks\": \"\"}, \"colorscale\": [[0.0, \"#0d0887\"], [0.1111111111111111, \"#46039f\"], [0.2222222222222222, \"#7201a8\"], [0.3333333333333333, \"#9c179e\"], [0.4444444444444444, \"#bd3786\"], [0.5555555555555556, \"#d8576b\"], [0.6666666666666666, \"#ed7953\"], [0.7777777777777778, \"#fb9f3a\"], [0.8888888888888888, \"#fdca26\"], [1.0, \"#f0f921\"]], \"type\": \"histogram2d\"}], \"histogram2dcontour\": [{\"colorbar\": {\"outlinewidth\": 0, \"ticks\": \"\"}, \"colorscale\": [[0.0, \"#0d0887\"], [0.1111111111111111, \"#46039f\"], [0.2222222222222222, \"#7201a8\"], [0.3333333333333333, \"#9c179e\"], [0.4444444444444444, \"#bd3786\"], [0.5555555555555556, \"#d8576b\"], [0.6666666666666666, \"#ed7953\"], [0.7777777777777778, \"#fb9f3a\"], [0.8888888888888888, \"#fdca26\"], [1.0, \"#f0f921\"]], \"type\": \"histogram2dcontour\"}], \"mesh3d\": [{\"colorbar\": {\"outlinewidth\": 0, \"ticks\": \"\"}, \"type\": \"mesh3d\"}], \"parcoords\": [{\"line\": {\"colorbar\": {\"outlinewidth\": 0, \"ticks\": \"\"}}, \"type\": \"parcoords\"}], \"pie\": [{\"automargin\": true, \"type\": \"pie\"}], \"scatter\": [{\"marker\": {\"colorbar\": {\"outlinewidth\": 0, \"ticks\": \"\"}}, \"type\": \"scatter\"}], \"scatter3d\": [{\"line\": {\"colorbar\": {\"outlinewidth\": 0, \"ticks\": \"\"}}, \"marker\": {\"colorbar\": {\"outlinewidth\": 0, \"ticks\": \"\"}}, \"type\": \"scatter3d\"}], \"scattercarpet\": [{\"marker\": {\"colorbar\": {\"outlinewidth\": 0, \"ticks\": \"\"}}, \"type\": \"scattercarpet\"}], \"scattergeo\": [{\"marker\": {\"colorbar\": {\"outlinewidth\": 0, \"ticks\": \"\"}}, \"type\": \"scattergeo\"}], \"scattergl\": [{\"marker\": {\"colorbar\": {\"outlinewidth\": 0, \"ticks\": \"\"}}, \"type\": \"scattergl\"}], \"scattermapbox\": [{\"marker\": {\"colorbar\": {\"outlinewidth\": 0, \"ticks\": \"\"}}, \"type\": \"scattermapbox\"}], \"scatterpolar\": [{\"marker\": {\"colorbar\": {\"outlinewidth\": 0, \"ticks\": \"\"}}, \"type\": \"scatterpolar\"}], \"scatterpolargl\": [{\"marker\": {\"colorbar\": {\"outlinewidth\": 0, \"ticks\": \"\"}}, \"type\": \"scatterpolargl\"}], \"scatterternary\": [{\"marker\": {\"colorbar\": {\"outlinewidth\": 0, \"ticks\": \"\"}}, \"type\": \"scatterternary\"}], \"surface\": [{\"colorbar\": {\"outlinewidth\": 0, \"ticks\": \"\"}, \"colorscale\": [[0.0, \"#0d0887\"], [0.1111111111111111, \"#46039f\"], [0.2222222222222222, \"#7201a8\"], [0.3333333333333333, \"#9c179e\"], [0.4444444444444444, \"#bd3786\"], [0.5555555555555556, \"#d8576b\"], [0.6666666666666666, \"#ed7953\"], [0.7777777777777778, \"#fb9f3a\"], [0.8888888888888888, \"#fdca26\"], [1.0, \"#f0f921\"]], \"type\": \"surface\"}], \"table\": [{\"cells\": {\"fill\": {\"color\": \"#EBF0F8\"}, \"line\": {\"color\": \"white\"}}, \"header\": {\"fill\": {\"color\": \"#C8D4E3\"}, \"line\": {\"color\": \"white\"}}, \"type\": \"table\"}]}, \"layout\": {\"annotationdefaults\": {\"arrowcolor\": \"#2a3f5f\", \"arrowhead\": 0, \"arrowwidth\": 1}, \"coloraxis\": {\"colorbar\": {\"outlinewidth\": 0, \"ticks\": \"\"}}, \"colorscale\": {\"diverging\": [[0, \"#8e0152\"], [0.1, \"#c51b7d\"], [0.2, \"#de77ae\"], [0.3, \"#f1b6da\"], [0.4, \"#fde0ef\"], [0.5, \"#f7f7f7\"], [0.6, \"#e6f5d0\"], [0.7, \"#b8e186\"], [0.8, \"#7fbc41\"], [0.9, \"#4d9221\"], [1, \"#276419\"]], \"sequential\": [[0.0, \"#0d0887\"], [0.1111111111111111, \"#46039f\"], [0.2222222222222222, \"#7201a8\"], [0.3333333333333333, \"#9c179e\"], [0.4444444444444444, \"#bd3786\"], [0.5555555555555556, \"#d8576b\"], [0.6666666666666666, \"#ed7953\"], [0.7777777777777778, \"#fb9f3a\"], [0.8888888888888888, \"#fdca26\"], [1.0, \"#f0f921\"]], \"sequentialminus\": [[0.0, \"#0d0887\"], [0.1111111111111111, \"#46039f\"], [0.2222222222222222, \"#7201a8\"], [0.3333333333333333, \"#9c179e\"], [0.4444444444444444, \"#bd3786\"], [0.5555555555555556, \"#d8576b\"], [0.6666666666666666, \"#ed7953\"], [0.7777777777777778, \"#fb9f3a\"], [0.8888888888888888, \"#fdca26\"], [1.0, \"#f0f921\"]]}, \"colorway\": [\"#636efa\", \"#EF553B\", \"#00cc96\", \"#ab63fa\", \"#FFA15A\", \"#19d3f3\", \"#FF6692\", \"#B6E880\", \"#FF97FF\", \"#FECB52\"], \"font\": {\"color\": \"#2a3f5f\"}, \"geo\": {\"bgcolor\": \"white\", \"lakecolor\": \"white\", \"landcolor\": \"#E5ECF6\", \"showlakes\": true, \"showland\": true, \"subunitcolor\": \"white\"}, \"hoverlabel\": {\"align\": \"left\"}, \"hovermode\": \"closest\", \"mapbox\": {\"style\": \"light\"}, \"paper_bgcolor\": \"white\", \"plot_bgcolor\": \"#E5ECF6\", \"polar\": {\"angularaxis\": {\"gridcolor\": \"white\", \"linecolor\": \"white\", \"ticks\": \"\"}, \"bgcolor\": \"#E5ECF6\", \"radialaxis\": {\"gridcolor\": \"white\", \"linecolor\": \"white\", \"ticks\": \"\"}}, \"scene\": {\"xaxis\": {\"backgroundcolor\": \"#E5ECF6\", \"gridcolor\": \"white\", \"gridwidth\": 2, \"linecolor\": \"white\", \"showbackground\": true, \"ticks\": \"\", \"zerolinecolor\": \"white\"}, \"yaxis\": {\"backgroundcolor\": \"#E5ECF6\", \"gridcolor\": \"white\", \"gridwidth\": 2, \"linecolor\": \"white\", \"showbackground\": true, \"ticks\": \"\", \"zerolinecolor\": \"white\"}, \"zaxis\": {\"backgroundcolor\": \"#E5ECF6\", \"gridcolor\": \"white\", \"gridwidth\": 2, \"linecolor\": \"white\", \"showbackground\": true, \"ticks\": \"\", \"zerolinecolor\": \"white\"}}, \"shapedefaults\": {\"line\": {\"color\": \"#2a3f5f\"}}, \"ternary\": {\"aaxis\": {\"gridcolor\": \"white\", \"linecolor\": \"white\", \"ticks\": \"\"}, \"baxis\": {\"gridcolor\": \"white\", \"linecolor\": \"white\", \"ticks\": \"\"}, \"bgcolor\": \"#E5ECF6\", \"caxis\": {\"gridcolor\": \"white\", \"linecolor\": \"white\", \"ticks\": \"\"}}, \"title\": {\"x\": 0.05}, \"xaxis\": {\"automargin\": true, \"gridcolor\": \"white\", \"linecolor\": \"white\", \"ticks\": \"\", \"title\": {\"standoff\": 15}, \"zerolinecolor\": \"white\", \"zerolinewidth\": 2}, \"yaxis\": {\"automargin\": true, \"gridcolor\": \"white\", \"linecolor\": \"white\", \"ticks\": \"\", \"title\": {\"standoff\": 15}, \"zerolinecolor\": \"white\", \"zerolinewidth\": 2}}}, \"xaxis\": {\"anchor\": \"y\", \"domain\": [0.0, 0.2125]}, \"xaxis10\": {\"anchor\": \"y10\", \"domain\": [0.2625, 0.475]}, \"xaxis11\": {\"anchor\": \"y11\", \"domain\": [0.525, 0.7375]}, \"xaxis12\": {\"anchor\": \"y12\", \"domain\": [0.7875, 1.0]}, \"xaxis2\": {\"anchor\": \"y2\", \"domain\": [0.2625, 0.475]}, \"xaxis3\": {\"anchor\": \"y3\", \"domain\": [0.525, 0.7375]}, \"xaxis4\": {\"anchor\": \"y4\", \"domain\": [0.7875, 1.0]}, \"xaxis5\": {\"anchor\": \"y5\", \"domain\": [0.0, 0.2125]}, \"xaxis6\": {\"anchor\": \"y6\", \"domain\": [0.2625, 0.475]}, \"xaxis7\": {\"anchor\": \"y7\", \"domain\": [0.525, 0.7375]}, \"xaxis8\": {\"anchor\": \"y8\", \"domain\": [0.7875, 1.0]}, \"xaxis9\": {\"anchor\": \"y9\", \"domain\": [0.0, 0.2125]}, \"yaxis\": {\"anchor\": \"x\", \"domain\": [0.7777777777777778, 1.0]}, \"yaxis10\": {\"anchor\": \"x10\", \"domain\": [0.0, 0.22222222222222224]}, \"yaxis11\": {\"anchor\": \"x11\", \"domain\": [0.0, 0.22222222222222224]}, \"yaxis12\": {\"anchor\": \"x12\", \"domain\": [0.0, 0.22222222222222224]}, \"yaxis2\": {\"anchor\": \"x2\", \"domain\": [0.7777777777777778, 1.0]}, \"yaxis3\": {\"anchor\": \"x3\", \"domain\": [0.7777777777777778, 1.0]}, \"yaxis4\": {\"anchor\": \"x4\", \"domain\": [0.7777777777777778, 1.0]}, \"yaxis5\": {\"anchor\": \"x5\", \"domain\": [0.3888888888888889, 0.6111111111111112]}, \"yaxis6\": {\"anchor\": \"x6\", \"domain\": [0.3888888888888889, 0.6111111111111112]}, \"yaxis7\": {\"anchor\": \"x7\", \"domain\": [0.3888888888888889, 0.6111111111111112]}, \"yaxis8\": {\"anchor\": \"x8\", \"domain\": [0.3888888888888889, 0.6111111111111112]}, \"yaxis9\": {\"anchor\": \"x9\", \"domain\": [0.0, 0.22222222222222224]}},\n",
              "                        {\"responsive\": true}\n",
              "                    ).then(function(){\n",
              "                            \n",
              "var gd = document.getElementById('9fa860b8-1147-46f4-8a08-7211631892ae');\n",
              "var x = new MutationObserver(function (mutations, observer) {{\n",
              "        var display = window.getComputedStyle(gd).display;\n",
              "        if (!display || display === 'none') {{\n",
              "            console.log([gd, 'removed!']);\n",
              "            Plotly.purge(gd);\n",
              "            observer.disconnect();\n",
              "        }}\n",
              "}});\n",
              "\n",
              "// Listen for the removal of the full notebook cells\n",
              "var notebookContainer = gd.closest('#notebook-container');\n",
              "if (notebookContainer) {{\n",
              "    x.observe(notebookContainer, {childList: true});\n",
              "}}\n",
              "\n",
              "// Listen for the clearing of the current output cell\n",
              "var outputEl = gd.closest('.output');\n",
              "if (outputEl) {{\n",
              "    x.observe(outputEl, {childList: true});\n",
              "}}\n",
              "\n",
              "                        })\n",
              "                };\n",
              "                \n",
              "            </script>\n",
              "        </div>\n",
              "</body>\n",
              "</html>"
            ]
          },
          "metadata": {
            "tags": []
          }
        }
      ]
    },
    {
      "cell_type": "code",
      "metadata": {
        "trusted": true,
        "id": "htILUQ77YqJU",
        "outputId": "e27a34d9-f2bf-4d85-fb02-775760175949",
        "colab": {
          "base_uri": "https://localhost:8080/",
          "height": 34
        }
      },
      "source": [
        "subplot_titles=(\"Plot 1\", \"Plot 2\", \"Plot 3\", \"Plot 4\")\n",
        "subplot_titles"
      ],
      "execution_count": null,
      "outputs": [
        {
          "output_type": "execute_result",
          "data": {
            "text/plain": [
              "('Plot 1', 'Plot 2', 'Plot 3', 'Plot 4')"
            ]
          },
          "metadata": {
            "tags": []
          },
          "execution_count": 110
        }
      ]
    },
    {
      "cell_type": "markdown",
      "metadata": {
        "id": "4ibZdyb_p3nT"
      },
      "source": [
        "<br>\n"
      ]
    },
    {
      "cell_type": "markdown",
      "metadata": {
        "id": "opa2MnFFi39r"
      },
      "source": [
        "## Observations:\n",
        "\n",
        "\n",
        "1.   In this lab task, we try to calculate each step of Gradient Descent Algorithm applied to solve Linear Regression. As opposed to the previous lab task where we calculated the values for $b0$ and $b1$ at once using the concept of linear algebra and statistics. \n",
        "\n",
        "2. From this task and the respective graphs, we can easily see the effect of $b1$ and $b0$ being updated at each iteration and thus giving minimum error from the previous iteration. Initially we start with random values for $b1$ and $b0$ and then gradually update according to the calculation.\n",
        "\n",
        "3. We iterate thorough the number of times defined by the parameter named $epoch$. And at each iteration we calculate newer value of $b1$ and $b0$ and update them accordingly.\n",
        "\n",
        "4. At each iteration performed, we can see that we get less amount of error measured by $MSE (Mean Squred Error)$. However, since we are only making iterations based on the parameter $epoch$ and not considering relative error to stop the iteration, if we define larger value for $epoch$, then the error will increase again.\n",
        "\n",
        "  To solve this, we may consider relative error or if the current error is more than the previous one, in which case we would stop the iteration. \n",
        "\n",
        "5. For **learning rate** we initially considered it to be $0.0001$. If we choose this value even smaller, the gradient descent will take much longer time and/or iterations to reach to a minimum error. In other words, it will take more iterations to converge. On the other hand if we take too large of this value, the algorithm may fail to converge or even diverge. "
      ]
    }
  ]
}