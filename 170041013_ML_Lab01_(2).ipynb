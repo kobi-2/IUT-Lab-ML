{
  "nbformat": 4,
  "nbformat_minor": 0,
  "metadata": {
    "kernelspec": {
      "display_name": "Python 3",
      "language": "python",
      "name": "python3"
    },
    "language_info": {
      "codemirror_mode": {
        "name": "ipython",
        "version": 3
      },
      "file_extension": ".py",
      "mimetype": "text/x-python",
      "name": "python",
      "nbconvert_exporter": "python",
      "pygments_lexer": "ipython3",
      "version": "3.7.6"
    },
    "papermill": {
      "duration": 8.022576,
      "end_time": "2020-09-27T01:09:39.269869",
      "environment_variables": {},
      "exception": null,
      "input_path": "__notebook__.ipynb",
      "output_path": "__notebook__.ipynb",
      "parameters": {},
      "start_time": "2020-09-27T01:09:31.247293",
      "version": "2.1.0"
    },
    "colab": {
      "name": "170041013-ML-Lab01 (2).ipynb",
      "provenance": [],
      "collapsed_sections": [],
      "include_colab_link": true
    }
  },
  "cells": [
    {
      "cell_type": "markdown",
      "metadata": {
        "id": "view-in-github",
        "colab_type": "text"
      },
      "source": [
        "<a href=\"https://colab.research.google.com/github/kobi-2/IUT-Lab-ML/blob/master/170041013_ML_Lab01_(2).ipynb\" target=\"_parent\"><img src=\"https://colab.research.google.com/assets/colab-badge.svg\" alt=\"Open In Colab\"/></a>"
      ]
    },
    {
      "cell_type": "markdown",
      "metadata": {
        "papermill": {
          "duration": 0.010972,
          "end_time": "2020-09-27T01:09:35.902655",
          "exception": false,
          "start_time": "2020-09-27T01:09:35.891683",
          "status": "completed"
        },
        "tags": [],
        "id": "3agTU7YLp0qO"
      },
      "source": [
        "This is a very simple tutorial intended for the beginners to understand and implement Simple Linear Regression from the scratch. \n",
        "\n",
        "\n",
        "\n",
        "<font color='blue'> Simple Linear Regression </font> is a great first machine learning algorithm to implement as it requires you to estimate properties from your training dataset, but is simple enough for beginners to understand. Linear regression is a prediction method that is more than 200 years old. In this tutorial, you will discover how to implement the simple linear regression algorithm from scratch in Python.\n",
        "\n",
        "After completing this tutorial you will know:<br>\n",
        "&#9632; How to estimate statistical quantities from training data.<br>\n",
        "&#9632; How to estimate linear regression coefficients from data.<br>\n",
        "&#9632; How to make predictions using linear regression for new data.<br>\n",
        "\n",
        "\n",
        "Linear regression assumes a **linear or straight line relationship between the input variables (X) and the single output variable (y).** More specifically, that output (y) can be calculated from a linear combination of the input variables (X). When there is a single input variable, the method is referred to as a simple linear regression.\n",
        "\n",
        "In simple linear regression we can use statistics on the training data to estimate the coefficients required by the model to make predictions on new data.\n",
        "\n",
        "The line for a simple linear regression model can be written as:\n",
        "\n",
        "$$ y = b_0 + b_1 * x $$\n",
        "where $b_0$ and $b_1$ are the coefficients we must estimate from the training data. Once the coefficients are known, we can use this equation to estimate output values for $y$ given new input examples of $x$. It requires that you calculate statistical properties from the data such as **mean, variance** and **covariance.**\n",
        "\n"
      ]
    },
    {
      "cell_type": "code",
      "metadata": {
        "id": "TB8UO3fq7rM8"
      },
      "source": [
        "# from google.colab import drive\n",
        "# drive.mount('/content/drive')"
      ],
      "execution_count": null,
      "outputs": []
    },
    {
      "cell_type": "markdown",
      "metadata": {
        "papermill": {
          "duration": 0.009909,
          "end_time": "2020-09-27T01:09:35.923180",
          "exception": false,
          "start_time": "2020-09-27T01:09:35.913271",
          "status": "completed"
        },
        "tags": [],
        "id": "JomYKHjcp0qP"
      },
      "source": [
        "## <font color = 'blue'> Swedish Insurance Dataset</font>\n",
        "We will use a real dataset to demonstrate simple linear regression. The dataset is called the **“Auto Insurance in Sweden”** dataset and involves **<font color='blue'> predicting the total payment for all the claims in thousands of Swedish Kronor (y) given the total number of claims (x). </font>**\n",
        "\n",
        "This means that for a new number of claims (x) we will be able to predict the total payment of claims (y)."
      ]
    },
    {
      "cell_type": "code",
      "metadata": {
        "id": "rdCcpHLuqjWB"
      },
      "source": [
        "# from google.colab import drive\n",
        "# drive.mount('/content/drive')"
      ],
      "execution_count": null,
      "outputs": []
    },
    {
      "cell_type": "markdown",
      "metadata": {
        "papermill": {
          "duration": 0.009564,
          "end_time": "2020-09-27T01:09:35.943389",
          "exception": false,
          "start_time": "2020-09-27T01:09:35.933825",
          "status": "completed"
        },
        "tags": [],
        "id": "FQqqIjRvp0qS"
      },
      "source": [
        "Let's load some basic python libraries that we will need over the course of this tutorial. "
      ]
    },
    {
      "cell_type": "code",
      "metadata": {
        "execution": {
          "iopub.execute_input": "2020-09-27T01:09:35.968190Z",
          "iopub.status.busy": "2020-09-27T01:09:35.967588Z",
          "iopub.status.idle": "2020-09-27T01:09:36.984938Z",
          "shell.execute_reply": "2020-09-27T01:09:36.985425Z"
        },
        "papermill": {
          "duration": 1.03262,
          "end_time": "2020-09-27T01:09:36.985613",
          "exception": false,
          "start_time": "2020-09-27T01:09:35.952993",
          "status": "completed"
        },
        "tags": [],
        "id": "gpbirU-Op0qT"
      },
      "source": [
        "# library for manipulating the csv data\n",
        "import pandas as pd\n",
        "\n",
        "# library for scientific calculations on numbers + linear algebra\n",
        "import numpy as np\n",
        "import math\n",
        "\n",
        "# library for regular plot visualizations\n",
        "import matplotlib.pyplot as plt\n",
        "\n",
        "#library for responsive visualizations\n",
        "import plotly.express as px\n"
      ],
      "execution_count": null,
      "outputs": []
    },
    {
      "cell_type": "markdown",
      "metadata": {
        "papermill": {
          "duration": 0.010793,
          "end_time": "2020-09-27T01:09:37.007480",
          "exception": false,
          "start_time": "2020-09-27T01:09:36.996687",
          "status": "completed"
        },
        "tags": [],
        "id": "32fo11vBp0qZ"
      },
      "source": [
        "### Reading the data\n",
        "\n",
        "Manual Data Input or Google Drive Mount is **NOT REQUIRED**. Data is collected from [this link of google sheet that is published to the web.](https://docs.google.com/spreadsheets/d/e/2PACX-1vT5HJttPQr4IxRmaHDRGaO8IdXaDu_nvcGPZpWfTiqX6UxQ_5FnEx-E-T8FJbea41V0W2bEDSojp3on/pub?gid=1493896807&single=true&output=csv) \n"
      ]
    },
    {
      "cell_type": "code",
      "metadata": {
        "_cell_guid": "b1076dfc-b9ad-4769-8c92-a6c4dae69d19",
        "_uuid": "8f2839f25d086af736a60e9eeb907d3b93b6e0e5",
        "execution": {
          "iopub.execute_input": "2020-09-27T01:09:37.033257Z",
          "iopub.status.busy": "2020-09-27T01:09:37.032649Z",
          "iopub.status.idle": "2020-09-27T01:09:37.068594Z",
          "shell.execute_reply": "2020-09-27T01:09:37.069057Z"
        },
        "papermill": {
          "duration": 0.049495,
          "end_time": "2020-09-27T01:09:37.069187",
          "exception": false,
          "start_time": "2020-09-27T01:09:37.019692",
          "status": "completed"
        },
        "tags": [],
        "id": "OBJyevNKp0qa",
        "outputId": "d64f9aaa-65c1-4548-d023-c4a6c07689bc",
        "colab": {
          "base_uri": "https://localhost:8080/",
          "height": 170
        }
      },
      "source": [
        "# data = pd.read_csv('/content/swedish_insurance.csv')\n",
        "data = pd.read_csv('https://docs.google.com/spreadsheets/d/e/2PACX-1vT5HJttPQr4IxRmaHDRGaO8IdXaDu_nvcGPZpWfTiqX6UxQ_5FnEx-E-T8FJbea41V0W2bEDSojp3on/pub?gid=1493896807&single=true&output=csv')\n",
        "data.sort_values('X',inplace=True)\n",
        "data.info()"
      ],
      "execution_count": null,
      "outputs": [
        {
          "output_type": "stream",
          "text": [
            "<class 'pandas.core.frame.DataFrame'>\n",
            "Int64Index: 63 entries, 30 to 3\n",
            "Data columns (total 2 columns):\n",
            " #   Column  Non-Null Count  Dtype  \n",
            "---  ------  --------------  -----  \n",
            " 0   X       63 non-null     int64  \n",
            " 1   Y       63 non-null     float64\n",
            "dtypes: float64(1), int64(1)\n",
            "memory usage: 1.5 KB\n"
          ],
          "name": "stdout"
        }
      ]
    },
    {
      "cell_type": "code",
      "metadata": {
        "execution": {
          "iopub.execute_input": "2020-09-27T01:09:37.103589Z",
          "iopub.status.busy": "2020-09-27T01:09:37.102529Z",
          "iopub.status.idle": "2020-09-27T01:09:37.113694Z",
          "shell.execute_reply": "2020-09-27T01:09:37.114142Z"
        },
        "papermill": {
          "duration": 0.033797,
          "end_time": "2020-09-27T01:09:37.114307",
          "exception": false,
          "start_time": "2020-09-27T01:09:37.080510",
          "status": "completed"
        },
        "tags": [],
        "id": "AoUeb6HRp0qf",
        "outputId": "b2d8f6e2-9598-414c-d87e-4dbb2dd24ed1",
        "colab": {
          "base_uri": "https://localhost:8080/",
          "height": 376
        }
      },
      "source": [
        "print(data.columns)\n",
        "data.head(10)"
      ],
      "execution_count": null,
      "outputs": [
        {
          "output_type": "stream",
          "text": [
            "Index(['X', 'Y'], dtype='object')\n"
          ],
          "name": "stdout"
        },
        {
          "output_type": "execute_result",
          "data": {
            "text/html": [
              "<div>\n",
              "<style scoped>\n",
              "    .dataframe tbody tr th:only-of-type {\n",
              "        vertical-align: middle;\n",
              "    }\n",
              "\n",
              "    .dataframe tbody tr th {\n",
              "        vertical-align: top;\n",
              "    }\n",
              "\n",
              "    .dataframe thead th {\n",
              "        text-align: right;\n",
              "    }\n",
              "</style>\n",
              "<table border=\"1\" class=\"dataframe\">\n",
              "  <thead>\n",
              "    <tr style=\"text-align: right;\">\n",
              "      <th></th>\n",
              "      <th>X</th>\n",
              "      <th>Y</th>\n",
              "    </tr>\n",
              "  </thead>\n",
              "  <tbody>\n",
              "    <tr>\n",
              "      <th>30</th>\n",
              "      <td>0</td>\n",
              "      <td>0.0</td>\n",
              "    </tr>\n",
              "    <tr>\n",
              "      <th>15</th>\n",
              "      <td>2</td>\n",
              "      <td>6.6</td>\n",
              "    </tr>\n",
              "    <tr>\n",
              "      <th>49</th>\n",
              "      <td>3</td>\n",
              "      <td>39.9</td>\n",
              "    </tr>\n",
              "    <tr>\n",
              "      <th>23</th>\n",
              "      <td>3</td>\n",
              "      <td>13.2</td>\n",
              "    </tr>\n",
              "    <tr>\n",
              "      <th>18</th>\n",
              "      <td>3</td>\n",
              "      <td>4.4</td>\n",
              "    </tr>\n",
              "    <tr>\n",
              "      <th>29</th>\n",
              "      <td>4</td>\n",
              "      <td>38.1</td>\n",
              "    </tr>\n",
              "    <tr>\n",
              "      <th>38</th>\n",
              "      <td>4</td>\n",
              "      <td>12.6</td>\n",
              "    </tr>\n",
              "    <tr>\n",
              "      <th>26</th>\n",
              "      <td>4</td>\n",
              "      <td>11.8</td>\n",
              "    </tr>\n",
              "    <tr>\n",
              "      <th>33</th>\n",
              "      <td>5</td>\n",
              "      <td>40.3</td>\n",
              "    </tr>\n",
              "    <tr>\n",
              "      <th>10</th>\n",
              "      <td>5</td>\n",
              "      <td>20.9</td>\n",
              "    </tr>\n",
              "  </tbody>\n",
              "</table>\n",
              "</div>"
            ],
            "text/plain": [
              "    X     Y\n",
              "30  0   0.0\n",
              "15  2   6.6\n",
              "49  3  39.9\n",
              "23  3  13.2\n",
              "18  3   4.4\n",
              "29  4  38.1\n",
              "38  4  12.6\n",
              "26  4  11.8\n",
              "33  5  40.3\n",
              "10  5  20.9"
            ]
          },
          "metadata": {
            "tags": []
          },
          "execution_count": 413
        }
      ]
    },
    {
      "cell_type": "markdown",
      "metadata": {
        "papermill": {
          "duration": 0.011237,
          "end_time": "2020-09-27T01:09:37.137375",
          "exception": false,
          "start_time": "2020-09-27T01:09:37.126138",
          "status": "completed"
        },
        "tags": [],
        "id": "L3OlYIh0p0qj"
      },
      "source": [
        "Let's have a look at the data itself. You can either use `matplotlib.pyplot` or `plotly` for visualization. The latter one produces responsive visualizations. Try hovering over the points on the graph to see the actual values."
      ]
    },
    {
      "cell_type": "code",
      "metadata": {
        "execution": {
          "iopub.execute_input": "2020-09-27T01:09:37.166337Z",
          "iopub.status.busy": "2020-09-27T01:09:37.165689Z",
          "iopub.status.idle": "2020-09-27T01:09:38.534193Z",
          "shell.execute_reply": "2020-09-27T01:09:38.533571Z"
        },
        "papermill": {
          "duration": 1.386169,
          "end_time": "2020-09-27T01:09:38.534310",
          "exception": false,
          "start_time": "2020-09-27T01:09:37.148141",
          "status": "completed"
        },
        "tags": [],
        "id": "VqRo8xLOp0qk",
        "outputId": "a787b7d5-d237-402c-ca1b-26ccc339345e",
        "colab": {
          "base_uri": "https://localhost:8080/",
          "height": 1000
        }
      },
      "source": [
        "fig = px.box(data['X'], points = 'all')\n",
        "fig.update_layout(title = f'Distribution of X',title_x=0.5, yaxis_title= \"Number of Insurance Claims\")\n",
        "fig.show()\n",
        "\n",
        "fig = px.box(data['Y'], points = 'all')\n",
        "fig.update_layout(title = f'Distribution of Y',title_x=0.5, yaxis_title= \"Amount of Insurance Paid\")\n",
        "fig.show()"
      ],
      "execution_count": null,
      "outputs": [
        {
          "output_type": "display_data",
          "data": {
            "text/html": [
              "<html>\n",
              "<head><meta charset=\"utf-8\" /></head>\n",
              "<body>\n",
              "    <div>\n",
              "            <script src=\"https://cdnjs.cloudflare.com/ajax/libs/mathjax/2.7.5/MathJax.js?config=TeX-AMS-MML_SVG\"></script><script type=\"text/javascript\">if (window.MathJax) {MathJax.Hub.Config({SVG: {font: \"STIX-Web\"}});}</script>\n",
              "                <script type=\"text/javascript\">window.PlotlyConfig = {MathJaxConfig: 'local'};</script>\n",
              "        <script src=\"https://cdn.plot.ly/plotly-latest.min.js\"></script>    \n",
              "            <div id=\"00cf8fc0-7424-4bcc-9986-5135c0e084f1\" class=\"plotly-graph-div\" style=\"height:525px; width:100%;\"></div>\n",
              "            <script type=\"text/javascript\">\n",
              "                \n",
              "                    window.PLOTLYENV=window.PLOTLYENV || {};\n",
              "                    \n",
              "                if (document.getElementById(\"00cf8fc0-7424-4bcc-9986-5135c0e084f1\")) {\n",
              "                    Plotly.newPlot(\n",
              "                        '00cf8fc0-7424-4bcc-9986-5135c0e084f1',\n",
              "                        [],\n",
              "                        {\"boxmode\": \"group\", \"legend\": {\"tracegroupgap\": 0}, \"margin\": {\"t\": 60}, \"template\": {\"data\": {\"bar\": [{\"error_x\": {\"color\": \"#2a3f5f\"}, \"error_y\": {\"color\": \"#2a3f5f\"}, \"marker\": {\"line\": {\"color\": \"#E5ECF6\", \"width\": 0.5}}, \"type\": \"bar\"}], \"barpolar\": [{\"marker\": {\"line\": {\"color\": \"#E5ECF6\", \"width\": 0.5}}, \"type\": \"barpolar\"}], \"carpet\": [{\"aaxis\": {\"endlinecolor\": \"#2a3f5f\", \"gridcolor\": \"white\", \"linecolor\": \"white\", \"minorgridcolor\": \"white\", \"startlinecolor\": \"#2a3f5f\"}, \"baxis\": {\"endlinecolor\": \"#2a3f5f\", \"gridcolor\": \"white\", \"linecolor\": \"white\", \"minorgridcolor\": \"white\", \"startlinecolor\": \"#2a3f5f\"}, \"type\": \"carpet\"}], \"choropleth\": [{\"colorbar\": {\"outlinewidth\": 0, \"ticks\": \"\"}, \"type\": \"choropleth\"}], \"contour\": [{\"colorbar\": {\"outlinewidth\": 0, \"ticks\": \"\"}, \"colorscale\": [[0.0, \"#0d0887\"], [0.1111111111111111, \"#46039f\"], [0.2222222222222222, \"#7201a8\"], [0.3333333333333333, \"#9c179e\"], [0.4444444444444444, \"#bd3786\"], [0.5555555555555556, \"#d8576b\"], [0.6666666666666666, \"#ed7953\"], [0.7777777777777778, \"#fb9f3a\"], [0.8888888888888888, \"#fdca26\"], [1.0, \"#f0f921\"]], \"type\": \"contour\"}], \"contourcarpet\": [{\"colorbar\": {\"outlinewidth\": 0, \"ticks\": \"\"}, \"type\": \"contourcarpet\"}], \"heatmap\": [{\"colorbar\": {\"outlinewidth\": 0, \"ticks\": \"\"}, \"colorscale\": [[0.0, \"#0d0887\"], [0.1111111111111111, \"#46039f\"], [0.2222222222222222, \"#7201a8\"], [0.3333333333333333, \"#9c179e\"], [0.4444444444444444, \"#bd3786\"], [0.5555555555555556, \"#d8576b\"], [0.6666666666666666, \"#ed7953\"], [0.7777777777777778, \"#fb9f3a\"], [0.8888888888888888, \"#fdca26\"], [1.0, \"#f0f921\"]], \"type\": \"heatmap\"}], \"heatmapgl\": [{\"colorbar\": {\"outlinewidth\": 0, \"ticks\": \"\"}, \"colorscale\": [[0.0, \"#0d0887\"], [0.1111111111111111, \"#46039f\"], [0.2222222222222222, \"#7201a8\"], [0.3333333333333333, \"#9c179e\"], [0.4444444444444444, \"#bd3786\"], [0.5555555555555556, \"#d8576b\"], [0.6666666666666666, \"#ed7953\"], [0.7777777777777778, \"#fb9f3a\"], [0.8888888888888888, \"#fdca26\"], [1.0, \"#f0f921\"]], \"type\": \"heatmapgl\"}], \"histogram\": [{\"marker\": {\"colorbar\": {\"outlinewidth\": 0, \"ticks\": \"\"}}, \"type\": \"histogram\"}], \"histogram2d\": [{\"colorbar\": {\"outlinewidth\": 0, \"ticks\": \"\"}, \"colorscale\": [[0.0, \"#0d0887\"], [0.1111111111111111, \"#46039f\"], [0.2222222222222222, \"#7201a8\"], [0.3333333333333333, \"#9c179e\"], [0.4444444444444444, \"#bd3786\"], [0.5555555555555556, \"#d8576b\"], [0.6666666666666666, \"#ed7953\"], [0.7777777777777778, \"#fb9f3a\"], [0.8888888888888888, \"#fdca26\"], [1.0, \"#f0f921\"]], \"type\": \"histogram2d\"}], \"histogram2dcontour\": [{\"colorbar\": {\"outlinewidth\": 0, \"ticks\": \"\"}, \"colorscale\": [[0.0, \"#0d0887\"], [0.1111111111111111, \"#46039f\"], [0.2222222222222222, \"#7201a8\"], [0.3333333333333333, \"#9c179e\"], [0.4444444444444444, \"#bd3786\"], [0.5555555555555556, \"#d8576b\"], [0.6666666666666666, \"#ed7953\"], [0.7777777777777778, \"#fb9f3a\"], [0.8888888888888888, \"#fdca26\"], [1.0, \"#f0f921\"]], \"type\": \"histogram2dcontour\"}], \"mesh3d\": [{\"colorbar\": {\"outlinewidth\": 0, \"ticks\": \"\"}, \"type\": \"mesh3d\"}], \"parcoords\": [{\"line\": {\"colorbar\": {\"outlinewidth\": 0, \"ticks\": \"\"}}, \"type\": \"parcoords\"}], \"pie\": [{\"automargin\": true, \"type\": \"pie\"}], \"scatter\": [{\"marker\": {\"colorbar\": {\"outlinewidth\": 0, \"ticks\": \"\"}}, \"type\": \"scatter\"}], \"scatter3d\": [{\"line\": {\"colorbar\": {\"outlinewidth\": 0, \"ticks\": \"\"}}, \"marker\": {\"colorbar\": {\"outlinewidth\": 0, \"ticks\": \"\"}}, \"type\": \"scatter3d\"}], \"scattercarpet\": [{\"marker\": {\"colorbar\": {\"outlinewidth\": 0, \"ticks\": \"\"}}, \"type\": \"scattercarpet\"}], \"scattergeo\": [{\"marker\": {\"colorbar\": {\"outlinewidth\": 0, \"ticks\": \"\"}}, \"type\": \"scattergeo\"}], \"scattergl\": [{\"marker\": {\"colorbar\": {\"outlinewidth\": 0, \"ticks\": \"\"}}, \"type\": \"scattergl\"}], \"scattermapbox\": [{\"marker\": {\"colorbar\": {\"outlinewidth\": 0, \"ticks\": \"\"}}, \"type\": \"scattermapbox\"}], \"scatterpolar\": [{\"marker\": {\"colorbar\": {\"outlinewidth\": 0, \"ticks\": \"\"}}, \"type\": \"scatterpolar\"}], \"scatterpolargl\": [{\"marker\": {\"colorbar\": {\"outlinewidth\": 0, \"ticks\": \"\"}}, \"type\": \"scatterpolargl\"}], \"scatterternary\": [{\"marker\": {\"colorbar\": {\"outlinewidth\": 0, \"ticks\": \"\"}}, \"type\": \"scatterternary\"}], \"surface\": [{\"colorbar\": {\"outlinewidth\": 0, \"ticks\": \"\"}, \"colorscale\": [[0.0, \"#0d0887\"], [0.1111111111111111, \"#46039f\"], [0.2222222222222222, \"#7201a8\"], [0.3333333333333333, \"#9c179e\"], [0.4444444444444444, \"#bd3786\"], [0.5555555555555556, \"#d8576b\"], [0.6666666666666666, \"#ed7953\"], [0.7777777777777778, \"#fb9f3a\"], [0.8888888888888888, \"#fdca26\"], [1.0, \"#f0f921\"]], \"type\": \"surface\"}], \"table\": [{\"cells\": {\"fill\": {\"color\": \"#EBF0F8\"}, \"line\": {\"color\": \"white\"}}, \"header\": {\"fill\": {\"color\": \"#C8D4E3\"}, \"line\": {\"color\": \"white\"}}, \"type\": \"table\"}]}, \"layout\": {\"annotationdefaults\": {\"arrowcolor\": \"#2a3f5f\", \"arrowhead\": 0, \"arrowwidth\": 1}, \"coloraxis\": {\"colorbar\": {\"outlinewidth\": 0, \"ticks\": \"\"}}, \"colorscale\": {\"diverging\": [[0, \"#8e0152\"], [0.1, \"#c51b7d\"], [0.2, \"#de77ae\"], [0.3, \"#f1b6da\"], [0.4, \"#fde0ef\"], [0.5, \"#f7f7f7\"], [0.6, \"#e6f5d0\"], [0.7, \"#b8e186\"], [0.8, \"#7fbc41\"], [0.9, \"#4d9221\"], [1, \"#276419\"]], \"sequential\": [[0.0, \"#0d0887\"], [0.1111111111111111, \"#46039f\"], [0.2222222222222222, \"#7201a8\"], [0.3333333333333333, \"#9c179e\"], [0.4444444444444444, \"#bd3786\"], [0.5555555555555556, \"#d8576b\"], [0.6666666666666666, \"#ed7953\"], [0.7777777777777778, \"#fb9f3a\"], [0.8888888888888888, \"#fdca26\"], [1.0, \"#f0f921\"]], \"sequentialminus\": [[0.0, \"#0d0887\"], [0.1111111111111111, \"#46039f\"], [0.2222222222222222, \"#7201a8\"], [0.3333333333333333, \"#9c179e\"], [0.4444444444444444, \"#bd3786\"], [0.5555555555555556, \"#d8576b\"], [0.6666666666666666, \"#ed7953\"], [0.7777777777777778, \"#fb9f3a\"], [0.8888888888888888, \"#fdca26\"], [1.0, \"#f0f921\"]]}, \"colorway\": [\"#636efa\", \"#EF553B\", \"#00cc96\", \"#ab63fa\", \"#FFA15A\", \"#19d3f3\", \"#FF6692\", \"#B6E880\", \"#FF97FF\", \"#FECB52\"], \"font\": {\"color\": \"#2a3f5f\"}, \"geo\": {\"bgcolor\": \"white\", \"lakecolor\": \"white\", \"landcolor\": \"#E5ECF6\", \"showlakes\": true, \"showland\": true, \"subunitcolor\": \"white\"}, \"hoverlabel\": {\"align\": \"left\"}, \"hovermode\": \"closest\", \"mapbox\": {\"style\": \"light\"}, \"paper_bgcolor\": \"white\", \"plot_bgcolor\": \"#E5ECF6\", \"polar\": {\"angularaxis\": {\"gridcolor\": \"white\", \"linecolor\": \"white\", \"ticks\": \"\"}, \"bgcolor\": \"#E5ECF6\", \"radialaxis\": {\"gridcolor\": \"white\", \"linecolor\": \"white\", \"ticks\": \"\"}}, \"scene\": {\"xaxis\": {\"backgroundcolor\": \"#E5ECF6\", \"gridcolor\": \"white\", \"gridwidth\": 2, \"linecolor\": \"white\", \"showbackground\": true, \"ticks\": \"\", \"zerolinecolor\": \"white\"}, \"yaxis\": {\"backgroundcolor\": \"#E5ECF6\", \"gridcolor\": \"white\", \"gridwidth\": 2, \"linecolor\": \"white\", \"showbackground\": true, \"ticks\": \"\", \"zerolinecolor\": \"white\"}, \"zaxis\": {\"backgroundcolor\": \"#E5ECF6\", \"gridcolor\": \"white\", \"gridwidth\": 2, \"linecolor\": \"white\", \"showbackground\": true, \"ticks\": \"\", \"zerolinecolor\": \"white\"}}, \"shapedefaults\": {\"line\": {\"color\": \"#2a3f5f\"}}, \"ternary\": {\"aaxis\": {\"gridcolor\": \"white\", \"linecolor\": \"white\", \"ticks\": \"\"}, \"baxis\": {\"gridcolor\": \"white\", \"linecolor\": \"white\", \"ticks\": \"\"}, \"bgcolor\": \"#E5ECF6\", \"caxis\": {\"gridcolor\": \"white\", \"linecolor\": \"white\", \"ticks\": \"\"}}, \"title\": {\"x\": 0.05}, \"xaxis\": {\"automargin\": true, \"gridcolor\": \"white\", \"linecolor\": \"white\", \"ticks\": \"\", \"title\": {\"standoff\": 15}, \"zerolinecolor\": \"white\", \"zerolinewidth\": 2}, \"yaxis\": {\"automargin\": true, \"gridcolor\": \"white\", \"linecolor\": \"white\", \"ticks\": \"\", \"title\": {\"standoff\": 15}, \"zerolinecolor\": \"white\", \"zerolinewidth\": 2}}}, \"title\": {\"text\": \"Distribution of X\", \"x\": 0.5}, \"xaxis\": {\"anchor\": \"y\", \"domain\": [0.0, 1.0]}, \"yaxis\": {\"anchor\": \"x\", \"domain\": [0.0, 1.0], \"title\": {\"text\": \"Number of Insurance Claims\"}}},\n",
              "                        {\"responsive\": true}\n",
              "                    ).then(function(){\n",
              "                            \n",
              "var gd = document.getElementById('00cf8fc0-7424-4bcc-9986-5135c0e084f1');\n",
              "var x = new MutationObserver(function (mutations, observer) {{\n",
              "        var display = window.getComputedStyle(gd).display;\n",
              "        if (!display || display === 'none') {{\n",
              "            console.log([gd, 'removed!']);\n",
              "            Plotly.purge(gd);\n",
              "            observer.disconnect();\n",
              "        }}\n",
              "}});\n",
              "\n",
              "// Listen for the removal of the full notebook cells\n",
              "var notebookContainer = gd.closest('#notebook-container');\n",
              "if (notebookContainer) {{\n",
              "    x.observe(notebookContainer, {childList: true});\n",
              "}}\n",
              "\n",
              "// Listen for the clearing of the current output cell\n",
              "var outputEl = gd.closest('.output');\n",
              "if (outputEl) {{\n",
              "    x.observe(outputEl, {childList: true});\n",
              "}}\n",
              "\n",
              "                        })\n",
              "                };\n",
              "                \n",
              "            </script>\n",
              "        </div>\n",
              "</body>\n",
              "</html>"
            ]
          },
          "metadata": {
            "tags": []
          }
        },
        {
          "output_type": "display_data",
          "data": {
            "text/html": [
              "<html>\n",
              "<head><meta charset=\"utf-8\" /></head>\n",
              "<body>\n",
              "    <div>\n",
              "            <script src=\"https://cdnjs.cloudflare.com/ajax/libs/mathjax/2.7.5/MathJax.js?config=TeX-AMS-MML_SVG\"></script><script type=\"text/javascript\">if (window.MathJax) {MathJax.Hub.Config({SVG: {font: \"STIX-Web\"}});}</script>\n",
              "                <script type=\"text/javascript\">window.PlotlyConfig = {MathJaxConfig: 'local'};</script>\n",
              "        <script src=\"https://cdn.plot.ly/plotly-latest.min.js\"></script>    \n",
              "            <div id=\"fd37287d-1ba9-452c-b61a-f48ecfd46d52\" class=\"plotly-graph-div\" style=\"height:525px; width:100%;\"></div>\n",
              "            <script type=\"text/javascript\">\n",
              "                \n",
              "                    window.PLOTLYENV=window.PLOTLYENV || {};\n",
              "                    \n",
              "                if (document.getElementById(\"fd37287d-1ba9-452c-b61a-f48ecfd46d52\")) {\n",
              "                    Plotly.newPlot(\n",
              "                        'fd37287d-1ba9-452c-b61a-f48ecfd46d52',\n",
              "                        [],\n",
              "                        {\"boxmode\": \"group\", \"legend\": {\"tracegroupgap\": 0}, \"margin\": {\"t\": 60}, \"template\": {\"data\": {\"bar\": [{\"error_x\": {\"color\": \"#2a3f5f\"}, \"error_y\": {\"color\": \"#2a3f5f\"}, \"marker\": {\"line\": {\"color\": \"#E5ECF6\", \"width\": 0.5}}, \"type\": \"bar\"}], \"barpolar\": [{\"marker\": {\"line\": {\"color\": \"#E5ECF6\", \"width\": 0.5}}, \"type\": \"barpolar\"}], \"carpet\": [{\"aaxis\": {\"endlinecolor\": \"#2a3f5f\", \"gridcolor\": \"white\", \"linecolor\": \"white\", \"minorgridcolor\": \"white\", \"startlinecolor\": \"#2a3f5f\"}, \"baxis\": {\"endlinecolor\": \"#2a3f5f\", \"gridcolor\": \"white\", \"linecolor\": \"white\", \"minorgridcolor\": \"white\", \"startlinecolor\": \"#2a3f5f\"}, \"type\": \"carpet\"}], \"choropleth\": [{\"colorbar\": {\"outlinewidth\": 0, \"ticks\": \"\"}, \"type\": \"choropleth\"}], \"contour\": [{\"colorbar\": {\"outlinewidth\": 0, \"ticks\": \"\"}, \"colorscale\": [[0.0, \"#0d0887\"], [0.1111111111111111, \"#46039f\"], [0.2222222222222222, \"#7201a8\"], [0.3333333333333333, \"#9c179e\"], [0.4444444444444444, \"#bd3786\"], [0.5555555555555556, \"#d8576b\"], [0.6666666666666666, \"#ed7953\"], [0.7777777777777778, \"#fb9f3a\"], [0.8888888888888888, \"#fdca26\"], [1.0, \"#f0f921\"]], \"type\": \"contour\"}], \"contourcarpet\": [{\"colorbar\": {\"outlinewidth\": 0, \"ticks\": \"\"}, \"type\": \"contourcarpet\"}], \"heatmap\": [{\"colorbar\": {\"outlinewidth\": 0, \"ticks\": \"\"}, \"colorscale\": [[0.0, \"#0d0887\"], [0.1111111111111111, \"#46039f\"], [0.2222222222222222, \"#7201a8\"], [0.3333333333333333, \"#9c179e\"], [0.4444444444444444, \"#bd3786\"], [0.5555555555555556, \"#d8576b\"], [0.6666666666666666, \"#ed7953\"], [0.7777777777777778, \"#fb9f3a\"], [0.8888888888888888, \"#fdca26\"], [1.0, \"#f0f921\"]], \"type\": \"heatmap\"}], \"heatmapgl\": [{\"colorbar\": {\"outlinewidth\": 0, \"ticks\": \"\"}, \"colorscale\": [[0.0, \"#0d0887\"], [0.1111111111111111, \"#46039f\"], [0.2222222222222222, \"#7201a8\"], [0.3333333333333333, \"#9c179e\"], [0.4444444444444444, \"#bd3786\"], [0.5555555555555556, \"#d8576b\"], [0.6666666666666666, \"#ed7953\"], [0.7777777777777778, \"#fb9f3a\"], [0.8888888888888888, \"#fdca26\"], [1.0, \"#f0f921\"]], \"type\": \"heatmapgl\"}], \"histogram\": [{\"marker\": {\"colorbar\": {\"outlinewidth\": 0, \"ticks\": \"\"}}, \"type\": \"histogram\"}], \"histogram2d\": [{\"colorbar\": {\"outlinewidth\": 0, \"ticks\": \"\"}, \"colorscale\": [[0.0, \"#0d0887\"], [0.1111111111111111, \"#46039f\"], [0.2222222222222222, \"#7201a8\"], [0.3333333333333333, \"#9c179e\"], [0.4444444444444444, \"#bd3786\"], [0.5555555555555556, \"#d8576b\"], [0.6666666666666666, \"#ed7953\"], [0.7777777777777778, \"#fb9f3a\"], [0.8888888888888888, \"#fdca26\"], [1.0, \"#f0f921\"]], \"type\": \"histogram2d\"}], \"histogram2dcontour\": [{\"colorbar\": {\"outlinewidth\": 0, \"ticks\": \"\"}, \"colorscale\": [[0.0, \"#0d0887\"], [0.1111111111111111, \"#46039f\"], [0.2222222222222222, \"#7201a8\"], [0.3333333333333333, \"#9c179e\"], [0.4444444444444444, \"#bd3786\"], [0.5555555555555556, \"#d8576b\"], [0.6666666666666666, \"#ed7953\"], [0.7777777777777778, \"#fb9f3a\"], [0.8888888888888888, \"#fdca26\"], [1.0, \"#f0f921\"]], \"type\": \"histogram2dcontour\"}], \"mesh3d\": [{\"colorbar\": {\"outlinewidth\": 0, \"ticks\": \"\"}, \"type\": \"mesh3d\"}], \"parcoords\": [{\"line\": {\"colorbar\": {\"outlinewidth\": 0, \"ticks\": \"\"}}, \"type\": \"parcoords\"}], \"pie\": [{\"automargin\": true, \"type\": \"pie\"}], \"scatter\": [{\"marker\": {\"colorbar\": {\"outlinewidth\": 0, \"ticks\": \"\"}}, \"type\": \"scatter\"}], \"scatter3d\": [{\"line\": {\"colorbar\": {\"outlinewidth\": 0, \"ticks\": \"\"}}, \"marker\": {\"colorbar\": {\"outlinewidth\": 0, \"ticks\": \"\"}}, \"type\": \"scatter3d\"}], \"scattercarpet\": [{\"marker\": {\"colorbar\": {\"outlinewidth\": 0, \"ticks\": \"\"}}, \"type\": \"scattercarpet\"}], \"scattergeo\": [{\"marker\": {\"colorbar\": {\"outlinewidth\": 0, \"ticks\": \"\"}}, \"type\": \"scattergeo\"}], \"scattergl\": [{\"marker\": {\"colorbar\": {\"outlinewidth\": 0, \"ticks\": \"\"}}, \"type\": \"scattergl\"}], \"scattermapbox\": [{\"marker\": {\"colorbar\": {\"outlinewidth\": 0, \"ticks\": \"\"}}, \"type\": \"scattermapbox\"}], \"scatterpolar\": [{\"marker\": {\"colorbar\": {\"outlinewidth\": 0, \"ticks\": \"\"}}, \"type\": \"scatterpolar\"}], \"scatterpolargl\": [{\"marker\": {\"colorbar\": {\"outlinewidth\": 0, \"ticks\": \"\"}}, \"type\": \"scatterpolargl\"}], \"scatterternary\": [{\"marker\": {\"colorbar\": {\"outlinewidth\": 0, \"ticks\": \"\"}}, \"type\": \"scatterternary\"}], \"surface\": [{\"colorbar\": {\"outlinewidth\": 0, \"ticks\": \"\"}, \"colorscale\": [[0.0, \"#0d0887\"], [0.1111111111111111, \"#46039f\"], [0.2222222222222222, \"#7201a8\"], [0.3333333333333333, \"#9c179e\"], [0.4444444444444444, \"#bd3786\"], [0.5555555555555556, \"#d8576b\"], [0.6666666666666666, \"#ed7953\"], [0.7777777777777778, \"#fb9f3a\"], [0.8888888888888888, \"#fdca26\"], [1.0, \"#f0f921\"]], \"type\": \"surface\"}], \"table\": [{\"cells\": {\"fill\": {\"color\": \"#EBF0F8\"}, \"line\": {\"color\": \"white\"}}, \"header\": {\"fill\": {\"color\": \"#C8D4E3\"}, \"line\": {\"color\": \"white\"}}, \"type\": \"table\"}]}, \"layout\": {\"annotationdefaults\": {\"arrowcolor\": \"#2a3f5f\", \"arrowhead\": 0, \"arrowwidth\": 1}, \"coloraxis\": {\"colorbar\": {\"outlinewidth\": 0, \"ticks\": \"\"}}, \"colorscale\": {\"diverging\": [[0, \"#8e0152\"], [0.1, \"#c51b7d\"], [0.2, \"#de77ae\"], [0.3, \"#f1b6da\"], [0.4, \"#fde0ef\"], [0.5, \"#f7f7f7\"], [0.6, \"#e6f5d0\"], [0.7, \"#b8e186\"], [0.8, \"#7fbc41\"], [0.9, \"#4d9221\"], [1, \"#276419\"]], \"sequential\": [[0.0, \"#0d0887\"], [0.1111111111111111, \"#46039f\"], [0.2222222222222222, \"#7201a8\"], [0.3333333333333333, \"#9c179e\"], [0.4444444444444444, \"#bd3786\"], [0.5555555555555556, \"#d8576b\"], [0.6666666666666666, \"#ed7953\"], [0.7777777777777778, \"#fb9f3a\"], [0.8888888888888888, \"#fdca26\"], [1.0, \"#f0f921\"]], \"sequentialminus\": [[0.0, \"#0d0887\"], [0.1111111111111111, \"#46039f\"], [0.2222222222222222, \"#7201a8\"], [0.3333333333333333, \"#9c179e\"], [0.4444444444444444, \"#bd3786\"], [0.5555555555555556, \"#d8576b\"], [0.6666666666666666, \"#ed7953\"], [0.7777777777777778, \"#fb9f3a\"], [0.8888888888888888, \"#fdca26\"], [1.0, \"#f0f921\"]]}, \"colorway\": [\"#636efa\", \"#EF553B\", \"#00cc96\", \"#ab63fa\", \"#FFA15A\", \"#19d3f3\", \"#FF6692\", \"#B6E880\", \"#FF97FF\", \"#FECB52\"], \"font\": {\"color\": \"#2a3f5f\"}, \"geo\": {\"bgcolor\": \"white\", \"lakecolor\": \"white\", \"landcolor\": \"#E5ECF6\", \"showlakes\": true, \"showland\": true, \"subunitcolor\": \"white\"}, \"hoverlabel\": {\"align\": \"left\"}, \"hovermode\": \"closest\", \"mapbox\": {\"style\": \"light\"}, \"paper_bgcolor\": \"white\", \"plot_bgcolor\": \"#E5ECF6\", \"polar\": {\"angularaxis\": {\"gridcolor\": \"white\", \"linecolor\": \"white\", \"ticks\": \"\"}, \"bgcolor\": \"#E5ECF6\", \"radialaxis\": {\"gridcolor\": \"white\", \"linecolor\": \"white\", \"ticks\": \"\"}}, \"scene\": {\"xaxis\": {\"backgroundcolor\": \"#E5ECF6\", \"gridcolor\": \"white\", \"gridwidth\": 2, \"linecolor\": \"white\", \"showbackground\": true, \"ticks\": \"\", \"zerolinecolor\": \"white\"}, \"yaxis\": {\"backgroundcolor\": \"#E5ECF6\", \"gridcolor\": \"white\", \"gridwidth\": 2, \"linecolor\": \"white\", \"showbackground\": true, \"ticks\": \"\", \"zerolinecolor\": \"white\"}, \"zaxis\": {\"backgroundcolor\": \"#E5ECF6\", \"gridcolor\": \"white\", \"gridwidth\": 2, \"linecolor\": \"white\", \"showbackground\": true, \"ticks\": \"\", \"zerolinecolor\": \"white\"}}, \"shapedefaults\": {\"line\": {\"color\": \"#2a3f5f\"}}, \"ternary\": {\"aaxis\": {\"gridcolor\": \"white\", \"linecolor\": \"white\", \"ticks\": \"\"}, \"baxis\": {\"gridcolor\": \"white\", \"linecolor\": \"white\", \"ticks\": \"\"}, \"bgcolor\": \"#E5ECF6\", \"caxis\": {\"gridcolor\": \"white\", \"linecolor\": \"white\", \"ticks\": \"\"}}, \"title\": {\"x\": 0.05}, \"xaxis\": {\"automargin\": true, \"gridcolor\": \"white\", \"linecolor\": \"white\", \"ticks\": \"\", \"title\": {\"standoff\": 15}, \"zerolinecolor\": \"white\", \"zerolinewidth\": 2}, \"yaxis\": {\"automargin\": true, \"gridcolor\": \"white\", \"linecolor\": \"white\", \"ticks\": \"\", \"title\": {\"standoff\": 15}, \"zerolinecolor\": \"white\", \"zerolinewidth\": 2}}}, \"title\": {\"text\": \"Distribution of Y\", \"x\": 0.5}, \"xaxis\": {\"anchor\": \"y\", \"domain\": [0.0, 1.0]}, \"yaxis\": {\"anchor\": \"x\", \"domain\": [0.0, 1.0], \"title\": {\"text\": \"Amount of Insurance Paid\"}}},\n",
              "                        {\"responsive\": true}\n",
              "                    ).then(function(){\n",
              "                            \n",
              "var gd = document.getElementById('fd37287d-1ba9-452c-b61a-f48ecfd46d52');\n",
              "var x = new MutationObserver(function (mutations, observer) {{\n",
              "        var display = window.getComputedStyle(gd).display;\n",
              "        if (!display || display === 'none') {{\n",
              "            console.log([gd, 'removed!']);\n",
              "            Plotly.purge(gd);\n",
              "            observer.disconnect();\n",
              "        }}\n",
              "}});\n",
              "\n",
              "// Listen for the removal of the full notebook cells\n",
              "var notebookContainer = gd.closest('#notebook-container');\n",
              "if (notebookContainer) {{\n",
              "    x.observe(notebookContainer, {childList: true});\n",
              "}}\n",
              "\n",
              "// Listen for the clearing of the current output cell\n",
              "var outputEl = gd.closest('.output');\n",
              "if (outputEl) {{\n",
              "    x.observe(outputEl, {childList: true});\n",
              "}}\n",
              "\n",
              "                        })\n",
              "                };\n",
              "                \n",
              "            </script>\n",
              "        </div>\n",
              "</body>\n",
              "</html>"
            ]
          },
          "metadata": {
            "tags": []
          }
        }
      ]
    },
    {
      "cell_type": "code",
      "metadata": {
        "execution": {
          "iopub.execute_input": "2020-09-27T01:09:38.562404Z",
          "iopub.status.busy": "2020-09-27T01:09:38.561822Z",
          "iopub.status.idle": "2020-09-27T01:09:38.637132Z",
          "shell.execute_reply": "2020-09-27T01:09:38.636538Z"
        },
        "papermill": {
          "duration": 0.09015,
          "end_time": "2020-09-27T01:09:38.637234",
          "exception": false,
          "start_time": "2020-09-27T01:09:38.547084",
          "status": "completed"
        },
        "tags": [],
        "id": "SwrAmOJop0qr",
        "outputId": "b15f2b62-8a36-4214-caef-60dfde94c546",
        "colab": {
          "base_uri": "https://localhost:8080/",
          "height": 517
        }
      },
      "source": [
        "fig = px.scatter(x = data['X'], y=data['Y'])\n",
        "fig.update_layout(title = 'Swedish Automobiles Data', title_x=0.5, xaxis_title= \"Number of Claims\", yaxis_title=\"Payment in Claims\", height = 500, width = 700)\n",
        "fig.update_xaxes(showline=True, linewidth=2, linecolor='black', mirror=True)\n",
        "fig.update_yaxes(showline=True, linewidth=2, linecolor='black', mirror=True)\n",
        "fig.show()"
      ],
      "execution_count": null,
      "outputs": [
        {
          "output_type": "display_data",
          "data": {
            "text/html": [
              "<html>\n",
              "<head><meta charset=\"utf-8\" /></head>\n",
              "<body>\n",
              "    <div>\n",
              "            <script src=\"https://cdnjs.cloudflare.com/ajax/libs/mathjax/2.7.5/MathJax.js?config=TeX-AMS-MML_SVG\"></script><script type=\"text/javascript\">if (window.MathJax) {MathJax.Hub.Config({SVG: {font: \"STIX-Web\"}});}</script>\n",
              "                <script type=\"text/javascript\">window.PlotlyConfig = {MathJaxConfig: 'local'};</script>\n",
              "        <script src=\"https://cdn.plot.ly/plotly-latest.min.js\"></script>    \n",
              "            <div id=\"6975599f-b92f-4258-a4a7-db550dd737f1\" class=\"plotly-graph-div\" style=\"height:500px; width:700px;\"></div>\n",
              "            <script type=\"text/javascript\">\n",
              "                \n",
              "                    window.PLOTLYENV=window.PLOTLYENV || {};\n",
              "                    \n",
              "                if (document.getElementById(\"6975599f-b92f-4258-a4a7-db550dd737f1\")) {\n",
              "                    Plotly.newPlot(\n",
              "                        '6975599f-b92f-4258-a4a7-db550dd737f1',\n",
              "                        [{\"hoverlabel\": {\"namelength\": 0}, \"hovertemplate\": \"x=%{x}<br>y=%{y}\", \"legendgroup\": \"\", \"marker\": {\"color\": \"#636efa\", \"symbol\": \"circle\"}, \"mode\": \"markers\", \"name\": \"\", \"showlegend\": false, \"type\": \"scatter\", \"x\": [0, 2, 3, 3, 3, 4, 4, 4, 5, 5, 6, 6, 6, 7, 7, 7, 8, 8, 9, 9, 9, 10, 11, 11, 11, 12, 13, 13, 13, 13, 14, 14, 15, 16, 17, 19, 20, 22, 23, 23, 23, 24, 24, 25, 26, 27, 29, 29, 30, 31, 37, 40, 41, 41, 45, 48, 53, 55, 57, 60, 61, 108, 124], \"xaxis\": \"x\", \"y\": [0.0, 6.6, 39.9, 13.2, 4.4, 38.1, 12.6, 11.8, 40.3, 20.9, 50.9, 14.6, 14.8, 27.9, 48.8, 77.5, 76.1, 55.6, 48.7, 87.4, 52.1, 65.3, 57.2, 21.3, 23.5, 58.1, 31.9, 15.7, 93.0, 89.9, 77.5, 95.5, 32.1, 59.6, 142.1, 46.2, 98.1, 161.5, 113.0, 39.6, 56.9, 137.9, 134.9, 69.2, 187.5, 92.6, 103.9, 133.3, 194.5, 209.8, 152.8, 119.4, 73.4, 181.3, 214.0, 248.1, 244.6, 162.8, 170.9, 202.4, 217.6, 392.5, 422.2], \"yaxis\": \"y\"}],\n",
              "                        {\"height\": 500, \"legend\": {\"tracegroupgap\": 0}, \"margin\": {\"t\": 60}, \"template\": {\"data\": {\"bar\": [{\"error_x\": {\"color\": \"#2a3f5f\"}, \"error_y\": {\"color\": \"#2a3f5f\"}, \"marker\": {\"line\": {\"color\": \"#E5ECF6\", \"width\": 0.5}}, \"type\": \"bar\"}], \"barpolar\": [{\"marker\": {\"line\": {\"color\": \"#E5ECF6\", \"width\": 0.5}}, \"type\": \"barpolar\"}], \"carpet\": [{\"aaxis\": {\"endlinecolor\": \"#2a3f5f\", \"gridcolor\": \"white\", \"linecolor\": \"white\", \"minorgridcolor\": \"white\", \"startlinecolor\": \"#2a3f5f\"}, \"baxis\": {\"endlinecolor\": \"#2a3f5f\", \"gridcolor\": \"white\", \"linecolor\": \"white\", \"minorgridcolor\": \"white\", \"startlinecolor\": \"#2a3f5f\"}, \"type\": \"carpet\"}], \"choropleth\": [{\"colorbar\": {\"outlinewidth\": 0, \"ticks\": \"\"}, \"type\": \"choropleth\"}], \"contour\": [{\"colorbar\": {\"outlinewidth\": 0, \"ticks\": \"\"}, \"colorscale\": [[0.0, \"#0d0887\"], [0.1111111111111111, \"#46039f\"], [0.2222222222222222, \"#7201a8\"], [0.3333333333333333, \"#9c179e\"], [0.4444444444444444, \"#bd3786\"], [0.5555555555555556, \"#d8576b\"], [0.6666666666666666, \"#ed7953\"], [0.7777777777777778, \"#fb9f3a\"], [0.8888888888888888, \"#fdca26\"], [1.0, \"#f0f921\"]], \"type\": \"contour\"}], \"contourcarpet\": [{\"colorbar\": {\"outlinewidth\": 0, \"ticks\": \"\"}, \"type\": \"contourcarpet\"}], \"heatmap\": [{\"colorbar\": {\"outlinewidth\": 0, \"ticks\": \"\"}, \"colorscale\": [[0.0, \"#0d0887\"], [0.1111111111111111, \"#46039f\"], [0.2222222222222222, \"#7201a8\"], [0.3333333333333333, \"#9c179e\"], [0.4444444444444444, \"#bd3786\"], [0.5555555555555556, \"#d8576b\"], [0.6666666666666666, \"#ed7953\"], [0.7777777777777778, \"#fb9f3a\"], [0.8888888888888888, \"#fdca26\"], [1.0, \"#f0f921\"]], \"type\": \"heatmap\"}], \"heatmapgl\": [{\"colorbar\": {\"outlinewidth\": 0, \"ticks\": \"\"}, \"colorscale\": [[0.0, \"#0d0887\"], [0.1111111111111111, \"#46039f\"], [0.2222222222222222, \"#7201a8\"], [0.3333333333333333, \"#9c179e\"], [0.4444444444444444, \"#bd3786\"], [0.5555555555555556, \"#d8576b\"], [0.6666666666666666, \"#ed7953\"], [0.7777777777777778, \"#fb9f3a\"], [0.8888888888888888, \"#fdca26\"], [1.0, \"#f0f921\"]], \"type\": \"heatmapgl\"}], \"histogram\": [{\"marker\": {\"colorbar\": {\"outlinewidth\": 0, \"ticks\": \"\"}}, \"type\": \"histogram\"}], \"histogram2d\": [{\"colorbar\": {\"outlinewidth\": 0, \"ticks\": \"\"}, \"colorscale\": [[0.0, \"#0d0887\"], [0.1111111111111111, \"#46039f\"], [0.2222222222222222, \"#7201a8\"], [0.3333333333333333, \"#9c179e\"], [0.4444444444444444, \"#bd3786\"], [0.5555555555555556, \"#d8576b\"], [0.6666666666666666, \"#ed7953\"], [0.7777777777777778, \"#fb9f3a\"], [0.8888888888888888, \"#fdca26\"], [1.0, \"#f0f921\"]], \"type\": \"histogram2d\"}], \"histogram2dcontour\": [{\"colorbar\": {\"outlinewidth\": 0, \"ticks\": \"\"}, \"colorscale\": [[0.0, \"#0d0887\"], [0.1111111111111111, \"#46039f\"], [0.2222222222222222, \"#7201a8\"], [0.3333333333333333, \"#9c179e\"], [0.4444444444444444, \"#bd3786\"], [0.5555555555555556, \"#d8576b\"], [0.6666666666666666, \"#ed7953\"], [0.7777777777777778, \"#fb9f3a\"], [0.8888888888888888, \"#fdca26\"], [1.0, \"#f0f921\"]], \"type\": \"histogram2dcontour\"}], \"mesh3d\": [{\"colorbar\": {\"outlinewidth\": 0, \"ticks\": \"\"}, \"type\": \"mesh3d\"}], \"parcoords\": [{\"line\": {\"colorbar\": {\"outlinewidth\": 0, \"ticks\": \"\"}}, \"type\": \"parcoords\"}], \"pie\": [{\"automargin\": true, \"type\": \"pie\"}], \"scatter\": [{\"marker\": {\"colorbar\": {\"outlinewidth\": 0, \"ticks\": \"\"}}, \"type\": \"scatter\"}], \"scatter3d\": [{\"line\": {\"colorbar\": {\"outlinewidth\": 0, \"ticks\": \"\"}}, \"marker\": {\"colorbar\": {\"outlinewidth\": 0, \"ticks\": \"\"}}, \"type\": \"scatter3d\"}], \"scattercarpet\": [{\"marker\": {\"colorbar\": {\"outlinewidth\": 0, \"ticks\": \"\"}}, \"type\": \"scattercarpet\"}], \"scattergeo\": [{\"marker\": {\"colorbar\": {\"outlinewidth\": 0, \"ticks\": \"\"}}, \"type\": \"scattergeo\"}], \"scattergl\": [{\"marker\": {\"colorbar\": {\"outlinewidth\": 0, \"ticks\": \"\"}}, \"type\": \"scattergl\"}], \"scattermapbox\": [{\"marker\": {\"colorbar\": {\"outlinewidth\": 0, \"ticks\": \"\"}}, \"type\": \"scattermapbox\"}], \"scatterpolar\": [{\"marker\": {\"colorbar\": {\"outlinewidth\": 0, \"ticks\": \"\"}}, \"type\": \"scatterpolar\"}], \"scatterpolargl\": [{\"marker\": {\"colorbar\": {\"outlinewidth\": 0, \"ticks\": \"\"}}, \"type\": \"scatterpolargl\"}], \"scatterternary\": [{\"marker\": {\"colorbar\": {\"outlinewidth\": 0, \"ticks\": \"\"}}, \"type\": \"scatterternary\"}], \"surface\": [{\"colorbar\": {\"outlinewidth\": 0, \"ticks\": \"\"}, \"colorscale\": [[0.0, \"#0d0887\"], [0.1111111111111111, \"#46039f\"], [0.2222222222222222, \"#7201a8\"], [0.3333333333333333, \"#9c179e\"], [0.4444444444444444, \"#bd3786\"], [0.5555555555555556, \"#d8576b\"], [0.6666666666666666, \"#ed7953\"], [0.7777777777777778, \"#fb9f3a\"], [0.8888888888888888, \"#fdca26\"], [1.0, \"#f0f921\"]], \"type\": \"surface\"}], \"table\": [{\"cells\": {\"fill\": {\"color\": \"#EBF0F8\"}, \"line\": {\"color\": \"white\"}}, \"header\": {\"fill\": {\"color\": \"#C8D4E3\"}, \"line\": {\"color\": \"white\"}}, \"type\": \"table\"}]}, \"layout\": {\"annotationdefaults\": {\"arrowcolor\": \"#2a3f5f\", \"arrowhead\": 0, \"arrowwidth\": 1}, \"coloraxis\": {\"colorbar\": {\"outlinewidth\": 0, \"ticks\": \"\"}}, \"colorscale\": {\"diverging\": [[0, \"#8e0152\"], [0.1, \"#c51b7d\"], [0.2, \"#de77ae\"], [0.3, \"#f1b6da\"], [0.4, \"#fde0ef\"], [0.5, \"#f7f7f7\"], [0.6, \"#e6f5d0\"], [0.7, \"#b8e186\"], [0.8, \"#7fbc41\"], [0.9, \"#4d9221\"], [1, \"#276419\"]], \"sequential\": [[0.0, \"#0d0887\"], [0.1111111111111111, \"#46039f\"], [0.2222222222222222, \"#7201a8\"], [0.3333333333333333, \"#9c179e\"], [0.4444444444444444, \"#bd3786\"], [0.5555555555555556, \"#d8576b\"], [0.6666666666666666, \"#ed7953\"], [0.7777777777777778, \"#fb9f3a\"], [0.8888888888888888, \"#fdca26\"], [1.0, \"#f0f921\"]], \"sequentialminus\": [[0.0, \"#0d0887\"], [0.1111111111111111, \"#46039f\"], [0.2222222222222222, \"#7201a8\"], [0.3333333333333333, \"#9c179e\"], [0.4444444444444444, \"#bd3786\"], [0.5555555555555556, \"#d8576b\"], [0.6666666666666666, \"#ed7953\"], [0.7777777777777778, \"#fb9f3a\"], [0.8888888888888888, \"#fdca26\"], [1.0, \"#f0f921\"]]}, \"colorway\": [\"#636efa\", \"#EF553B\", \"#00cc96\", \"#ab63fa\", \"#FFA15A\", \"#19d3f3\", \"#FF6692\", \"#B6E880\", \"#FF97FF\", \"#FECB52\"], \"font\": {\"color\": \"#2a3f5f\"}, \"geo\": {\"bgcolor\": \"white\", \"lakecolor\": \"white\", \"landcolor\": \"#E5ECF6\", \"showlakes\": true, \"showland\": true, \"subunitcolor\": \"white\"}, \"hoverlabel\": {\"align\": \"left\"}, \"hovermode\": \"closest\", \"mapbox\": {\"style\": \"light\"}, \"paper_bgcolor\": \"white\", \"plot_bgcolor\": \"#E5ECF6\", \"polar\": {\"angularaxis\": {\"gridcolor\": \"white\", \"linecolor\": \"white\", \"ticks\": \"\"}, \"bgcolor\": \"#E5ECF6\", \"radialaxis\": {\"gridcolor\": \"white\", \"linecolor\": \"white\", \"ticks\": \"\"}}, \"scene\": {\"xaxis\": {\"backgroundcolor\": \"#E5ECF6\", \"gridcolor\": \"white\", \"gridwidth\": 2, \"linecolor\": \"white\", \"showbackground\": true, \"ticks\": \"\", \"zerolinecolor\": \"white\"}, \"yaxis\": {\"backgroundcolor\": \"#E5ECF6\", \"gridcolor\": \"white\", \"gridwidth\": 2, \"linecolor\": \"white\", \"showbackground\": true, \"ticks\": \"\", \"zerolinecolor\": \"white\"}, \"zaxis\": {\"backgroundcolor\": \"#E5ECF6\", \"gridcolor\": \"white\", \"gridwidth\": 2, \"linecolor\": \"white\", \"showbackground\": true, \"ticks\": \"\", \"zerolinecolor\": \"white\"}}, \"shapedefaults\": {\"line\": {\"color\": \"#2a3f5f\"}}, \"ternary\": {\"aaxis\": {\"gridcolor\": \"white\", \"linecolor\": \"white\", \"ticks\": \"\"}, \"baxis\": {\"gridcolor\": \"white\", \"linecolor\": \"white\", \"ticks\": \"\"}, \"bgcolor\": \"#E5ECF6\", \"caxis\": {\"gridcolor\": \"white\", \"linecolor\": \"white\", \"ticks\": \"\"}}, \"title\": {\"x\": 0.05}, \"xaxis\": {\"automargin\": true, \"gridcolor\": \"white\", \"linecolor\": \"white\", \"ticks\": \"\", \"title\": {\"standoff\": 15}, \"zerolinecolor\": \"white\", \"zerolinewidth\": 2}, \"yaxis\": {\"automargin\": true, \"gridcolor\": \"white\", \"linecolor\": \"white\", \"ticks\": \"\", \"title\": {\"standoff\": 15}, \"zerolinecolor\": \"white\", \"zerolinewidth\": 2}}}, \"title\": {\"text\": \"Swedish Automobiles Data\", \"x\": 0.5}, \"width\": 700, \"xaxis\": {\"anchor\": \"y\", \"domain\": [0.0, 1.0], \"linecolor\": \"black\", \"linewidth\": 2, \"mirror\": true, \"showline\": true, \"title\": {\"text\": \"Number of Claims\"}}, \"yaxis\": {\"anchor\": \"x\", \"domain\": [0.0, 1.0], \"linecolor\": \"black\", \"linewidth\": 2, \"mirror\": true, \"showline\": true, \"title\": {\"text\": \"Payment in Claims\"}}},\n",
              "                        {\"responsive\": true}\n",
              "                    ).then(function(){\n",
              "                            \n",
              "var gd = document.getElementById('6975599f-b92f-4258-a4a7-db550dd737f1');\n",
              "var x = new MutationObserver(function (mutations, observer) {{\n",
              "        var display = window.getComputedStyle(gd).display;\n",
              "        if (!display || display === 'none') {{\n",
              "            console.log([gd, 'removed!']);\n",
              "            Plotly.purge(gd);\n",
              "            observer.disconnect();\n",
              "        }}\n",
              "}});\n",
              "\n",
              "// Listen for the removal of the full notebook cells\n",
              "var notebookContainer = gd.closest('#notebook-container');\n",
              "if (notebookContainer) {{\n",
              "    x.observe(notebookContainer, {childList: true});\n",
              "}}\n",
              "\n",
              "// Listen for the clearing of the current output cell\n",
              "var outputEl = gd.closest('.output');\n",
              "if (outputEl) {{\n",
              "    x.observe(outputEl, {childList: true});\n",
              "}}\n",
              "\n",
              "                        })\n",
              "                };\n",
              "                \n",
              "            </script>\n",
              "        </div>\n",
              "</body>\n",
              "</html>"
            ]
          },
          "metadata": {
            "tags": []
          }
        }
      ]
    },
    {
      "cell_type": "markdown",
      "metadata": {
        "papermill": {
          "duration": 0.013599,
          "end_time": "2020-09-27T01:09:38.664191",
          "exception": false,
          "start_time": "2020-09-27T01:09:38.650592",
          "status": "completed"
        },
        "tags": [],
        "id": "SpV4ZUtWp0qu"
      },
      "source": [
        "**This tutorial is broken down into five parts:<br>**\n",
        "&#9832; Calculate Mean and Variance.<br>\n",
        "&#9832; Calculate Covariance (X,Y).<br>\n",
        "&#9832; Estimate Coefficients.<br>\n",
        "&#9832; Make Predictions.<br>\n",
        "&#9832; Visual Comparison for Correctness.<br>\n",
        "These steps will give you the foundation you need to implement and train simple linear regression models for your own prediction problems."
      ]
    },
    {
      "cell_type": "markdown",
      "metadata": {
        "papermill": {
          "duration": 0.012874,
          "end_time": "2020-09-27T01:09:38.691410",
          "exception": false,
          "start_time": "2020-09-27T01:09:38.678536",
          "status": "completed"
        },
        "tags": [],
        "id": "-m88HkBZp0qv"
      },
      "source": [
        "### 1. Calculate Mean and Variance.\n",
        "As said earlier, simple linear regression uses mean and variance of the given data. We will use `numpy` builtin functions to calculate them. "
      ]
    },
    {
      "cell_type": "code",
      "metadata": {
        "execution": {
          "iopub.execute_input": "2020-09-27T01:09:38.724144Z",
          "iopub.status.busy": "2020-09-27T01:09:38.723567Z",
          "iopub.status.idle": "2020-09-27T01:09:38.726655Z",
          "shell.execute_reply": "2020-09-27T01:09:38.727160Z"
        },
        "papermill": {
          "duration": 0.022917,
          "end_time": "2020-09-27T01:09:38.727300",
          "exception": false,
          "start_time": "2020-09-27T01:09:38.704383",
          "status": "completed"
        },
        "tags": [],
        "id": "7GzUurrvp0qw",
        "outputId": "9a0dde08-9345-4ee9-dcd7-09ff8ea49785",
        "colab": {
          "base_uri": "https://localhost:8080/",
          "height": 221
        }
      },
      "source": [
        "data['Y']"
      ],
      "execution_count": null,
      "outputs": [
        {
          "output_type": "execute_result",
          "data": {
            "text/plain": [
              "30      0.0\n",
              "15      6.6\n",
              "49     39.9\n",
              "23     13.2\n",
              "18      4.4\n",
              "      ...  \n",
              "5     170.9\n",
              "41    202.4\n",
              "36    217.6\n",
              "0     392.5\n",
              "3     422.2\n",
              "Name: Y, Length: 63, dtype: float64"
            ]
          },
          "metadata": {
            "tags": []
          },
          "execution_count": 416
        }
      ]
    },
    {
      "cell_type": "code",
      "metadata": {
        "execution": {
          "iopub.execute_input": "2020-09-27T01:09:38.761118Z",
          "iopub.status.busy": "2020-09-27T01:09:38.760476Z",
          "iopub.status.idle": "2020-09-27T01:09:38.764933Z",
          "shell.execute_reply": "2020-09-27T01:09:38.765301Z"
        },
        "papermill": {
          "duration": 0.02471,
          "end_time": "2020-09-27T01:09:38.765475",
          "exception": false,
          "start_time": "2020-09-27T01:09:38.740765",
          "status": "completed"
        },
        "tags": [],
        "id": "-VwNq3Nip0q0",
        "outputId": "17cbe2e2-6a52-4d2e-d685-041be46ae97a",
        "colab": {
          "base_uri": "https://localhost:8080/",
          "height": 51
        }
      },
      "source": [
        "mean_x = np.mean(data['X'])\n",
        "mean_y = np.mean(data['Y'])\n",
        "\n",
        "var_x = np.var(data['X'])\n",
        "var_y = np.var(data['Y'])\n",
        "\n",
        "\n",
        "print('x stats: mean= %.3f   variance= %.3f' % (mean_x, var_x))\n",
        "print('y stats: mean= %.3f   variance= %.3f' % (mean_y, var_y))"
      ],
      "execution_count": null,
      "outputs": [
        {
          "output_type": "stream",
          "text": [
            "x stats: mean= 22.905   variance= 536.658\n",
            "y stats: mean= 98.187   variance= 7505.052\n"
          ],
          "name": "stdout"
        }
      ]
    },
    {
      "cell_type": "markdown",
      "metadata": {
        "papermill": {
          "duration": 0.013725,
          "end_time": "2020-09-27T01:09:38.793626",
          "exception": false,
          "start_time": "2020-09-27T01:09:38.779901",
          "status": "completed"
        },
        "tags": [],
        "id": "jJiqXLjkp0q5"
      },
      "source": [
        "### 2. Calculate Covariance.\n",
        "The covariance of two groups of numbers describes how those numbers change together. Covariance is a generalization of correlation. Correlation describes the relationship between two groups of numbers, whereas covariance can describe the relationship between two or more groups of numbers. It is calculated by the following formula. \n",
        "$$ Cov(X,Y) = \\frac{\\sum{(X_i - \\overline{X})}{(Y_j - \\overline{Y})}}{n} $$\n",
        "\n",
        "You can simply implement it by yourself or use builtin function `numpy.cov()`\n"
      ]
    },
    {
      "cell_type": "code",
      "metadata": {
        "execution": {
          "iopub.execute_input": "2020-09-27T01:09:38.830485Z",
          "iopub.status.busy": "2020-09-27T01:09:38.829628Z",
          "iopub.status.idle": "2020-09-27T01:09:38.833002Z",
          "shell.execute_reply": "2020-09-27T01:09:38.833448Z"
        },
        "papermill": {
          "duration": 0.025466,
          "end_time": "2020-09-27T01:09:38.833604",
          "exception": false,
          "start_time": "2020-09-27T01:09:38.808138",
          "status": "completed"
        },
        "tags": [],
        "id": "9aKH7fJzp0q5",
        "outputId": "fd310d10-1682-4917-9db6-e23db9e81868",
        "colab": {
          "base_uri": "https://localhost:8080/",
          "height": 34
        }
      },
      "source": [
        "# Calculate covariance between x and y\n",
        "def covariance(x, y):\n",
        "    mean_x = np.mean(x)\n",
        "    mean_y = np.mean(y)\n",
        "    covar = 0.0\n",
        "    for i in range(len(x)):\n",
        "        covar += (x[i] - mean_x) * (y[i] - mean_y)\n",
        "    return covar/len(x)\n",
        "\n",
        "\n",
        "\n",
        "covar_xy = covariance(data['X'], data['Y'])\n",
        "print(f'Cov(X,Y): {covar_xy}')"
      ],
      "execution_count": null,
      "outputs": [
        {
          "output_type": "stream",
          "text": [
            "Cov(X,Y): 1832.0543461829186\n"
          ],
          "name": "stdout"
        }
      ]
    },
    {
      "cell_type": "markdown",
      "metadata": {
        "papermill": {
          "duration": 0.014179,
          "end_time": "2020-09-27T01:09:38.862303",
          "exception": false,
          "start_time": "2020-09-27T01:09:38.848124",
          "status": "completed"
        },
        "tags": [],
        "id": "tnTg-Wg1p0q9"
      },
      "source": [
        "### 3. Estimate Coefficients\n",
        "We must estimate the values for two coefficients in simple linear regression."
      ]
    },
    {
      "cell_type": "code",
      "metadata": {
        "execution": {
          "iopub.execute_input": "2020-09-27T01:09:38.896310Z",
          "iopub.status.busy": "2020-09-27T01:09:38.895588Z",
          "iopub.status.idle": "2020-09-27T01:09:38.899528Z",
          "shell.execute_reply": "2020-09-27T01:09:38.899056Z"
        },
        "papermill": {
          "duration": 0.023142,
          "end_time": "2020-09-27T01:09:38.899633",
          "exception": false,
          "start_time": "2020-09-27T01:09:38.876491",
          "status": "completed"
        },
        "tags": [],
        "id": "xPpUJYU_p0q-",
        "outputId": "f35cc74a-3af2-42b6-b4c9-67e8dc5199a2",
        "colab": {
          "base_uri": "https://localhost:8080/",
          "height": 51
        }
      },
      "source": [
        "b1 = covar_xy / var_x\n",
        "b0 = mean_y - b1 * mean_x\n",
        "\n",
        "print(f'Coefficents:\\n b0: {b0}  b1: {b1} ')\n"
      ],
      "execution_count": null,
      "outputs": [
        {
          "output_type": "stream",
          "text": [
            "Coefficents:\n",
            " b0: 19.994485759114767  b1: 3.413823560066369 \n"
          ],
          "name": "stdout"
        }
      ]
    },
    {
      "cell_type": "markdown",
      "metadata": {
        "papermill": {
          "duration": 0.014619,
          "end_time": "2020-09-27T01:09:38.928787",
          "exception": false,
          "start_time": "2020-09-27T01:09:38.914168",
          "status": "completed"
        },
        "tags": [],
        "id": "Wx9LujNRp0rB"
      },
      "source": [
        "### 4. Make Predictions\n",
        "The simple linear regression model is a line defined by coefficients estimated from training data. Once the coefficients are estimated, we can use them to make predictions. The equation to make predictions with a simple linear regression model is as follows:\n",
        "$$ \\hat{y} = b_0 + b_1 * x $$"
      ]
    },
    {
      "cell_type": "code",
      "metadata": {
        "execution": {
          "iopub.execute_input": "2020-09-27T01:09:38.964682Z",
          "iopub.status.busy": "2020-09-27T01:09:38.963809Z",
          "iopub.status.idle": "2020-09-27T01:09:38.967812Z",
          "shell.execute_reply": "2020-09-27T01:09:38.968268Z"
        },
        "papermill": {
          "duration": 0.02428,
          "end_time": "2020-09-27T01:09:38.968424",
          "exception": false,
          "start_time": "2020-09-27T01:09:38.944144",
          "status": "completed"
        },
        "tags": [],
        "id": "in0nPf0-p0rC",
        "outputId": "a61ba2d8-dfe1-4c25-da2a-46ca43f32ae2",
        "colab": {
          "base_uri": "https://localhost:8080/",
          "height": 102
        }
      },
      "source": [
        "x = data['X'].values.copy()\n",
        "x"
      ],
      "execution_count": null,
      "outputs": [
        {
          "output_type": "execute_result",
          "data": {
            "text/plain": [
              "array([  0,   2,   3,   3,   3,   4,   4,   4,   5,   5,   6,   6,   6,\n",
              "         7,   7,   7,   8,   8,   9,   9,   9,  10,  11,  11,  11,  12,\n",
              "        13,  13,  13,  13,  14,  14,  15,  16,  17,  19,  20,  22,  23,\n",
              "        23,  23,  24,  24,  25,  26,  27,  29,  29,  30,  31,  37,  40,\n",
              "        41,  41,  45,  48,  53,  55,  57,  60,  61, 108, 124])"
            ]
          },
          "metadata": {
            "tags": []
          },
          "execution_count": 420
        }
      ]
    },
    {
      "cell_type": "code",
      "metadata": {
        "execution": {
          "iopub.execute_input": "2020-09-27T01:09:39.017221Z",
          "iopub.status.busy": "2020-09-27T01:09:39.011511Z",
          "iopub.status.idle": "2020-09-27T01:09:39.021351Z",
          "shell.execute_reply": "2020-09-27T01:09:39.020808Z"
        },
        "papermill": {
          "duration": 0.034409,
          "end_time": "2020-09-27T01:09:39.021470",
          "exception": false,
          "start_time": "2020-09-27T01:09:38.987061",
          "status": "completed"
        },
        "tags": [],
        "id": "9BA_O57Ep0rJ",
        "outputId": "e355285c-b519-4215-dd6b-88e411e92a81",
        "colab": {
          "base_uri": "https://localhost:8080/",
          "height": 476
        }
      },
      "source": [
        "# Taking the values from the dataframe \n",
        "x = data['X'].values.copy()\n",
        "print(f'x: {x}')\n",
        "\n",
        "# Predicting the new data based on calculated coeffiecents. \n",
        "y_hat = b0 + b1 * x\n",
        "print(f'\\n\\ny_hat: {y_hat}')\n",
        "\n",
        "y = data['Y'].values\n",
        "print(f'\\n\\ny: {y}')"
      ],
      "execution_count": null,
      "outputs": [
        {
          "output_type": "stream",
          "text": [
            "x: [  0   2   3   3   3   4   4   4   5   5   6   6   6   7   7   7   8   8\n",
            "   9   9   9  10  11  11  11  12  13  13  13  13  14  14  15  16  17  19\n",
            "  20  22  23  23  23  24  24  25  26  27  29  29  30  31  37  40  41  41\n",
            "  45  48  53  55  57  60  61 108 124]\n",
            "\n",
            "\n",
            "y_hat: [ 19.99448576  26.82213288  30.23595644  30.23595644  30.23595644\n",
            "  33.64978     33.64978     33.64978     37.06360356  37.06360356\n",
            "  40.47742712  40.47742712  40.47742712  43.89125068  43.89125068\n",
            "  43.89125068  47.30507424  47.30507424  50.7188978   50.7188978\n",
            "  50.7188978   54.13272136  57.54654492  57.54654492  57.54654492\n",
            "  60.96036848  64.37419204  64.37419204  64.37419204  64.37419204\n",
            "  67.7880156   67.7880156   71.20183916  74.61566272  78.02948628\n",
            "  84.8571334   88.27095696  95.09860408  98.51242764  98.51242764\n",
            "  98.51242764 101.9262512  101.9262512  105.34007476 108.75389832\n",
            " 112.16772188 118.995369   118.995369   122.40919256 125.82301612\n",
            " 146.30595748 156.54742816 159.96125172 159.96125172 173.61654596\n",
            " 183.85801664 200.92713444 207.75478156 214.58242868 224.82389936\n",
            " 228.23772292 388.68743025 443.30860721]\n",
            "\n",
            "\n",
            "y: [  0.    6.6  39.9  13.2   4.4  38.1  12.6  11.8  40.3  20.9  50.9  14.6\n",
            "  14.8  27.9  48.8  77.5  76.1  55.6  48.7  87.4  52.1  65.3  57.2  21.3\n",
            "  23.5  58.1  31.9  15.7  93.   89.9  77.5  95.5  32.1  59.6 142.1  46.2\n",
            "  98.1 161.5 113.   39.6  56.9 137.9 134.9  69.2 187.5  92.6 103.9 133.3\n",
            " 194.5 209.8 152.8 119.4  73.4 181.3 214.  248.1 244.6 162.8 170.9 202.4\n",
            " 217.6 392.5 422.2]\n"
          ],
          "name": "stdout"
        }
      ]
    },
    {
      "cell_type": "markdown",
      "metadata": {
        "papermill": {
          "duration": 0.015153,
          "end_time": "2020-09-27T01:09:39.053162",
          "exception": false,
          "start_time": "2020-09-27T01:09:39.038009",
          "status": "completed"
        },
        "tags": [],
        "id": "bmkQtcoCp0rM"
      },
      "source": [
        "### 5. Visual Comparison for Correctness "
      ]
    },
    {
      "cell_type": "code",
      "metadata": {
        "execution": {
          "iopub.execute_input": "2020-09-27T01:09:39.109702Z",
          "iopub.status.busy": "2020-09-27T01:09:39.108637Z",
          "iopub.status.idle": "2020-09-27T01:09:39.113314Z",
          "shell.execute_reply": "2020-09-27T01:09:39.113774Z"
        },
        "papermill": {
          "duration": 0.044536,
          "end_time": "2020-09-27T01:09:39.113921",
          "exception": false,
          "start_time": "2020-09-27T01:09:39.069385",
          "status": "completed"
        },
        "tags": [],
        "id": "zh4c98lpp0rN",
        "outputId": "17edb9f2-7ed7-4ab1-ba8b-2ea8b2c2cbe5",
        "colab": {
          "base_uri": "https://localhost:8080/",
          "height": 542
        }
      },
      "source": [
        "import plotly.graph_objects as go\n",
        "fig = go.Figure()\n",
        "\n",
        "fig.add_trace(go.Scatter(x=data['X'], y=data['Y'], name='train', mode='markers', marker_color='rgba(152, 0, 0, .8)'))\n",
        "fig.add_trace(go.Scatter(x=data['X'], y=y_hat, name='prediction', mode='lines+markers', marker_color='rgba(0, 152, 0, .8)'))\n",
        "\n",
        "fig.update_layout(title = f'Swedish Automobiles Data\\n (visual comparison for correctness)',title_x=0.5, xaxis_title= \"Number of Claims\", yaxis_title=\"Payment in Claims\")\n",
        "fig.update_xaxes(showline=True, linewidth=2, linecolor='black', mirror=True)\n",
        "fig.update_yaxes(showline=True, linewidth=2, linecolor='black', mirror=True)\n",
        "fig.show()"
      ],
      "execution_count": null,
      "outputs": [
        {
          "output_type": "display_data",
          "data": {
            "text/html": [
              "<html>\n",
              "<head><meta charset=\"utf-8\" /></head>\n",
              "<body>\n",
              "    <div>\n",
              "            <script src=\"https://cdnjs.cloudflare.com/ajax/libs/mathjax/2.7.5/MathJax.js?config=TeX-AMS-MML_SVG\"></script><script type=\"text/javascript\">if (window.MathJax) {MathJax.Hub.Config({SVG: {font: \"STIX-Web\"}});}</script>\n",
              "                <script type=\"text/javascript\">window.PlotlyConfig = {MathJaxConfig: 'local'};</script>\n",
              "        <script src=\"https://cdn.plot.ly/plotly-latest.min.js\"></script>    \n",
              "            <div id=\"5860b9b3-2f21-414d-9f04-87ef76e961f3\" class=\"plotly-graph-div\" style=\"height:525px; width:100%;\"></div>\n",
              "            <script type=\"text/javascript\">\n",
              "                \n",
              "                    window.PLOTLYENV=window.PLOTLYENV || {};\n",
              "                    \n",
              "                if (document.getElementById(\"5860b9b3-2f21-414d-9f04-87ef76e961f3\")) {\n",
              "                    Plotly.newPlot(\n",
              "                        '5860b9b3-2f21-414d-9f04-87ef76e961f3',\n",
              "                        [{\"marker\": {\"color\": \"rgba(152, 0, 0, .8)\"}, \"mode\": \"markers\", \"name\": \"train\", \"type\": \"scatter\", \"x\": [0, 2, 3, 3, 3, 4, 4, 4, 5, 5, 6, 6, 6, 7, 7, 7, 8, 8, 9, 9, 9, 10, 11, 11, 11, 12, 13, 13, 13, 13, 14, 14, 15, 16, 17, 19, 20, 22, 23, 23, 23, 24, 24, 25, 26, 27, 29, 29, 30, 31, 37, 40, 41, 41, 45, 48, 53, 55, 57, 60, 61, 108, 124], \"y\": [0.0, 6.6, 39.9, 13.2, 4.4, 38.1, 12.6, 11.8, 40.3, 20.9, 50.9, 14.6, 14.8, 27.9, 48.8, 77.5, 76.1, 55.6, 48.7, 87.4, 52.1, 65.3, 57.2, 21.3, 23.5, 58.1, 31.9, 15.7, 93.0, 89.9, 77.5, 95.5, 32.1, 59.6, 142.1, 46.2, 98.1, 161.5, 113.0, 39.6, 56.9, 137.9, 134.9, 69.2, 187.5, 92.6, 103.9, 133.3, 194.5, 209.8, 152.8, 119.4, 73.4, 181.3, 214.0, 248.1, 244.6, 162.8, 170.9, 202.4, 217.6, 392.5, 422.2]}, {\"marker\": {\"color\": \"rgba(0, 152, 0, .8)\"}, \"mode\": \"lines+markers\", \"name\": \"prediction\", \"type\": \"scatter\", \"x\": [0, 2, 3, 3, 3, 4, 4, 4, 5, 5, 6, 6, 6, 7, 7, 7, 8, 8, 9, 9, 9, 10, 11, 11, 11, 12, 13, 13, 13, 13, 14, 14, 15, 16, 17, 19, 20, 22, 23, 23, 23, 24, 24, 25, 26, 27, 29, 29, 30, 31, 37, 40, 41, 41, 45, 48, 53, 55, 57, 60, 61, 108, 124], \"y\": [19.994485759114767, 26.822132879247505, 30.235956439313874, 30.235956439313874, 30.235956439313874, 33.64977999938024, 33.64977999938024, 33.64977999938024, 37.06360355944661, 37.06360355944661, 40.47742711951298, 40.47742711951298, 40.47742711951298, 43.89125067957935, 43.89125067957935, 43.89125067957935, 47.30507423964572, 47.30507423964572, 50.71889779971209, 50.71889779971209, 50.71889779971209, 54.13272135977846, 57.54654491984483, 57.54654491984483, 57.54654491984483, 60.960368479911196, 64.37419203997757, 64.37419203997757, 64.37419203997757, 64.37419203997757, 67.78801560004393, 67.78801560004393, 71.2018391601103, 74.61566272017667, 78.02948628024305, 84.85713340037579, 88.27095696044215, 95.09860408057489, 98.51242764064126, 98.51242764064126, 98.51242764064126, 101.92625120070763, 101.92625120070763, 105.34007476077399, 108.75389832084036, 112.16772188090674, 118.99536900103946, 118.99536900103946, 122.40919256110584, 125.82301612117222, 146.30595748157043, 156.54742816176952, 159.96125172183588, 159.96125172183588, 173.61654596210138, 183.85801664230047, 200.92713444263234, 207.75478156276506, 214.58242868289778, 224.82389936309693, 228.2377229231633, 388.68743024628264, 443.30860720734455]}],\n",
              "                        {\"template\": {\"data\": {\"bar\": [{\"error_x\": {\"color\": \"#2a3f5f\"}, \"error_y\": {\"color\": \"#2a3f5f\"}, \"marker\": {\"line\": {\"color\": \"#E5ECF6\", \"width\": 0.5}}, \"type\": \"bar\"}], \"barpolar\": [{\"marker\": {\"line\": {\"color\": \"#E5ECF6\", \"width\": 0.5}}, \"type\": \"barpolar\"}], \"carpet\": [{\"aaxis\": {\"endlinecolor\": \"#2a3f5f\", \"gridcolor\": \"white\", \"linecolor\": \"white\", \"minorgridcolor\": \"white\", \"startlinecolor\": \"#2a3f5f\"}, \"baxis\": {\"endlinecolor\": \"#2a3f5f\", \"gridcolor\": \"white\", \"linecolor\": \"white\", \"minorgridcolor\": \"white\", \"startlinecolor\": \"#2a3f5f\"}, \"type\": \"carpet\"}], \"choropleth\": [{\"colorbar\": {\"outlinewidth\": 0, \"ticks\": \"\"}, \"type\": \"choropleth\"}], \"contour\": [{\"colorbar\": {\"outlinewidth\": 0, \"ticks\": \"\"}, \"colorscale\": [[0.0, \"#0d0887\"], [0.1111111111111111, \"#46039f\"], [0.2222222222222222, \"#7201a8\"], [0.3333333333333333, \"#9c179e\"], [0.4444444444444444, \"#bd3786\"], [0.5555555555555556, \"#d8576b\"], [0.6666666666666666, \"#ed7953\"], [0.7777777777777778, \"#fb9f3a\"], [0.8888888888888888, \"#fdca26\"], [1.0, \"#f0f921\"]], \"type\": \"contour\"}], \"contourcarpet\": [{\"colorbar\": {\"outlinewidth\": 0, \"ticks\": \"\"}, \"type\": \"contourcarpet\"}], \"heatmap\": [{\"colorbar\": {\"outlinewidth\": 0, \"ticks\": \"\"}, \"colorscale\": [[0.0, \"#0d0887\"], [0.1111111111111111, \"#46039f\"], [0.2222222222222222, \"#7201a8\"], [0.3333333333333333, \"#9c179e\"], [0.4444444444444444, \"#bd3786\"], [0.5555555555555556, \"#d8576b\"], [0.6666666666666666, \"#ed7953\"], [0.7777777777777778, \"#fb9f3a\"], [0.8888888888888888, \"#fdca26\"], [1.0, \"#f0f921\"]], \"type\": \"heatmap\"}], \"heatmapgl\": [{\"colorbar\": {\"outlinewidth\": 0, \"ticks\": \"\"}, \"colorscale\": [[0.0, \"#0d0887\"], [0.1111111111111111, \"#46039f\"], [0.2222222222222222, \"#7201a8\"], [0.3333333333333333, \"#9c179e\"], [0.4444444444444444, \"#bd3786\"], [0.5555555555555556, \"#d8576b\"], [0.6666666666666666, \"#ed7953\"], [0.7777777777777778, \"#fb9f3a\"], [0.8888888888888888, \"#fdca26\"], [1.0, \"#f0f921\"]], \"type\": \"heatmapgl\"}], \"histogram\": [{\"marker\": {\"colorbar\": {\"outlinewidth\": 0, \"ticks\": \"\"}}, \"type\": \"histogram\"}], \"histogram2d\": [{\"colorbar\": {\"outlinewidth\": 0, \"ticks\": \"\"}, \"colorscale\": [[0.0, \"#0d0887\"], [0.1111111111111111, \"#46039f\"], [0.2222222222222222, \"#7201a8\"], [0.3333333333333333, \"#9c179e\"], [0.4444444444444444, \"#bd3786\"], [0.5555555555555556, \"#d8576b\"], [0.6666666666666666, \"#ed7953\"], [0.7777777777777778, \"#fb9f3a\"], [0.8888888888888888, \"#fdca26\"], [1.0, \"#f0f921\"]], \"type\": \"histogram2d\"}], \"histogram2dcontour\": [{\"colorbar\": {\"outlinewidth\": 0, \"ticks\": \"\"}, \"colorscale\": [[0.0, \"#0d0887\"], [0.1111111111111111, \"#46039f\"], [0.2222222222222222, \"#7201a8\"], [0.3333333333333333, \"#9c179e\"], [0.4444444444444444, \"#bd3786\"], [0.5555555555555556, \"#d8576b\"], [0.6666666666666666, \"#ed7953\"], [0.7777777777777778, \"#fb9f3a\"], [0.8888888888888888, \"#fdca26\"], [1.0, \"#f0f921\"]], \"type\": \"histogram2dcontour\"}], \"mesh3d\": [{\"colorbar\": {\"outlinewidth\": 0, \"ticks\": \"\"}, \"type\": \"mesh3d\"}], \"parcoords\": [{\"line\": {\"colorbar\": {\"outlinewidth\": 0, \"ticks\": \"\"}}, \"type\": \"parcoords\"}], \"pie\": [{\"automargin\": true, \"type\": \"pie\"}], \"scatter\": [{\"marker\": {\"colorbar\": {\"outlinewidth\": 0, \"ticks\": \"\"}}, \"type\": \"scatter\"}], \"scatter3d\": [{\"line\": {\"colorbar\": {\"outlinewidth\": 0, \"ticks\": \"\"}}, \"marker\": {\"colorbar\": {\"outlinewidth\": 0, \"ticks\": \"\"}}, \"type\": \"scatter3d\"}], \"scattercarpet\": [{\"marker\": {\"colorbar\": {\"outlinewidth\": 0, \"ticks\": \"\"}}, \"type\": \"scattercarpet\"}], \"scattergeo\": [{\"marker\": {\"colorbar\": {\"outlinewidth\": 0, \"ticks\": \"\"}}, \"type\": \"scattergeo\"}], \"scattergl\": [{\"marker\": {\"colorbar\": {\"outlinewidth\": 0, \"ticks\": \"\"}}, \"type\": \"scattergl\"}], \"scattermapbox\": [{\"marker\": {\"colorbar\": {\"outlinewidth\": 0, \"ticks\": \"\"}}, \"type\": \"scattermapbox\"}], \"scatterpolar\": [{\"marker\": {\"colorbar\": {\"outlinewidth\": 0, \"ticks\": \"\"}}, \"type\": \"scatterpolar\"}], \"scatterpolargl\": [{\"marker\": {\"colorbar\": {\"outlinewidth\": 0, \"ticks\": \"\"}}, \"type\": \"scatterpolargl\"}], \"scatterternary\": [{\"marker\": {\"colorbar\": {\"outlinewidth\": 0, \"ticks\": \"\"}}, \"type\": \"scatterternary\"}], \"surface\": [{\"colorbar\": {\"outlinewidth\": 0, \"ticks\": \"\"}, \"colorscale\": [[0.0, \"#0d0887\"], [0.1111111111111111, \"#46039f\"], [0.2222222222222222, \"#7201a8\"], [0.3333333333333333, \"#9c179e\"], [0.4444444444444444, \"#bd3786\"], [0.5555555555555556, \"#d8576b\"], [0.6666666666666666, \"#ed7953\"], [0.7777777777777778, \"#fb9f3a\"], [0.8888888888888888, \"#fdca26\"], [1.0, \"#f0f921\"]], \"type\": \"surface\"}], \"table\": [{\"cells\": {\"fill\": {\"color\": \"#EBF0F8\"}, \"line\": {\"color\": \"white\"}}, \"header\": {\"fill\": {\"color\": \"#C8D4E3\"}, \"line\": {\"color\": \"white\"}}, \"type\": \"table\"}]}, \"layout\": {\"annotationdefaults\": {\"arrowcolor\": \"#2a3f5f\", \"arrowhead\": 0, \"arrowwidth\": 1}, \"coloraxis\": {\"colorbar\": {\"outlinewidth\": 0, \"ticks\": \"\"}}, \"colorscale\": {\"diverging\": [[0, \"#8e0152\"], [0.1, \"#c51b7d\"], [0.2, \"#de77ae\"], [0.3, \"#f1b6da\"], [0.4, \"#fde0ef\"], [0.5, \"#f7f7f7\"], [0.6, \"#e6f5d0\"], [0.7, \"#b8e186\"], [0.8, \"#7fbc41\"], [0.9, \"#4d9221\"], [1, \"#276419\"]], \"sequential\": [[0.0, \"#0d0887\"], [0.1111111111111111, \"#46039f\"], [0.2222222222222222, \"#7201a8\"], [0.3333333333333333, \"#9c179e\"], [0.4444444444444444, \"#bd3786\"], [0.5555555555555556, \"#d8576b\"], [0.6666666666666666, \"#ed7953\"], [0.7777777777777778, \"#fb9f3a\"], [0.8888888888888888, \"#fdca26\"], [1.0, \"#f0f921\"]], \"sequentialminus\": [[0.0, \"#0d0887\"], [0.1111111111111111, \"#46039f\"], [0.2222222222222222, \"#7201a8\"], [0.3333333333333333, \"#9c179e\"], [0.4444444444444444, \"#bd3786\"], [0.5555555555555556, \"#d8576b\"], [0.6666666666666666, \"#ed7953\"], [0.7777777777777778, \"#fb9f3a\"], [0.8888888888888888, \"#fdca26\"], [1.0, \"#f0f921\"]]}, \"colorway\": [\"#636efa\", \"#EF553B\", \"#00cc96\", \"#ab63fa\", \"#FFA15A\", \"#19d3f3\", \"#FF6692\", \"#B6E880\", \"#FF97FF\", \"#FECB52\"], \"font\": {\"color\": \"#2a3f5f\"}, \"geo\": {\"bgcolor\": \"white\", \"lakecolor\": \"white\", \"landcolor\": \"#E5ECF6\", \"showlakes\": true, \"showland\": true, \"subunitcolor\": \"white\"}, \"hoverlabel\": {\"align\": \"left\"}, \"hovermode\": \"closest\", \"mapbox\": {\"style\": \"light\"}, \"paper_bgcolor\": \"white\", \"plot_bgcolor\": \"#E5ECF6\", \"polar\": {\"angularaxis\": {\"gridcolor\": \"white\", \"linecolor\": \"white\", \"ticks\": \"\"}, \"bgcolor\": \"#E5ECF6\", \"radialaxis\": {\"gridcolor\": \"white\", \"linecolor\": \"white\", \"ticks\": \"\"}}, \"scene\": {\"xaxis\": {\"backgroundcolor\": \"#E5ECF6\", \"gridcolor\": \"white\", \"gridwidth\": 2, \"linecolor\": \"white\", \"showbackground\": true, \"ticks\": \"\", \"zerolinecolor\": \"white\"}, \"yaxis\": {\"backgroundcolor\": \"#E5ECF6\", \"gridcolor\": \"white\", \"gridwidth\": 2, \"linecolor\": \"white\", \"showbackground\": true, \"ticks\": \"\", \"zerolinecolor\": \"white\"}, \"zaxis\": {\"backgroundcolor\": \"#E5ECF6\", \"gridcolor\": \"white\", \"gridwidth\": 2, \"linecolor\": \"white\", \"showbackground\": true, \"ticks\": \"\", \"zerolinecolor\": \"white\"}}, \"shapedefaults\": {\"line\": {\"color\": \"#2a3f5f\"}}, \"ternary\": {\"aaxis\": {\"gridcolor\": \"white\", \"linecolor\": \"white\", \"ticks\": \"\"}, \"baxis\": {\"gridcolor\": \"white\", \"linecolor\": \"white\", \"ticks\": \"\"}, \"bgcolor\": \"#E5ECF6\", \"caxis\": {\"gridcolor\": \"white\", \"linecolor\": \"white\", \"ticks\": \"\"}}, \"title\": {\"x\": 0.05}, \"xaxis\": {\"automargin\": true, \"gridcolor\": \"white\", \"linecolor\": \"white\", \"ticks\": \"\", \"title\": {\"standoff\": 15}, \"zerolinecolor\": \"white\", \"zerolinewidth\": 2}, \"yaxis\": {\"automargin\": true, \"gridcolor\": \"white\", \"linecolor\": \"white\", \"ticks\": \"\", \"title\": {\"standoff\": 15}, \"zerolinecolor\": \"white\", \"zerolinewidth\": 2}}}, \"title\": {\"text\": \"Swedish Automobiles Data\\n (visual comparison for correctness)\", \"x\": 0.5}, \"xaxis\": {\"linecolor\": \"black\", \"linewidth\": 2, \"mirror\": true, \"showline\": true, \"title\": {\"text\": \"Number of Claims\"}}, \"yaxis\": {\"linecolor\": \"black\", \"linewidth\": 2, \"mirror\": true, \"showline\": true, \"title\": {\"text\": \"Payment in Claims\"}}},\n",
              "                        {\"responsive\": true}\n",
              "                    ).then(function(){\n",
              "                            \n",
              "var gd = document.getElementById('5860b9b3-2f21-414d-9f04-87ef76e961f3');\n",
              "var x = new MutationObserver(function (mutations, observer) {{\n",
              "        var display = window.getComputedStyle(gd).display;\n",
              "        if (!display || display === 'none') {{\n",
              "            console.log([gd, 'removed!']);\n",
              "            Plotly.purge(gd);\n",
              "            observer.disconnect();\n",
              "        }}\n",
              "}});\n",
              "\n",
              "// Listen for the removal of the full notebook cells\n",
              "var notebookContainer = gd.closest('#notebook-container');\n",
              "if (notebookContainer) {{\n",
              "    x.observe(notebookContainer, {childList: true});\n",
              "}}\n",
              "\n",
              "// Listen for the clearing of the current output cell\n",
              "var outputEl = gd.closest('.output');\n",
              "if (outputEl) {{\n",
              "    x.observe(outputEl, {childList: true});\n",
              "}}\n",
              "\n",
              "                        })\n",
              "                };\n",
              "                \n",
              "            </script>\n",
              "        </div>\n",
              "</body>\n",
              "</html>"
            ]
          },
          "metadata": {
            "tags": []
          }
        }
      ]
    },
    {
      "cell_type": "markdown",
      "metadata": {
        "papermill": {
          "duration": 0.015737,
          "end_time": "2020-09-27T01:09:39.145756",
          "exception": false,
          "start_time": "2020-09-27T01:09:39.130019",
          "status": "completed"
        },
        "tags": [],
        "id": "BWSFX2gkp0rQ"
      },
      "source": [
        "## Where To Go From Here \n",
        "* <font color=\"red\">Can you find out the **mean squared error (MSE)** of the predictions???</font>\n",
        "* Extend the same problem for multiple input features. "
      ]
    },
    {
      "cell_type": "markdown",
      "metadata": {
        "id": "2fAMQJj8FQ_w"
      },
      "source": [
        "\n",
        "\n",
        "---\n",
        "\n"
      ]
    },
    {
      "cell_type": "markdown",
      "metadata": {
        "id": "LzhK5SI-y9fC"
      },
      "source": [
        "# Finding MSE (Mean Squared Error): \n",
        "\n"
      ]
    },
    {
      "cell_type": "code",
      "metadata": {
        "id": "rPejFtCowgST",
        "outputId": "25109478-1ded-4a0b-f1d5-d08b2e7970f0",
        "colab": {
          "base_uri": "https://localhost:8080/",
          "height": 34
        }
      },
      "source": [
        "data_y = data['Y'].values.copy()\n",
        "e = np.subtract(data_y, y_hat)\n",
        "sqe = e**2\n",
        "sumsqe = np.sum(sqe)\n",
        "mse = sumsqe/len(data_y)\n",
        "print('MSE: ', mse)"
      ],
      "execution_count": null,
      "outputs": [
        {
          "output_type": "stream",
          "text": [
            "MSE:  1250.7419293814687\n"
          ],
          "name": "stdout"
        }
      ]
    },
    {
      "cell_type": "markdown",
      "metadata": {
        "id": "Pmg_RpeUE8pI"
      },
      "source": [
        "<br>\n",
        "\n",
        "   ---\n",
        "\n",
        "<br>"
      ]
    },
    {
      "cell_type": "markdown",
      "metadata": {
        "id": "bGII3Xe7zHbM"
      },
      "source": [
        "#**Report:**\n",
        "\n",
        "**1.**  From the data we try to fit a simple linear regression line and try to predict the all Claimed Payment amount in thousands of Swedish Kronor (y) given the total number of claims (x).\n",
        "\n",
        "<br>\n",
        "\n",
        "**2.** We cannot fully, without any error predict the outcome. But the line gives us a good prediction against the actual outcome. \n",
        "\n",
        "  However, to have a more solid prediction, larger amount of data should be used. The more amount of data, the better the model.\n",
        "\n",
        "<br>\n",
        "\n",
        "**3.** Here, we have used MSE as a loss function. For the use of any other loss function we might yield a different outcome.\n",
        "\n",
        "<br>\n",
        "\n",
        "**4.** The regression line is heavily sensitive to the data, specially for the outliers. If we look at the data, we will see that there are two points on the far top right corner which act as outlier here. If you change the values, we will see that these affect the regression line greatly. \n",
        "\n",
        "This is demonstrated below: \n"
      ]
    },
    {
      "cell_type": "markdown",
      "metadata": {
        "id": "XtPjGDLj6igL"
      },
      "source": [
        "**(a)** Firstly, We will copy the Y values from the data and change the last 2 values to a very low values of y:"
      ]
    },
    {
      "cell_type": "code",
      "metadata": {
        "id": "THebHv5I050k",
        "outputId": "ce19ce02-fc1e-4fca-f12a-f832340f8663",
        "colab": {
          "base_uri": "https://localhost:8080/",
          "height": 136
        }
      },
      "source": [
        "lastValue = 8.5 #@param {type:\"slider\", min:0, max:1000, step:0.1} \n",
        "secondToLastValue = 23.7 #@param {type:\"slider\", min:0, max:1000, step:0.1}\n",
        "\n",
        "modified_y = data['Y'].values.copy()\n",
        "modified_y[-2] = secondToLastValue\n",
        "modified_y[-1] = lastValue\n",
        "modified_y"
      ],
      "execution_count": null,
      "outputs": [
        {
          "output_type": "execute_result",
          "data": {
            "text/plain": [
              "array([  0. ,   6.6,  39.9,  13.2,   4.4,  38.1,  12.6,  11.8,  40.3,\n",
              "        20.9,  50.9,  14.6,  14.8,  27.9,  48.8,  77.5,  76.1,  55.6,\n",
              "        48.7,  87.4,  52.1,  65.3,  57.2,  21.3,  23.5,  58.1,  31.9,\n",
              "        15.7,  93. ,  89.9,  77.5,  95.5,  32.1,  59.6, 142.1,  46.2,\n",
              "        98.1, 161.5, 113. ,  39.6,  56.9, 137.9, 134.9,  69.2, 187.5,\n",
              "        92.6, 103.9, 133.3, 194.5, 209.8, 152.8, 119.4,  73.4, 181.3,\n",
              "       214. , 248.1, 244.6, 162.8, 170.9, 202.4, 217.6,  23.7,   8.5])"
            ]
          },
          "metadata": {
            "tags": []
          },
          "execution_count": 424
        }
      ]
    },
    {
      "cell_type": "markdown",
      "metadata": {
        "id": "PGI2htXC8mNx"
      },
      "source": [
        "<br>\n",
        "\n",
        "**(b)** Now we will find the covariance of $x$ and $y_{modified}$, and mean of $y$ and coefficients.\n",
        "\n",
        "<br> \n",
        "\n",
        "Here for the second time our expression will be:\n",
        "$$ \\hat{y}_{modified} = b_{0_{modified}} + b_{1_{modified}} * x $$\n",
        "\n",
        "<br>"
      ]
    },
    {
      "cell_type": "code",
      "metadata": {
        "id": "hIoRgDXh7-xB",
        "outputId": "1d1b2fd8-2c84-41f0-da88-5df9f063e0f5",
        "colab": {
          "base_uri": "https://localhost:8080/",
          "height": 85
        }
      },
      "source": [
        "covar_xy_2 = covariance(data['X'].values, modified_y)\n",
        "print(f'Cov(X,Y) with modified y: {covar_xy_2}')\n",
        "\n",
        "mean_y_2 = np.mean(modified_y)\n",
        "\n",
        "b1_modified = covar_xy_2 / var_x\n",
        "b0_modified = mean_y_2 - b1_modified * mean_x\n",
        "\n",
        "print(f'\\nCoefficents:\\n b0_modified : {b0_modified}  b1_modified: {b1_modified} ')\n"
      ],
      "execution_count": null,
      "outputs": [
        {
          "output_type": "stream",
          "text": [
            "Cov(X,Y) with modified y: 670.0507936507934\n",
            "\n",
            "Coefficents:\n",
            " b0_modified : 57.16862948909716  b1_modified: 1.248562953698461 \n"
          ],
          "name": "stdout"
        }
      ]
    },
    {
      "cell_type": "markdown",
      "metadata": {
        "id": "ONhLDgntEQoV"
      },
      "source": [
        "<br>\n",
        "\n",
        "**(c)** Now we predict for the modified Y data:\n",
        "\n",
        "<br>\n"
      ]
    },
    {
      "cell_type": "code",
      "metadata": {
        "execution": {
          "iopub.execute_input": "2020-09-27T01:09:39.017221Z",
          "iopub.status.busy": "2020-09-27T01:09:39.011511Z",
          "iopub.status.idle": "2020-09-27T01:09:39.021351Z",
          "shell.execute_reply": "2020-09-27T01:09:39.020808Z"
        },
        "papermill": {
          "duration": 0.034409,
          "end_time": "2020-09-27T01:09:39.021470",
          "exception": false,
          "start_time": "2020-09-27T01:09:38.987061",
          "status": "completed"
        },
        "tags": [],
        "id": "4GxXLtA--aXR",
        "outputId": "1135efb7-08c7-49b4-ca2f-ee44f71d7f14",
        "colab": {
          "base_uri": "https://localhost:8080/",
          "height": 442
        }
      },
      "source": [
        "print(f'x: {x}')\n",
        "\n",
        "# Predicting the new data based on calculated coeffiecents \n",
        "y_hat_2 = b0_modified + b1_modified * x\n",
        "print(f'\\n\\n y_hat_2: {y_hat_2}')\n",
        "\n",
        "print('\\n\\n modified y: last 2 values: ', modified_y[-2:])\n",
        "\n",
        "y = data['Y'].values\n",
        "print('\\n\\n actual y: last 2 values: ', y[-2:])"
      ],
      "execution_count": null,
      "outputs": [
        {
          "output_type": "stream",
          "text": [
            "x: [  0   2   3   3   3   4   4   4   5   5   6   6   6   7   7   7   8   8\n",
            "   9   9   9  10  11  11  11  12  13  13  13  13  14  14  15  16  17  19\n",
            "  20  22  23  23  23  24  24  25  26  27  29  29  30  31  37  40  41  41\n",
            "  45  48  53  55  57  60  61 108 124]\n",
            "\n",
            "\n",
            " y_hat_2: [ 57.16862949  59.6657554   60.91431835  60.91431835  60.91431835\n",
            "  62.1628813   62.1628813   62.1628813   63.41144426  63.41144426\n",
            "  64.66000721  64.66000721  64.66000721  65.90857016  65.90857016\n",
            "  65.90857016  67.15713312  67.15713312  68.40569607  68.40569607\n",
            "  68.40569607  69.65425903  70.90282198  70.90282198  70.90282198\n",
            "  72.15138493  73.39994789  73.39994789  73.39994789  73.39994789\n",
            "  74.64851084  74.64851084  75.89707379  77.14563675  78.3941997\n",
            "  80.89132561  82.13988856  84.63701447  85.88557742  85.88557742\n",
            "  85.88557742  87.13414038  87.13414038  88.38270333  89.63126629\n",
            "  90.87982924  93.37695515  93.37695515  94.6255181   95.87408105\n",
            " 103.36545878 107.11114764 108.35971059 108.35971059 113.35396241\n",
            " 117.09965127 123.34246604 125.83959194 128.33671785 132.08240671\n",
            " 133.33096966 192.01342849 211.99043575]\n",
            "\n",
            "\n",
            " modified y: last 2 values:  [23.7  8.5]\n",
            "\n",
            "\n",
            " actual y: last 2 values:  [392.5 422.2]\n"
          ],
          "name": "stdout"
        }
      ]
    },
    {
      "cell_type": "code",
      "metadata": {
        "id": "Amd2c_S1JLz5",
        "outputId": "ede59298-81a8-495d-c980-5b219179a3bb",
        "colab": {
          "base_uri": "https://localhost:8080/",
          "height": 238
        }
      },
      "source": [
        "print(y_hat)"
      ],
      "execution_count": null,
      "outputs": [
        {
          "output_type": "stream",
          "text": [
            "[ 19.99448576  26.82213288  30.23595644  30.23595644  30.23595644\n",
            "  33.64978     33.64978     33.64978     37.06360356  37.06360356\n",
            "  40.47742712  40.47742712  40.47742712  43.89125068  43.89125068\n",
            "  43.89125068  47.30507424  47.30507424  50.7188978   50.7188978\n",
            "  50.7188978   54.13272136  57.54654492  57.54654492  57.54654492\n",
            "  60.96036848  64.37419204  64.37419204  64.37419204  64.37419204\n",
            "  67.7880156   67.7880156   71.20183916  74.61566272  78.02948628\n",
            "  84.8571334   88.27095696  95.09860408  98.51242764  98.51242764\n",
            "  98.51242764 101.9262512  101.9262512  105.34007476 108.75389832\n",
            " 112.16772188 118.995369   118.995369   122.40919256 125.82301612\n",
            " 146.30595748 156.54742816 159.96125172 159.96125172 173.61654596\n",
            " 183.85801664 200.92713444 207.75478156 214.58242868 224.82389936\n",
            " 228.23772292 388.68743025 443.30860721]\n"
          ],
          "name": "stdout"
        }
      ]
    },
    {
      "cell_type": "markdown",
      "metadata": {
        "id": "ggLt3BPWCewN"
      },
      "source": [
        "<br>\n",
        "\n",
        "**(d)** Now if we plot the new regression model against the new modified Y data: \n",
        "\n",
        "<br>\n"
      ]
    },
    {
      "cell_type": "code",
      "metadata": {
        "id": "BP9YYAuv7MH4",
        "outputId": "27a34561-9933-417b-e5b3-365ccf43b8c1",
        "colab": {
          "base_uri": "https://localhost:8080/",
          "height": 542
        }
      },
      "source": [
        "fig = go.Figure()\n",
        "\n",
        "fig.add_trace(go.Scatter(x=data['X'], y=modified_y, name='train 2', mode='markers', marker_color='rgba(152, 0, 152, .8)'))\n",
        "fig.add_trace(go.Scatter(x=data['X'], y=y_hat_2, name='prediction 2', mode='lines+markers', marker_color='rgba(0, 152, 0, .8)'))\n",
        "\n",
        "fig.update_layout(title = f'Effect of Outliers of Y data',title_x=0.5, xaxis_title= \"Number of Claims\", yaxis_title=\"Payment in Claims (with modified y data)\")\n",
        "fig.update_xaxes(showline=True, linewidth=2, linecolor='black', mirror=True)\n",
        "fig.update_yaxes(showline=True, linewidth=2, linecolor='black', mirror=True)\n",
        "fig.show()"
      ],
      "execution_count": null,
      "outputs": [
        {
          "output_type": "display_data",
          "data": {
            "text/html": [
              "<html>\n",
              "<head><meta charset=\"utf-8\" /></head>\n",
              "<body>\n",
              "    <div>\n",
              "            <script src=\"https://cdnjs.cloudflare.com/ajax/libs/mathjax/2.7.5/MathJax.js?config=TeX-AMS-MML_SVG\"></script><script type=\"text/javascript\">if (window.MathJax) {MathJax.Hub.Config({SVG: {font: \"STIX-Web\"}});}</script>\n",
              "                <script type=\"text/javascript\">window.PlotlyConfig = {MathJaxConfig: 'local'};</script>\n",
              "        <script src=\"https://cdn.plot.ly/plotly-latest.min.js\"></script>    \n",
              "            <div id=\"6f8dd020-164b-4835-81e1-6e18b6aceb5f\" class=\"plotly-graph-div\" style=\"height:525px; width:100%;\"></div>\n",
              "            <script type=\"text/javascript\">\n",
              "                \n",
              "                    window.PLOTLYENV=window.PLOTLYENV || {};\n",
              "                    \n",
              "                if (document.getElementById(\"6f8dd020-164b-4835-81e1-6e18b6aceb5f\")) {\n",
              "                    Plotly.newPlot(\n",
              "                        '6f8dd020-164b-4835-81e1-6e18b6aceb5f',\n",
              "                        [{\"marker\": {\"color\": \"rgba(152, 0, 152, .8)\"}, \"mode\": \"markers\", \"name\": \"train 2\", \"type\": \"scatter\", \"x\": [0, 2, 3, 3, 3, 4, 4, 4, 5, 5, 6, 6, 6, 7, 7, 7, 8, 8, 9, 9, 9, 10, 11, 11, 11, 12, 13, 13, 13, 13, 14, 14, 15, 16, 17, 19, 20, 22, 23, 23, 23, 24, 24, 25, 26, 27, 29, 29, 30, 31, 37, 40, 41, 41, 45, 48, 53, 55, 57, 60, 61, 108, 124], \"y\": [0.0, 6.6, 39.9, 13.2, 4.4, 38.1, 12.6, 11.8, 40.3, 20.9, 50.9, 14.6, 14.8, 27.9, 48.8, 77.5, 76.1, 55.6, 48.7, 87.4, 52.1, 65.3, 57.2, 21.3, 23.5, 58.1, 31.9, 15.7, 93.0, 89.9, 77.5, 95.5, 32.1, 59.6, 142.1, 46.2, 98.1, 161.5, 113.0, 39.6, 56.9, 137.9, 134.9, 69.2, 187.5, 92.6, 103.9, 133.3, 194.5, 209.8, 152.8, 119.4, 73.4, 181.3, 214.0, 248.1, 244.6, 162.8, 170.9, 202.4, 217.6, 23.7, 8.5]}, {\"marker\": {\"color\": \"rgba(0, 152, 0, .8)\"}, \"mode\": \"lines+markers\", \"name\": \"prediction 2\", \"type\": \"scatter\", \"x\": [0, 2, 3, 3, 3, 4, 4, 4, 5, 5, 6, 6, 6, 7, 7, 7, 8, 8, 9, 9, 9, 10, 11, 11, 11, 12, 13, 13, 13, 13, 14, 14, 15, 16, 17, 19, 20, 22, 23, 23, 23, 24, 24, 25, 26, 27, 29, 29, 30, 31, 37, 40, 41, 41, 45, 48, 53, 55, 57, 60, 61, 108, 124], \"y\": [57.16862948909716, 59.66575539649408, 60.91431835019254, 60.91431835019254, 60.91431835019254, 62.162881303891, 62.162881303891, 62.162881303891, 63.411444257589466, 63.411444257589466, 64.66000721128792, 64.66000721128792, 64.66000721128792, 65.90857016498639, 65.90857016498639, 65.90857016498639, 67.15713311868484, 67.15713311868484, 68.40569607238331, 68.40569607238331, 68.40569607238331, 69.65425902608177, 70.90282197978023, 70.90282197978023, 70.90282197978023, 72.15138493347868, 73.39994788717715, 73.39994788717715, 73.39994788717715, 73.39994788717715, 74.64851084087562, 74.64851084087562, 75.89707379457407, 77.14563674827254, 78.39419970197099, 80.89132560936793, 82.13988856306638, 84.6370144704633, 85.88557742416177, 85.88557742416177, 85.88557742416177, 87.13414037786022, 87.13414037786022, 88.38270333155869, 89.63126628525714, 90.87982923895561, 93.37695514635253, 93.37695514635253, 94.62551810005098, 95.87408105374945, 103.36545877594021, 107.1111476370356, 108.35971059073407, 108.35971059073407, 113.35396240552791, 117.09965126662328, 123.34246603511559, 125.83959194251251, 128.33671784990943, 132.0824067110048, 133.33096966470328, 192.01342848853096, 211.99043574770633]}],\n",
              "                        {\"template\": {\"data\": {\"bar\": [{\"error_x\": {\"color\": \"#2a3f5f\"}, \"error_y\": {\"color\": \"#2a3f5f\"}, \"marker\": {\"line\": {\"color\": \"#E5ECF6\", \"width\": 0.5}}, \"type\": \"bar\"}], \"barpolar\": [{\"marker\": {\"line\": {\"color\": \"#E5ECF6\", \"width\": 0.5}}, \"type\": \"barpolar\"}], \"carpet\": [{\"aaxis\": {\"endlinecolor\": \"#2a3f5f\", \"gridcolor\": \"white\", \"linecolor\": \"white\", \"minorgridcolor\": \"white\", \"startlinecolor\": \"#2a3f5f\"}, \"baxis\": {\"endlinecolor\": \"#2a3f5f\", \"gridcolor\": \"white\", \"linecolor\": \"white\", \"minorgridcolor\": \"white\", \"startlinecolor\": \"#2a3f5f\"}, \"type\": \"carpet\"}], \"choropleth\": [{\"colorbar\": {\"outlinewidth\": 0, \"ticks\": \"\"}, \"type\": \"choropleth\"}], \"contour\": [{\"colorbar\": {\"outlinewidth\": 0, \"ticks\": \"\"}, \"colorscale\": [[0.0, \"#0d0887\"], [0.1111111111111111, \"#46039f\"], [0.2222222222222222, \"#7201a8\"], [0.3333333333333333, \"#9c179e\"], [0.4444444444444444, \"#bd3786\"], [0.5555555555555556, \"#d8576b\"], [0.6666666666666666, \"#ed7953\"], [0.7777777777777778, \"#fb9f3a\"], [0.8888888888888888, \"#fdca26\"], [1.0, \"#f0f921\"]], \"type\": \"contour\"}], \"contourcarpet\": [{\"colorbar\": {\"outlinewidth\": 0, \"ticks\": \"\"}, \"type\": \"contourcarpet\"}], \"heatmap\": [{\"colorbar\": {\"outlinewidth\": 0, \"ticks\": \"\"}, \"colorscale\": [[0.0, \"#0d0887\"], [0.1111111111111111, \"#46039f\"], [0.2222222222222222, \"#7201a8\"], [0.3333333333333333, \"#9c179e\"], [0.4444444444444444, \"#bd3786\"], [0.5555555555555556, \"#d8576b\"], [0.6666666666666666, \"#ed7953\"], [0.7777777777777778, \"#fb9f3a\"], [0.8888888888888888, \"#fdca26\"], [1.0, \"#f0f921\"]], \"type\": \"heatmap\"}], \"heatmapgl\": [{\"colorbar\": {\"outlinewidth\": 0, \"ticks\": \"\"}, \"colorscale\": [[0.0, \"#0d0887\"], [0.1111111111111111, \"#46039f\"], [0.2222222222222222, \"#7201a8\"], [0.3333333333333333, \"#9c179e\"], [0.4444444444444444, \"#bd3786\"], [0.5555555555555556, \"#d8576b\"], [0.6666666666666666, \"#ed7953\"], [0.7777777777777778, \"#fb9f3a\"], [0.8888888888888888, \"#fdca26\"], [1.0, \"#f0f921\"]], \"type\": \"heatmapgl\"}], \"histogram\": [{\"marker\": {\"colorbar\": {\"outlinewidth\": 0, \"ticks\": \"\"}}, \"type\": \"histogram\"}], \"histogram2d\": [{\"colorbar\": {\"outlinewidth\": 0, \"ticks\": \"\"}, \"colorscale\": [[0.0, \"#0d0887\"], [0.1111111111111111, \"#46039f\"], [0.2222222222222222, \"#7201a8\"], [0.3333333333333333, \"#9c179e\"], [0.4444444444444444, \"#bd3786\"], [0.5555555555555556, \"#d8576b\"], [0.6666666666666666, \"#ed7953\"], [0.7777777777777778, \"#fb9f3a\"], [0.8888888888888888, \"#fdca26\"], [1.0, \"#f0f921\"]], \"type\": \"histogram2d\"}], \"histogram2dcontour\": [{\"colorbar\": {\"outlinewidth\": 0, \"ticks\": \"\"}, \"colorscale\": [[0.0, \"#0d0887\"], [0.1111111111111111, \"#46039f\"], [0.2222222222222222, \"#7201a8\"], [0.3333333333333333, \"#9c179e\"], [0.4444444444444444, \"#bd3786\"], [0.5555555555555556, \"#d8576b\"], [0.6666666666666666, \"#ed7953\"], [0.7777777777777778, \"#fb9f3a\"], [0.8888888888888888, \"#fdca26\"], [1.0, \"#f0f921\"]], \"type\": \"histogram2dcontour\"}], \"mesh3d\": [{\"colorbar\": {\"outlinewidth\": 0, \"ticks\": \"\"}, \"type\": \"mesh3d\"}], \"parcoords\": [{\"line\": {\"colorbar\": {\"outlinewidth\": 0, \"ticks\": \"\"}}, \"type\": \"parcoords\"}], \"pie\": [{\"automargin\": true, \"type\": \"pie\"}], \"scatter\": [{\"marker\": {\"colorbar\": {\"outlinewidth\": 0, \"ticks\": \"\"}}, \"type\": \"scatter\"}], \"scatter3d\": [{\"line\": {\"colorbar\": {\"outlinewidth\": 0, \"ticks\": \"\"}}, \"marker\": {\"colorbar\": {\"outlinewidth\": 0, \"ticks\": \"\"}}, \"type\": \"scatter3d\"}], \"scattercarpet\": [{\"marker\": {\"colorbar\": {\"outlinewidth\": 0, \"ticks\": \"\"}}, \"type\": \"scattercarpet\"}], \"scattergeo\": [{\"marker\": {\"colorbar\": {\"outlinewidth\": 0, \"ticks\": \"\"}}, \"type\": \"scattergeo\"}], \"scattergl\": [{\"marker\": {\"colorbar\": {\"outlinewidth\": 0, \"ticks\": \"\"}}, \"type\": \"scattergl\"}], \"scattermapbox\": [{\"marker\": {\"colorbar\": {\"outlinewidth\": 0, \"ticks\": \"\"}}, \"type\": \"scattermapbox\"}], \"scatterpolar\": [{\"marker\": {\"colorbar\": {\"outlinewidth\": 0, \"ticks\": \"\"}}, \"type\": \"scatterpolar\"}], \"scatterpolargl\": [{\"marker\": {\"colorbar\": {\"outlinewidth\": 0, \"ticks\": \"\"}}, \"type\": \"scatterpolargl\"}], \"scatterternary\": [{\"marker\": {\"colorbar\": {\"outlinewidth\": 0, \"ticks\": \"\"}}, \"type\": \"scatterternary\"}], \"surface\": [{\"colorbar\": {\"outlinewidth\": 0, \"ticks\": \"\"}, \"colorscale\": [[0.0, \"#0d0887\"], [0.1111111111111111, \"#46039f\"], [0.2222222222222222, \"#7201a8\"], [0.3333333333333333, \"#9c179e\"], [0.4444444444444444, \"#bd3786\"], [0.5555555555555556, \"#d8576b\"], [0.6666666666666666, \"#ed7953\"], [0.7777777777777778, \"#fb9f3a\"], [0.8888888888888888, \"#fdca26\"], [1.0, \"#f0f921\"]], \"type\": \"surface\"}], \"table\": [{\"cells\": {\"fill\": {\"color\": \"#EBF0F8\"}, \"line\": {\"color\": \"white\"}}, \"header\": {\"fill\": {\"color\": \"#C8D4E3\"}, \"line\": {\"color\": \"white\"}}, \"type\": \"table\"}]}, \"layout\": {\"annotationdefaults\": {\"arrowcolor\": \"#2a3f5f\", \"arrowhead\": 0, \"arrowwidth\": 1}, \"coloraxis\": {\"colorbar\": {\"outlinewidth\": 0, \"ticks\": \"\"}}, \"colorscale\": {\"diverging\": [[0, \"#8e0152\"], [0.1, \"#c51b7d\"], [0.2, \"#de77ae\"], [0.3, \"#f1b6da\"], [0.4, \"#fde0ef\"], [0.5, \"#f7f7f7\"], [0.6, \"#e6f5d0\"], [0.7, \"#b8e186\"], [0.8, \"#7fbc41\"], [0.9, \"#4d9221\"], [1, \"#276419\"]], \"sequential\": [[0.0, \"#0d0887\"], [0.1111111111111111, \"#46039f\"], [0.2222222222222222, \"#7201a8\"], [0.3333333333333333, \"#9c179e\"], [0.4444444444444444, \"#bd3786\"], [0.5555555555555556, \"#d8576b\"], [0.6666666666666666, \"#ed7953\"], [0.7777777777777778, \"#fb9f3a\"], [0.8888888888888888, \"#fdca26\"], [1.0, \"#f0f921\"]], \"sequentialminus\": [[0.0, \"#0d0887\"], [0.1111111111111111, \"#46039f\"], [0.2222222222222222, \"#7201a8\"], [0.3333333333333333, \"#9c179e\"], [0.4444444444444444, \"#bd3786\"], [0.5555555555555556, \"#d8576b\"], [0.6666666666666666, \"#ed7953\"], [0.7777777777777778, \"#fb9f3a\"], [0.8888888888888888, \"#fdca26\"], [1.0, \"#f0f921\"]]}, \"colorway\": [\"#636efa\", \"#EF553B\", \"#00cc96\", \"#ab63fa\", \"#FFA15A\", \"#19d3f3\", \"#FF6692\", \"#B6E880\", \"#FF97FF\", \"#FECB52\"], \"font\": {\"color\": \"#2a3f5f\"}, \"geo\": {\"bgcolor\": \"white\", \"lakecolor\": \"white\", \"landcolor\": \"#E5ECF6\", \"showlakes\": true, \"showland\": true, \"subunitcolor\": \"white\"}, \"hoverlabel\": {\"align\": \"left\"}, \"hovermode\": \"closest\", \"mapbox\": {\"style\": \"light\"}, \"paper_bgcolor\": \"white\", \"plot_bgcolor\": \"#E5ECF6\", \"polar\": {\"angularaxis\": {\"gridcolor\": \"white\", \"linecolor\": \"white\", \"ticks\": \"\"}, \"bgcolor\": \"#E5ECF6\", \"radialaxis\": {\"gridcolor\": \"white\", \"linecolor\": \"white\", \"ticks\": \"\"}}, \"scene\": {\"xaxis\": {\"backgroundcolor\": \"#E5ECF6\", \"gridcolor\": \"white\", \"gridwidth\": 2, \"linecolor\": \"white\", \"showbackground\": true, \"ticks\": \"\", \"zerolinecolor\": \"white\"}, \"yaxis\": {\"backgroundcolor\": \"#E5ECF6\", \"gridcolor\": \"white\", \"gridwidth\": 2, \"linecolor\": \"white\", \"showbackground\": true, \"ticks\": \"\", \"zerolinecolor\": \"white\"}, \"zaxis\": {\"backgroundcolor\": \"#E5ECF6\", \"gridcolor\": \"white\", \"gridwidth\": 2, \"linecolor\": \"white\", \"showbackground\": true, \"ticks\": \"\", \"zerolinecolor\": \"white\"}}, \"shapedefaults\": {\"line\": {\"color\": \"#2a3f5f\"}}, \"ternary\": {\"aaxis\": {\"gridcolor\": \"white\", \"linecolor\": \"white\", \"ticks\": \"\"}, \"baxis\": {\"gridcolor\": \"white\", \"linecolor\": \"white\", \"ticks\": \"\"}, \"bgcolor\": \"#E5ECF6\", \"caxis\": {\"gridcolor\": \"white\", \"linecolor\": \"white\", \"ticks\": \"\"}}, \"title\": {\"x\": 0.05}, \"xaxis\": {\"automargin\": true, \"gridcolor\": \"white\", \"linecolor\": \"white\", \"ticks\": \"\", \"title\": {\"standoff\": 15}, \"zerolinecolor\": \"white\", \"zerolinewidth\": 2}, \"yaxis\": {\"automargin\": true, \"gridcolor\": \"white\", \"linecolor\": \"white\", \"ticks\": \"\", \"title\": {\"standoff\": 15}, \"zerolinecolor\": \"white\", \"zerolinewidth\": 2}}}, \"title\": {\"text\": \"Effect of Outliers of Y data\", \"x\": 0.5}, \"xaxis\": {\"linecolor\": \"black\", \"linewidth\": 2, \"mirror\": true, \"showline\": true, \"title\": {\"text\": \"Number of Claims\"}}, \"yaxis\": {\"linecolor\": \"black\", \"linewidth\": 2, \"mirror\": true, \"showline\": true, \"title\": {\"text\": \"Payment in Claims (with modified y data)\"}}},\n",
              "                        {\"responsive\": true}\n",
              "                    ).then(function(){\n",
              "                            \n",
              "var gd = document.getElementById('6f8dd020-164b-4835-81e1-6e18b6aceb5f');\n",
              "var x = new MutationObserver(function (mutations, observer) {{\n",
              "        var display = window.getComputedStyle(gd).display;\n",
              "        if (!display || display === 'none') {{\n",
              "            console.log([gd, 'removed!']);\n",
              "            Plotly.purge(gd);\n",
              "            observer.disconnect();\n",
              "        }}\n",
              "}});\n",
              "\n",
              "// Listen for the removal of the full notebook cells\n",
              "var notebookContainer = gd.closest('#notebook-container');\n",
              "if (notebookContainer) {{\n",
              "    x.observe(notebookContainer, {childList: true});\n",
              "}}\n",
              "\n",
              "// Listen for the clearing of the current output cell\n",
              "var outputEl = gd.closest('.output');\n",
              "if (outputEl) {{\n",
              "    x.observe(outputEl, {childList: true});\n",
              "}}\n",
              "\n",
              "                        })\n",
              "                };\n",
              "                \n",
              "            </script>\n",
              "        </div>\n",
              "</body>\n",
              "</html>"
            ]
          },
          "metadata": {
            "tags": []
          }
        }
      ]
    },
    {
      "cell_type": "markdown",
      "metadata": {
        "id": "wXdfBaRh_-XL"
      },
      "source": [
        "<br>\n",
        "\n",
        "**(e)** And the new MSE will be: \n",
        "\n",
        "<br>\n"
      ]
    },
    {
      "cell_type": "code",
      "metadata": {
        "id": "agkMRCIPAFBU",
        "outputId": "4d94bb7a-e060-456d-8e5e-e0072c2a7fc5",
        "colab": {
          "base_uri": "https://localhost:8080/",
          "height": 34
        }
      },
      "source": [
        "e_2 = np.subtract(modified_y, y_hat_2)\n",
        "sqe_2 = e_2**2\n",
        "sumsqe_2 = np.sum(sqe_2)\n",
        "mse_2 = sumsqe_2/len(modified_y)\n",
        "print('MSE of new modified Y data: ', mse_2)"
      ],
      "execution_count": null,
      "outputs": [
        {
          "output_type": "stream",
          "text": [
            "MSE of new modified Y data:  3688.5917829037476\n"
          ],
          "name": "stdout"
        }
      ]
    },
    {
      "cell_type": "markdown",
      "metadata": {
        "id": "b3cnl0FrAh9d"
      },
      "source": [
        "<br>\n",
        "\n",
        "Conclusion: <br>\n",
        "\n",
        "As we can see, for the outlier two points in the actual dataform $(x,y) = (108, 392.5) $ and $ (124, 422.2) $, if we changed them to a newer and lower value of y of $(x,y) = (108, 150.5) $ and $ (124, 170.3) $ , then the whole prediction changes hugely. The linear regression model changes drastically and MSE (Mean Sqaured Error) increases largely as well. \n",
        "\n",
        "This is because of the effect that the outliers have on linear regression model. To solve this, we can include even more data and clean the data from outliers. "
      ]
    }
  ]
}